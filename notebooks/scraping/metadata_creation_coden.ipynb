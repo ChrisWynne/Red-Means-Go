{
 "cells": [
  {
   "cell_type": "code",
   "execution_count": null,
   "metadata": {},
   "outputs": [],
   "source": []
  },
  {
   "cell_type": "markdown",
   "metadata": {},
   "source": [
    "# Metadata creation"
   ]
  },
  {
   "cell_type": "code",
   "execution_count": null,
   "metadata": {},
   "outputs": [],
   "source": [
    "import os\n",
    "import sys\n",
    "import json\n",
    "import pandas as pd\n",
    "\n",
    "sys.path.insert(0, os.path.abspath('../../src/scraping'))\n",
    "import youtube_requesting as ytr\n",
    "import metadata as mdata\n",
    "\n",
    "ROOT_DIR = \"../../\""
   ]
  },
  {
   "cell_type": "code",
   "execution_count": null,
   "metadata": {
    "scrolled": true
   },
   "outputs": [],
   "source": [
    "with open(ROOT_DIR + \"config/\" + \"config-scraping.json\") as f:\n",
    "    cfg = json.load(f)\n",
    "with open(ROOT_DIR + \"api_key.json\") as json_file:\n",
    "    cred = json.load(json_file)"
   ]
  },
  {
   "cell_type": "code",
   "execution_count": null,
   "metadata": {},
   "outputs": [],
   "source": [
    "data = mdata.fetch_raw_data(ROOT_DIR, cfg)\n",
    "\n",
    "api_key = cred['api_key']\n",
    "\n",
    "df = mdata.make_mdata_df(data[\"04_16_20\"], api_key)"
   ]
  },
  {
   "cell_type": "code",
   "execution_count": null,
   "metadata": {
    "scrolled": true
   },
   "outputs": [],
   "source": [
    "df"
   ]
  },
  {
   "cell_type": "code",
   "execution_count": null,
   "metadata": {},
   "outputs": [],
   "source": [
    "game = cfg[\"selected-game\"]\n",
    "df.to_csv(ROOT_DIR + cfg[\"videos-dir\"] + game + '/{}_metadata.csv'.format(game), index=False)"
   ]
  },
  {
   "cell_type": "markdown",
   "metadata": {},
   "source": [
    "# Downloading thumbnails"
   ]
  },
  {
   "cell_type": "code",
   "execution_count": null,
   "metadata": {
    "scrolled": true
   },
   "outputs": [],
   "source": [
    "mdata.download_df_thumbs(df, ROOT_DIR + cfg[\"thumbnails-dir\"] + cfg[\"selected-game\"] + '/', res=\"default\")"
   ]
  },
  {
   "cell_type": "code",
   "execution_count": null,
   "metadata": {},
   "outputs": [],
   "source": [
    "df = pd.read_csv(ROOT_DIR + cfg[\"videos-dir\"] + cfg[\"selected-game\"] + \"/fortnite_metadata.csv\")"
   ]
  },
  {
   "cell_type": "markdown",
   "metadata": {},
   "source": [
    "# Statistics"
   ]
  },
  {
   "cell_type": "markdown",
   "metadata": {},
   "source": [
    "### Desired functions:\n",
    "- Given a video_id, get the surrounding videos and z-score that video in comparison.\n",
    "- Get the basic video statistics surrounding a video\n",
    "    - Likes\n",
    "    - Dislikes\n",
    "    - Views\n",
    "    - Subscriber count\n",
    "    - Video length(?)\n",
    "- Combination of all stats to form a \"success score\"\n",
    "\n",
    "### Note on api costs\n",
    "Calculate those costs here:\n",
    "https://developers.google.com/youtube/v3/determine_quota_cost"
   ]
  },
  {
   "cell_type": "code",
   "execution_count": null,
   "metadata": {},
   "outputs": [],
   "source": [
    "# Parameters\n",
    "\n",
    "# When calculating z-score of a video, grab the +- x videos surrounding the target video.\n",
    "nearest_videos = 5"
   ]
  },
  {
   "cell_type": "markdown",
   "metadata": {},
   "source": [
    "## Possible success metrics\n",
    "Available measurements:\n",
    "- date\n",
    "- views (COUNT)\n",
    "- likes (COUNT)\n",
    "- dislikes (COUNT)\n",
    "- comments (COUNT)\n",
    "\n",
    "Metadata recommendations from here (page 6-7):\n",
    "https://www.sciencedirect.com/science/article/pii/S187705091731757X/pdf?md5=5961456d3adc0f65e03cff17279317d2&pid=1-s2.0-S187705091731757X-main.pdf\n",
    "\n",
    "Get a number of videos from the parent channel closest to the selected video in date and zscore the available measurements, then average those measurements.\n",
    "\n",
    "Weight views higher?\n",
    "\n",
    "Make another function that can take in an input of a list of video ids"
   ]
  },
  {
   "cell_type": "markdown",
   "metadata": {},
   "source": [
    "## Statistics\n",
    "#### (WIP)\n",
    "Add in a measurement for video time length"
   ]
  },
  {
   "cell_type": "markdown",
   "metadata": {},
   "source": [
    "Expecting a new input\n",
    "\n",
    "`\n",
    "{'video_id': '4uf2x-O_pBw',\n",
    " 'position': '0',\n",
    " 'channel_videos': ['4uf2x-O_pBw', '8cu4qAoeXow', 'TZK-sk5Yvfw'],\n",
    " 'channel_id':str}\n",
    "`"
   ]
  },
  {
   "cell_type": "code",
   "execution_count": null,
   "metadata": {},
   "outputs": [],
   "source": [
    "def get_channel_vids_stats(videos):\n",
    "    stats = []\n",
    "    for v in videos:\n",
    "        curr_vid = ytr.request_video_details(v,\n",
    "                                             api_key,\n",
    "                                             api_service_name,\n",
    "                                             api_version)['items'][0]\n",
    "        stats.append(ytr.get_vid_stats(curr_vid))\n",
    "        time.sleep(1)\n",
    "    \n",
    "    return pd.DataFrame(stats)"
   ]
  },
  {
   "cell_type": "code",
   "execution_count": null,
   "metadata": {},
   "outputs": [],
   "source": [
    "def video_success(in_dict):\n",
    "    vid_stats = get_channel_vids_stats(in_dict[\"channel_videos\"])\n",
    "    \n",
    "    # A lower number position means the video is more popular.\n",
    "    position_weight = 1.5\n",
    "    position_score = (1 - (in_dict[\"position\"] / len(in_dict[\"channel_videos\"]))) * position_weight\n",
    "    \n",
    "    zscores = vid_stats[[\"comments\", \"dislikes\", \"likes\", \"views\"]].apply(scipy.stats.zscore)\n",
    "    \n",
    "    return position_score + zscores.loc[in_dict[\"position\"]].sum()"
   ]
  },
  {
   "cell_type": "code",
   "execution_count": null,
   "metadata": {},
   "outputs": [],
   "source": [
    "def video_success(row, weights=[1 for _ in len(row)]):\n",
    "    position_score = (1 - (row.loc[\"position\"] / len(in_dict[\"channel_videos\"]))) * position_weight"
   ]
  },
  {
   "cell_type": "code",
   "execution_count": null,
   "metadata": {},
   "outputs": [],
   "source": [
    "df.keys()"
   ]
  },
  {
   "cell_type": "code",
   "execution_count": null,
   "metadata": {},
   "outputs": [],
   "source": [
    "row = df.iloc[0]"
   ]
  },
  {
   "cell_type": "code",
   "execution_count": null,
   "metadata": {},
   "outputs": [],
   "source": [
    "row"
   ]
  },
  {
   "cell_type": "code",
   "execution_count": null,
   "metadata": {},
   "outputs": [],
   "source": []
  }
 ],
 "metadata": {
  "kernelspec": {
   "display_name": "Python 3",
   "language": "python",
   "name": "python3"
  },
  "language_info": {
   "codemirror_mode": {
    "name": "ipython",
    "version": 3
   },
   "file_extension": ".py",
   "mimetype": "text/x-python",
   "name": "python",
   "nbconvert_exporter": "python",
   "pygments_lexer": "ipython3",
   "version": "3.7.4"
  }
 },
 "nbformat": 4,
 "nbformat_minor": 4
}
