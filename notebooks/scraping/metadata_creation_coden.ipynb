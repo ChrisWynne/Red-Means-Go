{
 "cells": [
  {
   "cell_type": "markdown",
   "metadata": {},
   "source": [
    "# Metadata creation"
   ]
  },
  {
   "cell_type": "code",
   "execution_count": 1,
   "metadata": {},
   "outputs": [],
   "source": [
    "ROOT_DIR = \"../../\""
   ]
  },
  {
   "cell_type": "code",
   "execution_count": 2,
   "metadata": {},
   "outputs": [],
   "source": [
    "import os\n",
    "import sys\n",
    "import json\n",
    "import pandas as pd\n",
    "from scipy.stats import zscore\n",
    "\n",
    "sys.path.insert(0, os.path.abspath(ROOT_DIR + 'src/scraping'))\n",
    "import youtube_requesting as ytr\n",
    "import metadata as mdata"
   ]
  },
  {
   "cell_type": "code",
   "execution_count": 4,
   "metadata": {
    "scrolled": true
   },
   "outputs": [],
   "source": [
    "with open(ROOT_DIR + \"config/\" + \"config-scraping.json\") as f:\n",
    "    cfg = json.load(f)\n",
    "with open(ROOT_DIR + \"api_key.json\") as json_file:\n",
    "    cred = json.load(json_file)"
   ]
  },
  {
   "cell_type": "code",
   "execution_count": 6,
   "metadata": {
    "scrolled": true
   },
   "outputs": [],
   "source": [
    "api_service_name = \"youtube\"\n",
    "api_version = \"v3\""
   ]
  },
  {
   "cell_type": "code",
   "execution_count": 7,
   "metadata": {
    "scrolled": true
   },
   "outputs": [],
   "source": [
    "api_key = cred['api_key']\n",
    "game = cfg[\"selected-game\"]\n",
    "\n",
    "# data = mdata.fetch_raw_data(ROOT_DIR + cfg[\"videos-dir\"].format(game) + '/', cfg)\n",
    "# df = mdata.make_mdata_df(data[\"04_16_20\"], api_key)\n",
    "# df.to_csv(ROOT_DIR + cfg[\"videos-dir\"].format(game) + '/{}_metadata.csv'.format(game), index=False)"
   ]
  },
  {
   "cell_type": "code",
   "execution_count": 11,
   "metadata": {
    "scrolled": true
   },
   "outputs": [
    {
     "data": {
      "text/html": [
       "<div>\n",
       "<style scoped>\n",
       "    .dataframe tbody tr th:only-of-type {\n",
       "        vertical-align: middle;\n",
       "    }\n",
       "\n",
       "    .dataframe tbody tr th {\n",
       "        vertical-align: top;\n",
       "    }\n",
       "\n",
       "    .dataframe thead th {\n",
       "        text-align: right;\n",
       "    }\n",
       "</style>\n",
       "<table border=\"1\" class=\"dataframe\">\n",
       "  <thead>\n",
       "    <tr style=\"text-align: right;\">\n",
       "      <th></th>\n",
       "      <th>video_id</th>\n",
       "      <th>position</th>\n",
       "      <th>channel_videos</th>\n",
       "      <th>viewCount</th>\n",
       "      <th>likeCount</th>\n",
       "      <th>dislikeCount</th>\n",
       "      <th>favoriteCount</th>\n",
       "      <th>commentCount</th>\n",
       "      <th>publishedAt</th>\n",
       "      <th>channelId</th>\n",
       "      <th>title</th>\n",
       "      <th>description</th>\n",
       "      <th>thumbnails</th>\n",
       "      <th>channelTitle</th>\n",
       "      <th>tags</th>\n",
       "      <th>categoryId</th>\n",
       "      <th>channel_id</th>\n",
       "      <th>defaultLanguage</th>\n",
       "    </tr>\n",
       "  </thead>\n",
       "  <tbody>\n",
       "    <tr>\n",
       "      <th>0</th>\n",
       "      <td>D4sP53qTfwk</td>\n",
       "      <td>0</td>\n",
       "      <td>['D4sP53qTfwk', 'ODE3JHAf1C0', '73zECODcezo', ...</td>\n",
       "      <td>2392093</td>\n",
       "      <td>68624</td>\n",
       "      <td>1495</td>\n",
       "      <td>0</td>\n",
       "      <td>3079.0</td>\n",
       "      <td>2020-04-16T17:00:05.000Z</td>\n",
       "      <td>UC_q5WZtFp36adwqhKpZzxwQ</td>\n",
       "      <td>I Told 100 Streamsnipers To Drop PRISON and WO...</td>\n",
       "      <td>You guys always LOVE these 100 streamsniper vi...</td>\n",
       "      <td>{'default': {'url': 'https://i.ytimg.com/vi/D4...</td>\n",
       "      <td>SypherPK</td>\n",
       "      <td>['fortnite', 'fortnite battle royale', 'compet...</td>\n",
       "      <td>20</td>\n",
       "      <td>UC_q5WZtFp36adwqhKpZzxwQ</td>\n",
       "      <td>NaN</td>\n",
       "    </tr>\n",
       "    <tr>\n",
       "      <th>1</th>\n",
       "      <td>3k6_ymss6NA</td>\n",
       "      <td>1</td>\n",
       "      <td>['rqT9fKAe8dY', 'c-tOHFMvC-g', '3k6_ymss6NA', ...</td>\n",
       "      <td>1880488</td>\n",
       "      <td>67387</td>\n",
       "      <td>673</td>\n",
       "      <td>0</td>\n",
       "      <td>5529.0</td>\n",
       "      <td>2020-04-14T19:39:33.000Z</td>\n",
       "      <td>UCqsBym4OHrzSp0Nq1eZoMIA</td>\n",
       "      <td>THE BEST SOLO PLAYER IN FORTNITE</td>\n",
       "      <td>Use Code: FRESH | SUBSCRIBE! https://goo.gl/gK...</td>\n",
       "      <td>{'default': {'url': 'https://i.ytimg.com/vi/3k...</td>\n",
       "      <td>mrfreshasian</td>\n",
       "      <td>['fortnite', 'fortnitebr', 'fortnite battle ro...</td>\n",
       "      <td>20</td>\n",
       "      <td>UCqsBym4OHrzSp0Nq1eZoMIA</td>\n",
       "      <td>NaN</td>\n",
       "    </tr>\n",
       "    <tr>\n",
       "      <th>2</th>\n",
       "      <td>ytJuE6RMKUw</td>\n",
       "      <td>2</td>\n",
       "      <td>['ytJuE6RMKUw', 'reBpDGqNlbo', 'Zzr5BrTqU_4', ...</td>\n",
       "      <td>502109</td>\n",
       "      <td>29335</td>\n",
       "      <td>334</td>\n",
       "      <td>0</td>\n",
       "      <td>1619.0</td>\n",
       "      <td>2020-04-15T21:53:52.000Z</td>\n",
       "      <td>UCuMVy-cfz29-qSMxz0ZbzcQ</td>\n",
       "      <td>PROTECT THE PRESIDENT challenge in Fortnite...</td>\n",
       "      <td>PROTECT THE PRESIDENT challenge in Fortnite......</td>\n",
       "      <td>{'default': {'url': 'https://i.ytimg.com/vi/yt...</td>\n",
       "      <td>Yung Chip</td>\n",
       "      <td>['fortnite', 'fortnite protect the president',...</td>\n",
       "      <td>20</td>\n",
       "      <td>UCuMVy-cfz29-qSMxz0ZbzcQ</td>\n",
       "      <td>NaN</td>\n",
       "    </tr>\n",
       "    <tr>\n",
       "      <th>3</th>\n",
       "      <td>Uzv_799UxkM</td>\n",
       "      <td>3</td>\n",
       "      <td>['RftOIsDRsqM', '_TjlUcW7DoA', 'CEOfYh_0lOA', ...</td>\n",
       "      <td>539687</td>\n",
       "      <td>15153</td>\n",
       "      <td>342</td>\n",
       "      <td>0</td>\n",
       "      <td>314.0</td>\n",
       "      <td>2020-04-17T00:40:50.000Z</td>\n",
       "      <td>UC2wKfjlioOCLP4xQMOWNcgg</td>\n",
       "      <td>New SHADOW MIDAS Challenges! (Fortnite Battle ...</td>\n",
       "      <td>NEW CHANNEL, CLICK TO SUBSCRIBE! ► https://www...</td>\n",
       "      <td>{'default': {'url': 'https://i.ytimg.com/vi/Uz...</td>\n",
       "      <td>Typical Gamer</td>\n",
       "      <td>NaN</td>\n",
       "      <td>20</td>\n",
       "      <td>UC2wKfjlioOCLP4xQMOWNcgg</td>\n",
       "      <td>NaN</td>\n",
       "    </tr>\n",
       "    <tr>\n",
       "      <th>4</th>\n",
       "      <td>JZafBWQ7lWc</td>\n",
       "      <td>4</td>\n",
       "      <td>['ci1XGkFWvt4', 'JZafBWQ7lWc', 'qywKI47DqAI', ...</td>\n",
       "      <td>1684541</td>\n",
       "      <td>71953</td>\n",
       "      <td>892</td>\n",
       "      <td>0</td>\n",
       "      <td>3331.0</td>\n",
       "      <td>2020-04-14T21:16:16.000Z</td>\n",
       "      <td>UC-sjC5fKKsrpcZRJwlZJzZQ</td>\n",
       "      <td>i hate competitive fortnite..</td>\n",
       "      <td>this is why i hate competitive fortnite \\n\\nLI...</td>\n",
       "      <td>{'default': {'url': 'https://i.ytimg.com/vi/JZ...</td>\n",
       "      <td>McCreamy</td>\n",
       "      <td>['fortnite', 'fortnite battle royale', 'fortni...</td>\n",
       "      <td>20</td>\n",
       "      <td>UC-sjC5fKKsrpcZRJwlZJzZQ</td>\n",
       "      <td>NaN</td>\n",
       "    </tr>\n",
       "    <tr>\n",
       "      <th>...</th>\n",
       "      <td>...</td>\n",
       "      <td>...</td>\n",
       "      <td>...</td>\n",
       "      <td>...</td>\n",
       "      <td>...</td>\n",
       "      <td>...</td>\n",
       "      <td>...</td>\n",
       "      <td>...</td>\n",
       "      <td>...</td>\n",
       "      <td>...</td>\n",
       "      <td>...</td>\n",
       "      <td>...</td>\n",
       "      <td>...</td>\n",
       "      <td>...</td>\n",
       "      <td>...</td>\n",
       "      <td>...</td>\n",
       "      <td>...</td>\n",
       "      <td>...</td>\n",
       "    </tr>\n",
       "    <tr>\n",
       "      <th>194</th>\n",
       "      <td>J5XnEjlNEpQ</td>\n",
       "      <td>195</td>\n",
       "      <td>['sBKksIevniw', 'ovzgdPOxj0E', 'sAIRpUh56wA', ...</td>\n",
       "      <td>1364416</td>\n",
       "      <td>58258</td>\n",
       "      <td>1254</td>\n",
       "      <td>0</td>\n",
       "      <td>1469.0</td>\n",
       "      <td>2020-03-23T18:01:00.000Z</td>\n",
       "      <td>UCyeVfsThIHM_mEZq7YXIQSQ</td>\n",
       "      <td>The *RAREST* Storm Circle you'll EVER see in F...</td>\n",
       "      <td>Top Rarest Fortnite clips you'll ever see - En...</td>\n",
       "      <td>{'default': {'url': 'https://i.ytimg.com/vi/J5...</td>\n",
       "      <td>MoreAliA</td>\n",
       "      <td>NaN</td>\n",
       "      <td>20</td>\n",
       "      <td>UCyeVfsThIHM_mEZq7YXIQSQ</td>\n",
       "      <td>NaN</td>\n",
       "    </tr>\n",
       "    <tr>\n",
       "      <th>195</th>\n",
       "      <td>0wCfuBysnZI</td>\n",
       "      <td>196</td>\n",
       "      <td>['0XHnkh20xVc', 'w4G5QV_g93Y', 'Q86PU7K9VTM', ...</td>\n",
       "      <td>7054252</td>\n",
       "      <td>410169</td>\n",
       "      <td>6027</td>\n",
       "      <td>0</td>\n",
       "      <td>18868.0</td>\n",
       "      <td>2020-03-19T11:00:02.000Z</td>\n",
       "      <td>UCke6I9N4KfC968-yRcd5YRg</td>\n",
       "      <td>RANDOM Boss SKIN CHALLENGE in Fortnite ARENA</td>\n",
       "      <td>WE do a RANDOM BOSS Skin challenge in Fornite ...</td>\n",
       "      <td>{'default': {'url': 'https://i.ytimg.com/vi/0w...</td>\n",
       "      <td>SSundee</td>\n",
       "      <td>NaN</td>\n",
       "      <td>20</td>\n",
       "      <td>UCke6I9N4KfC968-yRcd5YRg</td>\n",
       "      <td>NaN</td>\n",
       "    </tr>\n",
       "    <tr>\n",
       "      <th>196</th>\n",
       "      <td>cEBFep4vn6o</td>\n",
       "      <td>197</td>\n",
       "      <td>['JTBtS031sEU', 'xkDx0h7w_n8', 'XPRVvbsGRcM', ...</td>\n",
       "      <td>104852</td>\n",
       "      <td>8969</td>\n",
       "      <td>213</td>\n",
       "      <td>0</td>\n",
       "      <td>5365.0</td>\n",
       "      <td>2020-04-12T05:00:12.000Z</td>\n",
       "      <td>UCxVaMZgCE9gB4EfMcityz6A</td>\n",
       "      <td>nieuwe v-bucks coins alle geheime locaties in ...</td>\n",
       "      <td>nieuwe v-bucks coins alle geheime locaties in ...</td>\n",
       "      <td>{'default': {'url': 'https://i.ytimg.com/vi/cE...</td>\n",
       "      <td>KingAlmightyyy</td>\n",
       "      <td>['nieuwe v-bucks coins alle geheime locaties i...</td>\n",
       "      <td>20</td>\n",
       "      <td>UCxVaMZgCE9gB4EfMcityz6A</td>\n",
       "      <td>nl</td>\n",
       "    </tr>\n",
       "    <tr>\n",
       "      <th>197</th>\n",
       "      <td>MsbDxAu6JLQ</td>\n",
       "      <td>198</td>\n",
       "      <td>['WrvHWuvj_Kk', 'ExaGTHDFoqE', 'MsbDxAu6JLQ', ...</td>\n",
       "      <td>456691</td>\n",
       "      <td>20231</td>\n",
       "      <td>702</td>\n",
       "      <td>0</td>\n",
       "      <td>1199.0</td>\n",
       "      <td>2020-04-14T09:11:16.000Z</td>\n",
       "      <td>UCIwWkPe5yq_jq1_1d2bC05w</td>\n",
       "      <td>COSA SUCCEDE SE PRENDI TUTTE LE CHIAVI DEI BOS...</td>\n",
       "      <td>Scopriamo cosa succede se prendi tutte le chia...</td>\n",
       "      <td>{'default': {'url': 'https://i.ytimg.com/vi/Ms...</td>\n",
       "      <td>Mattiz</td>\n",
       "      <td>['mattiz', 'fortnite', 'ita', 'fortnite ita', ...</td>\n",
       "      <td>20</td>\n",
       "      <td>UCIwWkPe5yq_jq1_1d2bC05w</td>\n",
       "      <td>NaN</td>\n",
       "    </tr>\n",
       "    <tr>\n",
       "      <th>198</th>\n",
       "      <td>0-DcX5_s6wc</td>\n",
       "      <td>199</td>\n",
       "      <td>['xl44cJlmolU', '0-DcX5_s6wc', 'dFeD7tMXnjs', ...</td>\n",
       "      <td>114687</td>\n",
       "      <td>7794</td>\n",
       "      <td>162</td>\n",
       "      <td>0</td>\n",
       "      <td>1225.0</td>\n",
       "      <td>2020-04-14T03:14:36.000Z</td>\n",
       "      <td>UCp5LUwfn3LY4IGCizSYpt0g</td>\n",
       "      <td>my Last Fortnite tournament... (quitting compe...</td>\n",
       "      <td>SypherPK's Video: https://www.youtube.com/watc...</td>\n",
       "      <td>{'default': {'url': 'https://i.ytimg.com/vi/0-...</td>\n",
       "      <td>DuckyTheGamer</td>\n",
       "      <td>['duckythegamer', 'fortnite mobile', 'fortnite...</td>\n",
       "      <td>20</td>\n",
       "      <td>UCp5LUwfn3LY4IGCizSYpt0g</td>\n",
       "      <td>NaN</td>\n",
       "    </tr>\n",
       "  </tbody>\n",
       "</table>\n",
       "<p>199 rows × 18 columns</p>\n",
       "</div>"
      ],
      "text/plain": [
       "        video_id  position                                     channel_videos  \\\n",
       "0    D4sP53qTfwk         0  ['D4sP53qTfwk', 'ODE3JHAf1C0', '73zECODcezo', ...   \n",
       "1    3k6_ymss6NA         1  ['rqT9fKAe8dY', 'c-tOHFMvC-g', '3k6_ymss6NA', ...   \n",
       "2    ytJuE6RMKUw         2  ['ytJuE6RMKUw', 'reBpDGqNlbo', 'Zzr5BrTqU_4', ...   \n",
       "3    Uzv_799UxkM         3  ['RftOIsDRsqM', '_TjlUcW7DoA', 'CEOfYh_0lOA', ...   \n",
       "4    JZafBWQ7lWc         4  ['ci1XGkFWvt4', 'JZafBWQ7lWc', 'qywKI47DqAI', ...   \n",
       "..           ...       ...                                                ...   \n",
       "194  J5XnEjlNEpQ       195  ['sBKksIevniw', 'ovzgdPOxj0E', 'sAIRpUh56wA', ...   \n",
       "195  0wCfuBysnZI       196  ['0XHnkh20xVc', 'w4G5QV_g93Y', 'Q86PU7K9VTM', ...   \n",
       "196  cEBFep4vn6o       197  ['JTBtS031sEU', 'xkDx0h7w_n8', 'XPRVvbsGRcM', ...   \n",
       "197  MsbDxAu6JLQ       198  ['WrvHWuvj_Kk', 'ExaGTHDFoqE', 'MsbDxAu6JLQ', ...   \n",
       "198  0-DcX5_s6wc       199  ['xl44cJlmolU', '0-DcX5_s6wc', 'dFeD7tMXnjs', ...   \n",
       "\n",
       "     viewCount  likeCount  dislikeCount  favoriteCount  commentCount  \\\n",
       "0      2392093      68624          1495              0        3079.0   \n",
       "1      1880488      67387           673              0        5529.0   \n",
       "2       502109      29335           334              0        1619.0   \n",
       "3       539687      15153           342              0         314.0   \n",
       "4      1684541      71953           892              0        3331.0   \n",
       "..         ...        ...           ...            ...           ...   \n",
       "194    1364416      58258          1254              0        1469.0   \n",
       "195    7054252     410169          6027              0       18868.0   \n",
       "196     104852       8969           213              0        5365.0   \n",
       "197     456691      20231           702              0        1199.0   \n",
       "198     114687       7794           162              0        1225.0   \n",
       "\n",
       "                  publishedAt                 channelId  \\\n",
       "0    2020-04-16T17:00:05.000Z  UC_q5WZtFp36adwqhKpZzxwQ   \n",
       "1    2020-04-14T19:39:33.000Z  UCqsBym4OHrzSp0Nq1eZoMIA   \n",
       "2    2020-04-15T21:53:52.000Z  UCuMVy-cfz29-qSMxz0ZbzcQ   \n",
       "3    2020-04-17T00:40:50.000Z  UC2wKfjlioOCLP4xQMOWNcgg   \n",
       "4    2020-04-14T21:16:16.000Z  UC-sjC5fKKsrpcZRJwlZJzZQ   \n",
       "..                        ...                       ...   \n",
       "194  2020-03-23T18:01:00.000Z  UCyeVfsThIHM_mEZq7YXIQSQ   \n",
       "195  2020-03-19T11:00:02.000Z  UCke6I9N4KfC968-yRcd5YRg   \n",
       "196  2020-04-12T05:00:12.000Z  UCxVaMZgCE9gB4EfMcityz6A   \n",
       "197  2020-04-14T09:11:16.000Z  UCIwWkPe5yq_jq1_1d2bC05w   \n",
       "198  2020-04-14T03:14:36.000Z  UCp5LUwfn3LY4IGCizSYpt0g   \n",
       "\n",
       "                                                 title  \\\n",
       "0    I Told 100 Streamsnipers To Drop PRISON and WO...   \n",
       "1                     THE BEST SOLO PLAYER IN FORTNITE   \n",
       "2       PROTECT THE PRESIDENT challenge in Fortnite...   \n",
       "3    New SHADOW MIDAS Challenges! (Fortnite Battle ...   \n",
       "4                        i hate competitive fortnite..   \n",
       "..                                                 ...   \n",
       "194  The *RAREST* Storm Circle you'll EVER see in F...   \n",
       "195       RANDOM Boss SKIN CHALLENGE in Fortnite ARENA   \n",
       "196  nieuwe v-bucks coins alle geheime locaties in ...   \n",
       "197  COSA SUCCEDE SE PRENDI TUTTE LE CHIAVI DEI BOS...   \n",
       "198  my Last Fortnite tournament... (quitting compe...   \n",
       "\n",
       "                                           description  \\\n",
       "0    You guys always LOVE these 100 streamsniper vi...   \n",
       "1    Use Code: FRESH | SUBSCRIBE! https://goo.gl/gK...   \n",
       "2    PROTECT THE PRESIDENT challenge in Fortnite......   \n",
       "3    NEW CHANNEL, CLICK TO SUBSCRIBE! ► https://www...   \n",
       "4    this is why i hate competitive fortnite \\n\\nLI...   \n",
       "..                                                 ...   \n",
       "194  Top Rarest Fortnite clips you'll ever see - En...   \n",
       "195  WE do a RANDOM BOSS Skin challenge in Fornite ...   \n",
       "196  nieuwe v-bucks coins alle geheime locaties in ...   \n",
       "197  Scopriamo cosa succede se prendi tutte le chia...   \n",
       "198  SypherPK's Video: https://www.youtube.com/watc...   \n",
       "\n",
       "                                            thumbnails    channelTitle  \\\n",
       "0    {'default': {'url': 'https://i.ytimg.com/vi/D4...        SypherPK   \n",
       "1    {'default': {'url': 'https://i.ytimg.com/vi/3k...    mrfreshasian   \n",
       "2    {'default': {'url': 'https://i.ytimg.com/vi/yt...       Yung Chip   \n",
       "3    {'default': {'url': 'https://i.ytimg.com/vi/Uz...   Typical Gamer   \n",
       "4    {'default': {'url': 'https://i.ytimg.com/vi/JZ...        McCreamy   \n",
       "..                                                 ...             ...   \n",
       "194  {'default': {'url': 'https://i.ytimg.com/vi/J5...        MoreAliA   \n",
       "195  {'default': {'url': 'https://i.ytimg.com/vi/0w...         SSundee   \n",
       "196  {'default': {'url': 'https://i.ytimg.com/vi/cE...  KingAlmightyyy   \n",
       "197  {'default': {'url': 'https://i.ytimg.com/vi/Ms...          Mattiz   \n",
       "198  {'default': {'url': 'https://i.ytimg.com/vi/0-...   DuckyTheGamer   \n",
       "\n",
       "                                                  tags  categoryId  \\\n",
       "0    ['fortnite', 'fortnite battle royale', 'compet...          20   \n",
       "1    ['fortnite', 'fortnitebr', 'fortnite battle ro...          20   \n",
       "2    ['fortnite', 'fortnite protect the president',...          20   \n",
       "3                                                  NaN          20   \n",
       "4    ['fortnite', 'fortnite battle royale', 'fortni...          20   \n",
       "..                                                 ...         ...   \n",
       "194                                                NaN          20   \n",
       "195                                                NaN          20   \n",
       "196  ['nieuwe v-bucks coins alle geheime locaties i...          20   \n",
       "197  ['mattiz', 'fortnite', 'ita', 'fortnite ita', ...          20   \n",
       "198  ['duckythegamer', 'fortnite mobile', 'fortnite...          20   \n",
       "\n",
       "                   channel_id defaultLanguage  \n",
       "0    UC_q5WZtFp36adwqhKpZzxwQ             NaN  \n",
       "1    UCqsBym4OHrzSp0Nq1eZoMIA             NaN  \n",
       "2    UCuMVy-cfz29-qSMxz0ZbzcQ             NaN  \n",
       "3    UC2wKfjlioOCLP4xQMOWNcgg             NaN  \n",
       "4    UC-sjC5fKKsrpcZRJwlZJzZQ             NaN  \n",
       "..                        ...             ...  \n",
       "194  UCyeVfsThIHM_mEZq7YXIQSQ             NaN  \n",
       "195  UCke6I9N4KfC968-yRcd5YRg             NaN  \n",
       "196  UCxVaMZgCE9gB4EfMcityz6A              nl  \n",
       "197  UCIwWkPe5yq_jq1_1d2bC05w             NaN  \n",
       "198  UCp5LUwfn3LY4IGCizSYpt0g             NaN  \n",
       "\n",
       "[199 rows x 18 columns]"
      ]
     },
     "execution_count": 11,
     "metadata": {},
     "output_type": "execute_result"
    }
   ],
   "source": [
    "df"
   ]
  },
  {
   "cell_type": "code",
   "execution_count": 9,
   "metadata": {
    "scrolled": false
   },
   "outputs": [
    {
     "data": {
      "text/plain": [
       "{'default': {'url': 'https://i.ytimg.com/vi/D4sP53qTfwk/default.jpg',\n",
       "  'width': 120,\n",
       "  'height': 90},\n",
       " 'medium': {'url': 'https://i.ytimg.com/vi/D4sP53qTfwk/mqdefault.jpg',\n",
       "  'width': 320,\n",
       "  'height': 180},\n",
       " 'high': {'url': 'https://i.ytimg.com/vi/D4sP53qTfwk/hqdefault.jpg',\n",
       "  'width': 480,\n",
       "  'height': 360},\n",
       " 'standard': {'url': 'https://i.ytimg.com/vi/D4sP53qTfwk/sddefault.jpg',\n",
       "  'width': 640,\n",
       "  'height': 480},\n",
       " 'maxres': {'url': 'https://i.ytimg.com/vi/D4sP53qTfwk/maxresdefault.jpg',\n",
       "  'width': 1280,\n",
       "  'height': 720}}"
      ]
     },
     "execution_count": 9,
     "metadata": {},
     "output_type": "execute_result"
    }
   ],
   "source": [
    "eval(df.thumbnails[0])"
   ]
  },
  {
   "cell_type": "markdown",
   "metadata": {},
   "source": [
    "# Downloading thumbnails"
   ]
  },
  {
   "cell_type": "code",
   "execution_count": 10,
   "metadata": {
    "scrolled": true
   },
   "outputs": [],
   "source": [
    "for qual in cfg[\"thumbnail-qual\"]:\n",
    "    if cfg[\"thumbnail-qual\"][qual]:\n",
    "        mdata.download_df_thumbs(df, ROOT_DIR + cfg[\"thumbnails-dir\"].format(cfg[\"selected-game\"]), res=qual)"
   ]
  },
  {
   "cell_type": "code",
   "execution_count": 8,
   "metadata": {},
   "outputs": [],
   "source": [
    "df = pd.read_csv(ROOT_DIR + cfg[\"videos-dir\"].format(game) + \"/{}_metadata.csv\".format(game))"
   ]
  },
  {
   "cell_type": "markdown",
   "metadata": {},
   "source": [
    "# Statistics"
   ]
  },
  {
   "cell_type": "markdown",
   "metadata": {},
   "source": [
    "### Desired functions:\n",
    "- Given a video_id, get the surrounding videos and z-score that video in comparison.\n",
    "- Get the basic video statistics surrounding a video\n",
    "    - Likes\n",
    "    - Dislikes\n",
    "    - Views\n",
    "    - Subscriber count\n",
    "    - Video length(?)\n",
    "- Combination of all stats to form a \"success score\"\n",
    "\n",
    "### Note on api costs\n",
    "Calculate those costs here:\n",
    "https://developers.google.com/youtube/v3/determine_quota_cost"
   ]
  },
  {
   "cell_type": "code",
   "execution_count": null,
   "metadata": {},
   "outputs": [],
   "source": [
    "# Parameters\n",
    "\n",
    "# When calculating z-score of a video, grab the +- x videos surrounding the target video.\n",
    "nearest_videos = 5"
   ]
  },
  {
   "cell_type": "markdown",
   "metadata": {},
   "source": [
    "## Possible success metrics\n",
    "Available measurements:\n",
    "- date\n",
    "- views (COUNT)\n",
    "- likes (COUNT)\n",
    "- dislikes (COUNT)\n",
    "- comments (COUNT)\n",
    "\n",
    "Metadata recommendations from here (page 6-7):\n",
    "https://www.sciencedirect.com/science/article/pii/S187705091731757X/pdf?md5=5961456d3adc0f65e03cff17279317d2&pid=1-s2.0-S187705091731757X-main.pdf\n",
    "\n",
    "Get a number of videos from the parent channel closest to the selected video in date and zscore the available measurements, then average those measurements.\n",
    "\n",
    "Weight views higher?\n",
    "\n",
    "Make another function that can take in an input of a list of video ids"
   ]
  },
  {
   "cell_type": "markdown",
   "metadata": {},
   "source": [
    "## Statistics\n",
    "#### (WIP)\n",
    "Add in a measurement for video time length"
   ]
  },
  {
   "cell_type": "markdown",
   "metadata": {},
   "source": [
    "Expecting a new input\n",
    "\n",
    "`\n",
    "{'video_id': '4uf2x-O_pBw',\n",
    " 'position': '0',\n",
    " 'channel_videos': ['4uf2x-O_pBw', '8cu4qAoeXow', 'TZK-sk5Yvfw'],\n",
    " 'channel_id':str}\n",
    "`"
   ]
  },
  {
   "cell_type": "code",
   "execution_count": null,
   "metadata": {},
   "outputs": [],
   "source": [
    "def get_channel_vids_stats(videos):\n",
    "    stats = []\n",
    "    for v in videos:\n",
    "        curr_vid = ytr.request_video_details(v,\n",
    "                                             api_key,\n",
    "                                             api_service_name,\n",
    "                                             api_version)['items'][0]\n",
    "        stats.append(ytr.get_vid_stats(curr_vid))\n",
    "        time.sleep(1)\n",
    "    \n",
    "    return pd.DataFrame(stats)"
   ]
  },
  {
   "cell_type": "code",
   "execution_count": null,
   "metadata": {},
   "outputs": [],
   "source": [
    "def video_success(in_dict):\n",
    "    vid_stats = get_channel_vids_stats(in_dict[\"channel_videos\"])\n",
    "    \n",
    "    # A lower number position means the video is more popular.\n",
    "    position_weight = 1.5\n",
    "    position_score = (1 - (in_dict[\"position\"] / len(in_dict[\"channel_videos\"]))) * position_weight\n",
    "    \n",
    "    zscores = vid_stats[[\"comments\", \"dislikes\", \"likes\", \"views\"]].apply(scipy.stats.zscore)\n",
    "    \n",
    "    return position_score + zscores.loc[in_dict[\"position\"]].sum()"
   ]
  },
  {
   "cell_type": "code",
   "execution_count": null,
   "metadata": {},
   "outputs": [],
   "source": [
    "def video_success(row, weights=[1 for _ in len(row)]):\n",
    "    position_score = (1 - (row.loc[\"position\"] / len(in_dict[\"channel_videos\"]))) * position_weight"
   ]
  },
  {
   "cell_type": "markdown",
   "metadata": {},
   "source": [
    "***"
   ]
  },
  {
   "cell_type": "code",
   "execution_count": null,
   "metadata": {},
   "outputs": [],
   "source": [
    "def get_channel_zscores(channel_id, df):\n",
    "    df_subset = df[df[\"channelId\"] == channel_id]\n",
    "    target_cols = ['commentCount', 'dislikeCount',\n",
    "                   'favoriteCount', 'likeCount', 'viewCount']\n",
    "    \n",
    "    df_zscores = df_subset[target_cols].apply(lambda col:zscore(col, nan_policy=\"omit\"))\n",
    "    df_zscores[\"video_id\"] = df_subset[\"video_id\"]\n",
    "    return df_zscores"
   ]
  },
  {
   "cell_type": "code",
   "execution_count": null,
   "metadata": {},
   "outputs": [],
   "source": [
    "df.keys()"
   ]
  },
  {
   "cell_type": "code",
   "execution_count": null,
   "metadata": {},
   "outputs": [],
   "source": [
    "def get_channel_zscores(row):\n",
    "    channel_vids = row.loc[\"\"]\n",
    "    target_cols = ['commentCount', 'dislikeCount',\n",
    "                   'favoriteCount', 'likeCount', 'viewCount']\n",
    "    \n",
    "    df_zscores = df_subset[target_cols].apply(lambda col:zscore(col, nan_policy=\"omit\"))\n",
    "    df_zscores[\"video_id\"] = df_subset[\"video_id\"]\n",
    "    return df_zscores"
   ]
  },
  {
   "cell_type": "code",
   "execution_count": null,
   "metadata": {},
   "outputs": [],
   "source": [
    "def get_df_zscores(df):\n",
    "    channel_zscores = {}\n",
    "#     for channel in unique_channels:\n",
    "#         channel_zscores[channel] = get_channel_zscores(channel, df, channel_zscores)\n",
    "    channel_zscores = df.apply(get_channel_zscores, axis=1)\n",
    "        \n",
    "    return channel_zscores"
   ]
  },
  {
   "cell_type": "code",
   "execution_count": null,
   "metadata": {
    "scrolled": true
   },
   "outputs": [],
   "source": [
    "get_df_zscores(df)"
   ]
  },
  {
   "cell_type": "code",
   "execution_count": null,
   "metadata": {},
   "outputs": [],
   "source": [
    "df.keys()"
   ]
  },
  {
   "cell_type": "code",
   "execution_count": null,
   "metadata": {
    "scrolled": true
   },
   "outputs": [],
   "source": [
    "target_cols = ['video_id', 'commentCount', 'dislikeCount',\n",
    "                   'favoriteCount', 'likeCount', 'viewCount']\n",
    "df[target_cols][\"commentCount\"].isna().sum()"
   ]
  },
  {
   "cell_type": "code",
   "execution_count": null,
   "metadata": {
    "scrolled": true
   },
   "outputs": [],
   "source": [
    "df"
   ]
  },
  {
   "cell_type": "code",
   "execution_count": null,
   "metadata": {},
   "outputs": [],
   "source": []
  }
 ],
 "metadata": {
  "kernelspec": {
   "display_name": "Python 3",
   "language": "python",
   "name": "python3"
  },
  "language_info": {
   "codemirror_mode": {
    "name": "ipython",
    "version": 3
   },
   "file_extension": ".py",
   "mimetype": "text/x-python",
   "name": "python",
   "nbconvert_exporter": "python",
   "pygments_lexer": "ipython3",
   "version": "3.6.2"
  }
 },
 "nbformat": 4,
 "nbformat_minor": 4
}
