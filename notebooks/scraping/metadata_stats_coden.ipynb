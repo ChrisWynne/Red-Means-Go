{
 "cells": [
  {
   "cell_type": "code",
   "execution_count": 1,
   "metadata": {},
   "outputs": [],
   "source": [
    "import os\n",
    "import sys\n",
    "\n",
    "sys.path.insert(0, os.path.abspath('../../src/scraping'))\n",
    "import youtube_requesting as ytr"
   ]
  },
  {
   "cell_type": "code",
   "execution_count": 2,
   "metadata": {},
   "outputs": [],
   "source": [
    "import numpy as np\n",
    "import pandas as pd\n",
    "import json"
   ]
  },
  {
   "cell_type": "markdown",
   "metadata": {},
   "source": [
    "### Desired functions:\n",
    "- Given a video_id, get the surrounding videos and z-score that video in comparison.\n",
    "- Get the basic video statistics surrounding a video\n",
    "    - Likes\n",
    "    - Dislikes\n",
    "    - Views\n",
    "    - Subscriber count\n",
    "    - Video length(?)\n",
    "- Combination of all stats to form a \"success score\"\n",
    "\n",
    "### Note on api costs\n",
    "Calculate those costs here:\n",
    "https://developers.google.com/youtube/v3/determine_quota_cost"
   ]
  },
  {
   "cell_type": "code",
   "execution_count": 3,
   "metadata": {},
   "outputs": [],
   "source": [
    "# Parameters\n",
    "\n",
    "# When calculating z-score of a video, grab the +- x videos surrounding the target video.\n",
    "nearest_videos = 5"
   ]
  },
  {
   "cell_type": "code",
   "execution_count": 4,
   "metadata": {},
   "outputs": [],
   "source": [
    "# Testing vars\n",
    "test_video_id = 'I5dK-pBipdU'\n",
    "\n",
    "scopes = [\"https://www.googleapis.com/auth/youtube.force-ssl\"]\n",
    "with open('../../api_key.json') as json_file:\n",
    "    cred = json.load(json_file)\n",
    "api_key = cred['api_key']\n",
    "# Disable OAuthlib's HTTPS verification when running locally.\n",
    "# *DO NOT* leave this option enabled in production.\n",
    "os.environ[\"OAUTHLIB_INSECURE_TRANSPORT\"] = \"1\"\n",
    "api_service_name = \"youtube\"\n",
    "api_version = \"v3\"\n",
    "\n",
    "cur_vid = ytr.request_video_details(test_video_id, api_key, api_service_name, api_version)['items'][0]\n",
    "metadata = ytr.get_vid_stats(cur_vid)"
   ]
  },
  {
   "cell_type": "code",
   "execution_count": 5,
   "metadata": {},
   "outputs": [
    {
     "data": {
      "text/plain": [
       "{'channel_id': 'UCrkfdiZ4pF3f5waQaJtjXew',\n",
       " 'channel_title': 'GamingWithKev',\n",
       " 'thumbnail_link': 'https://i.ytimg.com/vi/I5dK-pBipdU/maxresdefault.jpg',\n",
       " 'title': 'Playing as the KILLER in Dead By Roblox!',\n",
       " 'date': datetime.datetime(2020, 4, 4, 0, 56, 2, tzinfo=tzutc()),\n",
       " 'views': 222402,\n",
       " 'likes': 9252,\n",
       " 'dislikes': 223,\n",
       " 'comments': 1001}"
      ]
     },
     "execution_count": 5,
     "metadata": {},
     "output_type": "execute_result"
    }
   ],
   "source": [
    "metadata"
   ]
  },
  {
   "cell_type": "code",
   "execution_count": null,
   "metadata": {},
   "outputs": [],
   "source": []
  }
 ],
 "metadata": {
  "kernelspec": {
   "display_name": "Python 3",
   "language": "python",
   "name": "python3"
  },
  "language_info": {
   "codemirror_mode": {
    "name": "ipython",
    "version": 3
   },
   "file_extension": ".py",
   "mimetype": "text/x-python",
   "name": "python",
   "nbconvert_exporter": "python",
   "pygments_lexer": "ipython3",
   "version": "3.6.2"
  }
 },
 "nbformat": 4,
 "nbformat_minor": 2
}
