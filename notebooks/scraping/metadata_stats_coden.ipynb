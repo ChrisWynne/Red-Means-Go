{
 "cells": [
  {
   "cell_type": "code",
   "execution_count": 1,
   "metadata": {},
   "outputs": [],
   "source": [
    "import os\n",
    "import sys\n",
    "\n",
    "sys.path.insert(0, os.path.abspath('../../src/scraping'))\n",
    "import youtube_requesting as ytr"
   ]
  },
  {
   "cell_type": "code",
   "execution_count": 2,
   "metadata": {},
   "outputs": [],
   "source": [
    "import numpy as np\n",
    "import pandas as pd\n",
    "import json\n",
    "import scipy.stats\n",
    "import time"
   ]
  },
  {
   "cell_type": "markdown",
   "metadata": {},
   "source": [
    "### Desired functions:\n",
    "- Given a video_id, get the surrounding videos and z-score that video in comparison.\n",
    "- Get the basic video statistics surrounding a video\n",
    "    - Likes\n",
    "    - Dislikes\n",
    "    - Views\n",
    "    - Subscriber count\n",
    "    - Video length(?)\n",
    "- Combination of all stats to form a \"success score\"\n",
    "\n",
    "### Note on api costs\n",
    "Calculate those costs here:\n",
    "https://developers.google.com/youtube/v3/determine_quota_cost"
   ]
  },
  {
   "cell_type": "code",
   "execution_count": 3,
   "metadata": {},
   "outputs": [],
   "source": [
    "# Parameters\n",
    "\n",
    "# When calculating z-score of a video, grab the +- x videos surrounding the target video.\n",
    "nearest_videos = 5"
   ]
  },
  {
   "cell_type": "code",
   "execution_count": 4,
   "metadata": {},
   "outputs": [],
   "source": [
    "# Testing vars\n",
    "test_video_id = 'I5dK-pBipdU'\n",
    "\n",
    "scopes = [\"https://www.googleapis.com/auth/youtube.force-ssl\"]\n",
    "with open('../../api_key.json') as json_file:\n",
    "    cred = json.load(json_file)\n",
    "api_key = cred['api_key']\n",
    "# Disable OAuthlib's HTTPS verification when running locally.\n",
    "# *DO NOT* leave this option enabled in production.\n",
    "os.environ[\"OAUTHLIB_INSECURE_TRANSPORT\"] = \"1\"\n",
    "api_service_name = \"youtube\"\n",
    "api_version = \"v3\"\n",
    "\n",
    "cur_vid = ytr.request_video_details(test_video_id, api_key, api_service_name, api_version)['items'][0]\n",
    "metadata = ytr.get_vid_stats(cur_vid)"
   ]
  },
  {
   "cell_type": "code",
   "execution_count": 5,
   "metadata": {},
   "outputs": [
    {
     "data": {
      "text/plain": [
       "{'channel_id': 'UCrkfdiZ4pF3f5waQaJtjXew',\n",
       " 'channel_title': 'GamingWithKev',\n",
       " 'thumbnail_link': 'https://i.ytimg.com/vi/I5dK-pBipdU/maxresdefault.jpg',\n",
       " 'title': 'Playing as the KILLER in Dead By Roblox!',\n",
       " 'date': datetime.datetime(2020, 4, 4, 0, 56, 2, tzinfo=tzutc()),\n",
       " 'views': 328277,\n",
       " 'likes': 10780,\n",
       " 'dislikes': 263,\n",
       " 'comments': 1039}"
      ]
     },
     "execution_count": 5,
     "metadata": {},
     "output_type": "execute_result"
    }
   ],
   "source": [
    "metadata"
   ]
  },
  {
   "cell_type": "markdown",
   "metadata": {},
   "source": [
    "## Possible success metrics\n",
    "Available measurements:\n",
    "- date\n",
    "- views (COUNT)\n",
    "- likes (COUNT)\n",
    "- dislikes (COUNT)\n",
    "- comments (COUNT)\n",
    "\n",
    "Metadata recommendations from here (page 6-7):\n",
    "https://www.sciencedirect.com/science/article/pii/S187705091731757X/pdf?md5=5961456d3adc0f65e03cff17279317d2&pid=1-s2.0-S187705091731757X-main.pdf\n",
    "\n",
    "Get a number of videos from the parent channel closest to the selected video in date and zscore the available measurements, then average those measurements.\n",
    "\n",
    "Weight views higher?\n",
    "\n",
    "Make another function that can take in an input of a list of video ids"
   ]
  },
  {
   "cell_type": "markdown",
   "metadata": {},
   "source": [
    "## Statistics\n",
    "#### (WIP)\n",
    "Add in a measurement for video time length"
   ]
  },
  {
   "cell_type": "markdown",
   "metadata": {},
   "source": [
    "Expecting a new input\n",
    "\n",
    "`\n",
    "{'video_id': '4uf2x-O_pBw',\n",
    " 'position': '0',\n",
    " 'channel_videos': ['4uf2x-O_pBw', '8cu4qAoeXow', 'TZK-sk5Yvfw'],\n",
    " 'channel_id':str}\n",
    "`"
   ]
  },
  {
   "cell_type": "code",
   "execution_count": 7,
   "metadata": {},
   "outputs": [],
   "source": [
    "def get_channel_vids_stats(videos):\n",
    "    stats = []\n",
    "    for v in videos:\n",
    "        curr_vid = ytr.request_video_details(v,\n",
    "                                             api_key,\n",
    "                                             api_service_name,\n",
    "                                             api_version)['items'][0]\n",
    "        stats.append(ytr.get_vid_stats(curr_vid))\n",
    "        time.sleep(1)\n",
    "    \n",
    "    return pd.DataFrame(stats)"
   ]
  },
  {
   "cell_type": "code",
   "execution_count": 8,
   "metadata": {},
   "outputs": [],
   "source": [
    "def video_success(in_dict):\n",
    "    vid_stats = get_channel_vids_stats(in_dict[\"channel_videos\"])\n",
    "    \n",
    "    # A lower number position means the video is more popular.\n",
    "    position_weight = 1.5\n",
    "    position_score = (1 - (in_dict[\"position\"] / len(in_dict[\"channel_videos\"]))) * position_weight\n",
    "    \n",
    "    zscores = vid_stats[[\"comments\", \"dislikes\", \"likes\", \"views\"]].apply(scipy.stats.zscore)\n",
    "    \n",
    "    return position_score + zscores.loc[in_dict[\"position\"]].sum()"
   ]
  },
  {
   "cell_type": "code",
   "execution_count": 12,
   "metadata": {},
   "outputs": [],
   "source": [
    "def video_success(video_id, channel_id):\n",
    "    pass"
   ]
  },
  {
   "cell_type": "markdown",
   "metadata": {},
   "source": [
    "## Metadata creation"
   ]
  },
  {
   "cell_type": "code",
   "execution_count": 6,
   "metadata": {},
   "outputs": [],
   "source": [
    "scopes = [\"https://www.googleapis.com/auth/youtube.force-ssl\"]\n",
    "with open(ROOT_DIR + \"api_key.json\") as json_file:\n",
    "    cred = json.load(json_file)\n",
    "api_key = cred['api_key']\n",
    "# Disable OAuthlib's HTTPS verification when running locally.\n",
    "# *DO NOT* leave this option enabled in production.\n",
    "os.environ[\"OAUTHLIB_INSECURE_TRANSPORT\"] = \"1\"\n",
    "api_service_name = \"youtube\"\n",
    "api_version = \"v3\""
   ]
  },
  {
   "cell_type": "code",
   "execution_count": 76,
   "metadata": {
    "scrolled": true
   },
   "outputs": [],
   "source": [
    "import json\n",
    "ROOT_DIR = \"../../\"\n",
    "with open(ROOT_DIR + \"config/\" \"config-scraping.json\") as f:\n",
    "    cfg = json.load(f)\n",
    "\n",
    "data = {}\n",
    "fp = ROOT_DIR + cfg[\"videos-dir\"] + cfg[\"selected-game\"] + '/'\n",
    "for fname in os.listdir(fp):\n",
    "    with open(fp + fname) as f:\n",
    "        read_data = json.load(f)\n",
    "    data[read_data[\"date_scraped\"]] = read_data[\"data\"]"
   ]
  },
  {
   "cell_type": "code",
   "execution_count": 122,
   "metadata": {},
   "outputs": [],
   "source": [
    "def get_vid_metadata(video_id):\n",
    "    mdata = ytr.request_video_details(video_id, api_key, api_service_name, api_version)['items'][0]\n",
    "    out = mdata[\"statistics\"]\n",
    "    \n",
    "    unwanted_keys = ['liveBroadcastContent', 'localized', 'defaultAudioLanguage']\n",
    "    for key in unwanted_keys:\n",
    "        if key in mdata[\"snippet\"]:\n",
    "            mdata[\"snippet\"].pop(key)\n",
    "    \n",
    "    out.update(mdata[\"snippet\"])\n",
    "    out[\"video_id\"] = video_id\n",
    "    return pd.Series(out)"
   ]
  },
  {
   "cell_type": "code",
   "execution_count": 137,
   "metadata": {},
   "outputs": [],
   "source": [
    "def make_mdata_df(data):\n",
    "    mdata = []\n",
    "    for vid in data:\n",
    "        mdata.append(vid[\"video_id\"])\n",
    "        \n",
    "    df = pd.Series(mdata).apply(get_metadata)\n",
    "    return df.set_index(\"video_id\", drop=True)"
   ]
  },
  {
   "cell_type": "code",
   "execution_count": 138,
   "metadata": {},
   "outputs": [],
   "source": [
    "df = make_mdata_df(data[\"04_16_20\"])"
   ]
  },
  {
   "cell_type": "code",
   "execution_count": 143,
   "metadata": {},
   "outputs": [],
   "source": [
    "game = cfg[\"selected-game\"]\n",
    "df.to_csv(ROOT_DIR + cfg[\"videos-dir\"] + game + '/{}_metadata.csv'.format(game))"
   ]
  },
  {
   "cell_type": "markdown",
   "metadata": {},
   "source": [
    "## Downloading thumbnails"
   ]
  },
  {
   "cell_type": "code",
   "execution_count": 127,
   "metadata": {},
   "outputs": [],
   "source": [
    "import requests"
   ]
  },
  {
   "cell_type": "code",
   "execution_count": 128,
   "metadata": {},
   "outputs": [],
   "source": [
    "def download_vid_thumb(video_id, df, save_dir, res=\"default\"):\n",
    "    url = df.loc[video_id][\"thumbnails\"][res][\"url\"]\n",
    "    with open(save_dir + video_id + \".jpg\", 'wb') as f:\n",
    "        f.write(requests.get(url).content)"
   ]
  },
  {
   "cell_type": "code",
   "execution_count": 129,
   "metadata": {},
   "outputs": [],
   "source": [
    "def download_df_thumbs(df, save_dir, res=\"default\"):\n",
    "    save_dir += res + '/'\n",
    "    if not os.path.exists(save_dir):\n",
    "        os.mkdir(save_dir)\n",
    "    \n",
    "    for v_id in df.index:\n",
    "        download_vid_thumb(v_id, df, save_dir, res)"
   ]
  },
  {
   "cell_type": "code",
   "execution_count": 139,
   "metadata": {},
   "outputs": [],
   "source": [
    "download_df_thumbs(df, ROOT_DIR + cfg[\"thumbnails-dir\"] + cfg[\"selected-game\"] + '/', res=\"medium\")"
   ]
  },
  {
   "cell_type": "code",
   "execution_count": null,
   "metadata": {},
   "outputs": [],
   "source": []
  }
 ],
 "metadata": {
  "kernelspec": {
   "display_name": "Python 3",
   "language": "python",
   "name": "python3"
  }
 },
 "nbformat": 4,
 "nbformat_minor": 4
}
