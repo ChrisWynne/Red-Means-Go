{
 "cells": [
  {
   "cell_type": "markdown",
   "metadata": {},
   "source": [
    "# Initial Data Scrape Workbook"
   ]
  },
  {
   "cell_type": "markdown",
   "metadata": {},
   "source": [
    "***"
   ]
  },
  {
   "cell_type": "markdown",
   "metadata": {},
   "source": [
    "### We ideally want to scrape a dataset consisting of\n",
    "- video thumbnails\n",
    "- titles\n",
    "- views\n",
    "- parent channel"
   ]
  },
  {
   "cell_type": "markdown",
   "metadata": {},
   "source": [
    "### YouTube API\n",
    "https://developers.google.com/youtube/v3/getting-started#quota\n",
    "\n",
    "Get credentials by going to https://console.developers.google.com/apis/dashboard?project=red-means-go\n",
    "- Look for \"YouTube Data API v3\" in the library tab and make sure it's enabled.\n",
    "- Select Credentials and get an api key\n",
    "\n",
    "Daily limit of 10,000 \"units\" worth of requests.\n",
    "- Different operations have different cost values, need to be careful what data we request.\n",
    "\n",
    "We can more efficiently get data by using the offered compressed gzip request format."
   ]
  },
  {
   "cell_type": "code",
   "execution_count": 1,
   "metadata": {
    "collapsed": true
   },
   "outputs": [
    {
     "name": "stdout",
     "output_type": "stream",
     "text": [
      "Requirement already up-to-date: google-api-python-client in c:\\users\\kutor\\appdata\\local\\programs\\python\\python36\\lib\\site-packages (1.8.0)\n",
      "Requirement already satisfied, skipping upgrade: uritemplate<4dev,>=3.0.0 in c:\\users\\kutor\\appdata\\local\\programs\\python\\python36\\lib\\site-packages (from google-api-python-client) (3.0.0)\n",
      "Requirement already satisfied, skipping upgrade: google-auth-httplib2>=0.0.3 in c:\\users\\kutor\\appdata\\local\\programs\\python\\python36\\lib\\site-packages (from google-api-python-client) (0.0.3)\n",
      "Requirement already satisfied, skipping upgrade: google-api-core<2dev,>=1.13.0 in c:\\users\\kutor\\appdata\\local\\programs\\python\\python36\\lib\\site-packages (from google-api-python-client) (1.16.0)\n",
      "Requirement already satisfied, skipping upgrade: six<2dev,>=1.6.1 in c:\\users\\kutor\\appdata\\local\\programs\\python\\python36\\lib\\site-packages (from google-api-python-client) (1.11.0)\n",
      "Requirement already satisfied, skipping upgrade: google-auth>=1.4.1 in c:\\users\\kutor\\appdata\\local\\programs\\python\\python36\\lib\\site-packages (from google-api-python-client) (1.6.3)\n",
      "Requirement already satisfied, skipping upgrade: httplib2<1dev,>=0.9.2 in c:\\users\\kutor\\appdata\\local\\programs\\python\\python36\\lib\\site-packages (from google-api-python-client) (0.14.0)\n",
      "Requirement already satisfied, skipping upgrade: requests<3.0.0dev,>=2.18.0 in c:\\users\\kutor\\appdata\\local\\programs\\python\\python36\\lib\\site-packages (from google-api-core<2dev,>=1.13.0->google-api-python-client) (2.21.0)\n",
      "Requirement already satisfied, skipping upgrade: pytz in c:\\users\\kutor\\appdata\\local\\programs\\python\\python36\\lib\\site-packages (from google-api-core<2dev,>=1.13.0->google-api-python-client) (2018.7)\n",
      "Requirement already satisfied, skipping upgrade: setuptools>=34.0.0 in c:\\users\\kutor\\appdata\\local\\programs\\python\\python36\\lib\\site-packages (from google-api-core<2dev,>=1.13.0->google-api-python-client) (42.0.0)\n",
      "Requirement already satisfied, skipping upgrade: googleapis-common-protos<2.0dev,>=1.6.0 in c:\\users\\kutor\\appdata\\local\\programs\\python\\python36\\lib\\site-packages (from google-api-core<2dev,>=1.13.0->google-api-python-client) (1.51.0)\n",
      "Requirement already satisfied, skipping upgrade: protobuf>=3.4.0 in c:\\users\\kutor\\appdata\\local\\programs\\python\\python36\\lib\\site-packages (from google-api-core<2dev,>=1.13.0->google-api-python-client) (3.11.3)\n",
      "Requirement already satisfied, skipping upgrade: pyasn1-modules>=0.2.1 in c:\\users\\kutor\\appdata\\local\\programs\\python\\python36\\lib\\site-packages (from google-auth>=1.4.1->google-api-python-client) (0.2.7)\n",
      "Requirement already satisfied, skipping upgrade: cachetools>=2.0.0 in c:\\users\\kutor\\appdata\\local\\programs\\python\\python36\\lib\\site-packages (from google-auth>=1.4.1->google-api-python-client) (3.1.1)\n",
      "Requirement already satisfied, skipping upgrade: rsa>=3.1.4 in c:\\users\\kutor\\appdata\\local\\programs\\python\\python36\\lib\\site-packages (from google-auth>=1.4.1->google-api-python-client) (4.0)\n",
      "Requirement already satisfied, skipping upgrade: urllib3<1.25,>=1.21.1 in c:\\users\\kutor\\appdata\\local\\programs\\python\\python36\\lib\\site-packages (from requests<3.0.0dev,>=2.18.0->google-api-core<2dev,>=1.13.0->google-api-python-client) (1.24.1)\n",
      "Requirement already satisfied, skipping upgrade: certifi>=2017.4.17 in c:\\users\\kutor\\appdata\\local\\programs\\python\\python36\\lib\\site-packages (from requests<3.0.0dev,>=2.18.0->google-api-core<2dev,>=1.13.0->google-api-python-client) (2019.3.9)\n",
      "Requirement already satisfied, skipping upgrade: chardet<3.1.0,>=3.0.2 in c:\\users\\kutor\\appdata\\local\\programs\\python\\python36\\lib\\site-packages (from requests<3.0.0dev,>=2.18.0->google-api-core<2dev,>=1.13.0->google-api-python-client) (3.0.4)\n",
      "Requirement already satisfied, skipping upgrade: idna<2.9,>=2.5 in c:\\users\\kutor\\appdata\\local\\programs\\python\\python36\\lib\\site-packages (from requests<3.0.0dev,>=2.18.0->google-api-core<2dev,>=1.13.0->google-api-python-client) (2.8)\n",
      "Requirement already satisfied, skipping upgrade: pyasn1<0.5.0,>=0.4.6 in c:\\users\\kutor\\appdata\\local\\programs\\python\\python36\\lib\\site-packages (from pyasn1-modules>=0.2.1->google-auth>=1.4.1->google-api-python-client) (0.4.7)\n",
      "Requirement already up-to-date: google-auth-oauthlib in c:\\users\\kutor\\appdata\\local\\programs\\python\\python36\\lib\\site-packages (0.4.1)\n",
      "Requirement already up-to-date: google-auth-httplib2 in c:\\users\\kutor\\appdata\\local\\programs\\python\\python36\\lib\\site-packages (0.0.3)\n",
      "Requirement already satisfied, skipping upgrade: requests-oauthlib>=0.7.0 in c:\\users\\kutor\\appdata\\local\\programs\\python\\python36\\lib\\site-packages (from google-auth-oauthlib) (1.2.0)\n",
      "Requirement already satisfied, skipping upgrade: google-auth in c:\\users\\kutor\\appdata\\local\\programs\\python\\python36\\lib\\site-packages (from google-auth-oauthlib) (1.6.3)\n",
      "Requirement already satisfied, skipping upgrade: httplib2>=0.9.1 in c:\\users\\kutor\\appdata\\local\\programs\\python\\python36\\lib\\site-packages (from google-auth-httplib2) (0.14.0)\n",
      "Requirement already satisfied, skipping upgrade: oauthlib>=3.0.0 in c:\\users\\kutor\\appdata\\local\\programs\\python\\python36\\lib\\site-packages (from requests-oauthlib>=0.7.0->google-auth-oauthlib) (3.1.0)\n",
      "Requirement already satisfied, skipping upgrade: requests>=2.0.0 in c:\\users\\kutor\\appdata\\local\\programs\\python\\python36\\lib\\site-packages (from requests-oauthlib>=0.7.0->google-auth-oauthlib) (2.21.0)\n",
      "Requirement already satisfied, skipping upgrade: rsa>=3.1.4 in c:\\users\\kutor\\appdata\\local\\programs\\python\\python36\\lib\\site-packages (from google-auth->google-auth-oauthlib) (4.0)\n",
      "Requirement already satisfied, skipping upgrade: cachetools>=2.0.0 in c:\\users\\kutor\\appdata\\local\\programs\\python\\python36\\lib\\site-packages (from google-auth->google-auth-oauthlib) (3.1.1)\n",
      "Requirement already satisfied, skipping upgrade: six>=1.9.0 in c:\\users\\kutor\\appdata\\local\\programs\\python\\python36\\lib\\site-packages (from google-auth->google-auth-oauthlib) (1.11.0)\n",
      "Requirement already satisfied, skipping upgrade: pyasn1-modules>=0.2.1 in c:\\users\\kutor\\appdata\\local\\programs\\python\\python36\\lib\\site-packages (from google-auth->google-auth-oauthlib) (0.2.7)\n",
      "Requirement already satisfied, skipping upgrade: chardet<3.1.0,>=3.0.2 in c:\\users\\kutor\\appdata\\local\\programs\\python\\python36\\lib\\site-packages (from requests>=2.0.0->requests-oauthlib>=0.7.0->google-auth-oauthlib) (3.0.4)\n",
      "Requirement already satisfied, skipping upgrade: idna<2.9,>=2.5 in c:\\users\\kutor\\appdata\\local\\programs\\python\\python36\\lib\\site-packages (from requests>=2.0.0->requests-oauthlib>=0.7.0->google-auth-oauthlib) (2.8)\n",
      "Requirement already satisfied, skipping upgrade: urllib3<1.25,>=1.21.1 in c:\\users\\kutor\\appdata\\local\\programs\\python\\python36\\lib\\site-packages (from requests>=2.0.0->requests-oauthlib>=0.7.0->google-auth-oauthlib) (1.24.1)\n",
      "Requirement already satisfied, skipping upgrade: certifi>=2017.4.17 in c:\\users\\kutor\\appdata\\local\\programs\\python\\python36\\lib\\site-packages (from requests>=2.0.0->requests-oauthlib>=0.7.0->google-auth-oauthlib) (2019.3.9)\n",
      "Requirement already satisfied, skipping upgrade: pyasn1>=0.1.3 in c:\\users\\kutor\\appdata\\local\\programs\\python\\python36\\lib\\site-packages (from rsa>=3.1.4->google-auth->google-auth-oauthlib) (0.4.7)\n",
      "Requirement already up-to-date: google-api-core in c:\\users\\kutor\\appdata\\local\\programs\\python\\python36\\lib\\site-packages (1.16.0)\n",
      "Requirement already satisfied, skipping upgrade: google-auth<2.0dev,>=0.4.0 in c:\\users\\kutor\\appdata\\local\\programs\\python\\python36\\lib\\site-packages (from google-api-core) (1.6.3)\n",
      "Requirement already satisfied, skipping upgrade: protobuf>=3.4.0 in c:\\users\\kutor\\appdata\\local\\programs\\python\\python36\\lib\\site-packages (from google-api-core) (3.11.3)\n",
      "Requirement already satisfied, skipping upgrade: googleapis-common-protos<2.0dev,>=1.6.0 in c:\\users\\kutor\\appdata\\local\\programs\\python\\python36\\lib\\site-packages (from google-api-core) (1.51.0)\n",
      "Requirement already satisfied, skipping upgrade: six>=1.10.0 in c:\\users\\kutor\\appdata\\local\\programs\\python\\python36\\lib\\site-packages (from google-api-core) (1.11.0)\n",
      "Requirement already satisfied, skipping upgrade: pytz in c:\\users\\kutor\\appdata\\local\\programs\\python\\python36\\lib\\site-packages (from google-api-core) (2018.7)\n",
      "Requirement already satisfied, skipping upgrade: requests<3.0.0dev,>=2.18.0 in c:\\users\\kutor\\appdata\\local\\programs\\python\\python36\\lib\\site-packages (from google-api-core) (2.21.0)\n",
      "Requirement already satisfied, skipping upgrade: setuptools>=34.0.0 in c:\\users\\kutor\\appdata\\local\\programs\\python\\python36\\lib\\site-packages (from google-api-core) (42.0.0)\n",
      "Requirement already satisfied, skipping upgrade: rsa>=3.1.4 in c:\\users\\kutor\\appdata\\local\\programs\\python\\python36\\lib\\site-packages (from google-auth<2.0dev,>=0.4.0->google-api-core) (4.0)\n",
      "Requirement already satisfied, skipping upgrade: cachetools>=2.0.0 in c:\\users\\kutor\\appdata\\local\\programs\\python\\python36\\lib\\site-packages (from google-auth<2.0dev,>=0.4.0->google-api-core) (3.1.1)\n",
      "Requirement already satisfied, skipping upgrade: pyasn1-modules>=0.2.1 in c:\\users\\kutor\\appdata\\local\\programs\\python\\python36\\lib\\site-packages (from google-auth<2.0dev,>=0.4.0->google-api-core) (0.2.7)\n",
      "Requirement already satisfied, skipping upgrade: urllib3<1.25,>=1.21.1 in c:\\users\\kutor\\appdata\\local\\programs\\python\\python36\\lib\\site-packages (from requests<3.0.0dev,>=2.18.0->google-api-core) (1.24.1)\n",
      "Requirement already satisfied, skipping upgrade: idna<2.9,>=2.5 in c:\\users\\kutor\\appdata\\local\\programs\\python\\python36\\lib\\site-packages (from requests<3.0.0dev,>=2.18.0->google-api-core) (2.8)\n",
      "Requirement already satisfied, skipping upgrade: certifi>=2017.4.17 in c:\\users\\kutor\\appdata\\local\\programs\\python\\python36\\lib\\site-packages (from requests<3.0.0dev,>=2.18.0->google-api-core) (2019.3.9)\n",
      "Requirement already satisfied, skipping upgrade: chardet<3.1.0,>=3.0.2 in c:\\users\\kutor\\appdata\\local\\programs\\python\\python36\\lib\\site-packages (from requests<3.0.0dev,>=2.18.0->google-api-core) (3.0.4)\n",
      "Requirement already satisfied, skipping upgrade: pyasn1>=0.1.3 in c:\\users\\kutor\\appdata\\local\\programs\\python\\python36\\lib\\site-packages (from rsa>=3.1.4->google-auth<2.0dev,>=0.4.0->google-api-core) (0.4.7)\n"
     ]
    }
   ],
   "source": [
    "# Run once\n",
    "!pip install --upgrade google-api-python-client\n",
    "!pip install --upgrade google-auth-oauthlib google-auth-httplib2\n",
    "!pip install --upgrade google-api-core"
   ]
  },
  {
   "cell_type": "markdown",
   "metadata": {},
   "source": [
    "### Desired scraping code\n",
    "- config files to identify what categories of videos to scrape\n",
    "- what level of popularity to lower bound our videos to\n",
    "    - what measurement works for this? subscription to yearly average view count in relation to videos uploaded count?\n",
    "- possible inversion config option to instead opt for getting the least popular videos(?)\n",
    "- output to data/out/\n",
    "    - /thumbs -- a folder full of thumbnails with identifying labels (possibly gzip compressed?)\n",
    "    - videos.csv -- a .csv containing metadata on the videos that correspond to the thumbnails in the above folder."
   ]
  },
  {
   "cell_type": "markdown",
   "metadata": {},
   "source": [
    "### Possible search parameters\n",
    "- Safesearch\n",
    "    - none\n",
    "    - moderate\n",
    "    - strict"
   ]
  },
  {
   "cell_type": "markdown",
   "metadata": {},
   "source": [
    "***"
   ]
  },
  {
   "cell_type": "markdown",
   "metadata": {},
   "source": [
    "# Code"
   ]
  },
  {
   "cell_type": "code",
   "execution_count": 1,
   "metadata": {},
   "outputs": [],
   "source": [
    "import os\n",
    "import json\n",
    "import pandas as pd\n",
    "import time\n",
    "\n",
    "import google_auth_oauthlib.flow\n",
    "import googleapiclient.discovery\n",
    "import googleapiclient.errors"
   ]
  },
  {
   "cell_type": "code",
   "execution_count": 2,
   "metadata": {},
   "outputs": [],
   "source": [
    "def youtube_request():\n",
    "    youtube = googleapiclient.discovery.build(\n",
    "        api_service_name, api_version, developerKey=api_key)\n",
    "    \n",
    "    # Search parameters\n",
    "    request = youtube.search().list(\n",
    "        part=\"snippet\",\n",
    "        q=\"gaming\",\n",
    "        maxResults=\"10\",\n",
    "        type=\"channel\"\n",
    "    )\n",
    "    response = request.execute()\n",
    "\n",
    "    return response\n",
    "\n",
    "def get_channel_videos(channel_id):\n",
    "    youtube = googleapiclient.discovery.build(\n",
    "        api_service_name, api_version, developerKey=api_key)\n",
    "    \n",
    "    request = youtube.search().list(\n",
    "        part=\"snippet\",\n",
    "        maxResults=\"10\",\n",
    "        type=\"video\",\n",
    "        channelId=channel_id,\n",
    "        order=\"date\"\n",
    "    )\n",
    "    response = request.execute()\n",
    "    return response\n",
    "\n",
    "def request_video_details(video_id):\n",
    "    youtube = googleapiclient.discovery.build(\n",
    "        api_service_name, api_version, developerKey=api_key)\n",
    "    # note that this uses youtube.videos instead of youtube.search\n",
    "    request = youtube.videos().list(\n",
    "        part=\"snippet,contentDetails,statistics\",\n",
    "        id=video_id\n",
    "    )\n",
    "    response = request.execute()\n",
    "    return response\n",
    "\n",
    "def get_vid_stats(vid):\n",
    "    channel_id = vid['snippet']['channelId']\n",
    "    channel_title = vid['snippet']['channelTitle']\n",
    "    try:\n",
    "        thumbnail_link = vid['snippet']['thumbnails']['maxres']['url']\n",
    "    except:\n",
    "        thumbnail_link = vid['snippet']['thumbnails']['high']['url']\n",
    "    title = vid['snippet']['title']\n",
    "    date = vid['snippet']['publishedAt']\n",
    "    views = vid['statistics']['viewCount']\n",
    "    likes = vid['statistics']['likeCount']\n",
    "    dislikes = vid['statistics']['dislikeCount']\n",
    "    comments = vid['statistics']['commentCount']\n",
    "    stats = [channel_id, channel_title, thumbnail_link, title, date, views, likes, dislikes, comments]\n",
    "    return stats\n",
    "\n",
    "# full pipeline for scraping and generating dataframe\n",
    "def main_pipeline():\n",
    "    metadata = []\n",
    "    # get initial search results (usually going to be a list of channels)\n",
    "    out = youtube_request()\n",
    "    data = out['items']\n",
    "    # get channel ids from search results\n",
    "    channel_ids = []\n",
    "    for channel in data:\n",
    "        cur_channel_id = channel['snippet']['channelId']\n",
    "        channel_ids.append(cur_channel_id)\n",
    "        # get channel videos from the current channel id (we can also choose to handpick channels / videos)\n",
    "        videos = get_channel_videos(cur_channel_id)\n",
    "        video_ids = []\n",
    "        for video in videos['items']:\n",
    "            cur_id = video['id']['videoId']\n",
    "            video_ids.append(cur_id)\n",
    "            # use youtube videos api to get metadata about a single video, by video id\n",
    "            cur_vid = request_video_details(cur_id)['items'][0]\n",
    "            row = get_vid_stats(cur_vid)\n",
    "            metadata.append(row)\n",
    "        time.sleep(1)\n",
    "\n",
    "    # create a dataframe from the gathered metadata\n",
    "    columns = ['channelId','channelTitle','thumbnailLink',\n",
    "               'videoTitle','Date','Views',\n",
    "               'Likes','Dislikes','Comments']\n",
    "    df = pd.DataFrame(metadata,columns=columns)\n",
    "    return df"
   ]
  },
  {
   "cell_type": "markdown",
   "metadata": {},
   "source": [
    "# Data Setup\n",
    "will probably move this to a config file at some point"
   ]
  },
  {
   "cell_type": "code",
   "execution_count": 3,
   "metadata": {
    "scrolled": true
   },
   "outputs": [],
   "source": [
    "scopes = [\"https://www.googleapis.com/auth/youtube.force-ssl\"]\n",
    "with open('../api_key.json') as json_file:\n",
    "    cred = json.load(json_file)\n",
    "api_key = cred['api_key']\n",
    "# Disable OAuthlib's HTTPS verification when running locally.\n",
    "# *DO NOT* leave this option enabled in production.\n",
    "os.environ[\"OAUTHLIB_INSECURE_TRANSPORT\"] = \"1\"\n",
    "api_service_name = \"youtube\"\n",
    "api_version = \"v3\""
   ]
  },
  {
   "cell_type": "markdown",
   "metadata": {},
   "source": [
    "# Full run"
   ]
  },
  {
   "cell_type": "code",
   "execution_count": 4,
   "metadata": {},
   "outputs": [],
   "source": [
    "# run this if you want to scrape data and generate a dataset BE CAREFUL THIS USES MANY API CALLS\n",
    "meta_df = main_pipeline()"
   ]
  },
  {
   "cell_type": "markdown",
   "metadata": {},
   "source": [
    "# Individual Steps\n",
    "this is the full run broken down into individual steps for dev and clarity purposes"
   ]
  },
  {
   "cell_type": "code",
   "execution_count": null,
   "metadata": {},
   "outputs": [],
   "source": [
    "# get initial search data (usually a list of channels)\n",
    "out = youtube_request()\n",
    "data = out['items']"
   ]
  },
  {
   "cell_type": "code",
   "execution_count": 25,
   "metadata": {},
   "outputs": [],
   "source": [
    "# get channel ids from search results\n",
    "channel_ids = []\n",
    "for channel in data:\n",
    "    cur_channel_id = channel['snippet']['channelId']\n",
    "    channel_ids.append(cur_channel_id)"
   ]
  },
  {
   "cell_type": "code",
   "execution_count": null,
   "metadata": {},
   "outputs": [],
   "source": [
    "# get channel videos from a specific channel id\n",
    "cur_channel_id = channel_ids[1] # arbitrary channel id for demo purposes\n",
    "videos = get_channel_videos(cur_channel_id)\n",
    "video_ids = []\n",
    "for video in videos['items']:\n",
    "    video_ids.append(video['id']['videoId'])"
   ]
  },
  {
   "cell_type": "code",
   "execution_count": 92,
   "metadata": {},
   "outputs": [],
   "source": [
    "metadata = []\n",
    "# use youtube videos api to get metadata about a single video, by video id\n",
    "for cur_id in video_ids:\n",
    "    cur_vid = request_video_details(cur_id)['items'][0]\n",
    "    row = get_vid_stats(cur_vid)\n",
    "    metadata.append(row)    "
   ]
  },
  {
   "cell_type": "code",
   "execution_count": 95,
   "metadata": {},
   "outputs": [],
   "source": [
    "# create a dataframe from the gathered metadata\n",
    "columns = ['channelId','channelTitle','thumbnailLink','videoTitle','Date','Views','Likes','Dislikes','Comments']\n",
    "df = pd.DataFrame(metadata,columns=columns)"
   ]
  },
  {
   "cell_type": "code",
   "execution_count": 113,
   "metadata": {},
   "outputs": [
    {
     "data": {
      "text/html": [
       "<div>\n",
       "<style scoped>\n",
       "    .dataframe tbody tr th:only-of-type {\n",
       "        vertical-align: middle;\n",
       "    }\n",
       "\n",
       "    .dataframe tbody tr th {\n",
       "        vertical-align: top;\n",
       "    }\n",
       "\n",
       "    .dataframe thead th {\n",
       "        text-align: right;\n",
       "    }\n",
       "</style>\n",
       "<table border=\"1\" class=\"dataframe\">\n",
       "  <thead>\n",
       "    <tr style=\"text-align: right;\">\n",
       "      <th></th>\n",
       "      <th>channelId</th>\n",
       "      <th>channelTitle</th>\n",
       "      <th>thumbnailLink</th>\n",
       "      <th>videoTitle</th>\n",
       "      <th>Date</th>\n",
       "      <th>Views</th>\n",
       "      <th>Likes</th>\n",
       "      <th>Dislikes</th>\n",
       "      <th>Comments</th>\n",
       "    </tr>\n",
       "  </thead>\n",
       "  <tbody>\n",
       "    <tr>\n",
       "      <td>0</td>\n",
       "      <td>UCrkfdiZ4pF3f5waQaJtjXew</td>\n",
       "      <td>GamingWithKev</td>\n",
       "      <td>https://i.ytimg.com/vi/f19g-muiJ2M/maxresdefau...</td>\n",
       "      <td>ROBLOX WIPEOUT...</td>\n",
       "      <td>2020-04-01T02:01:33.000Z</td>\n",
       "      <td>203876</td>\n",
       "      <td>21828</td>\n",
       "      <td>285</td>\n",
       "      <td>2139</td>\n",
       "    </tr>\n",
       "    <tr>\n",
       "      <td>1</td>\n",
       "      <td>UCrkfdiZ4pF3f5waQaJtjXew</td>\n",
       "      <td>GamingWithKev</td>\n",
       "      <td>https://i.ytimg.com/vi/K0hRF4u1M1M/maxresdefau...</td>\n",
       "      <td>Playing as MY CHARACTER in Roblox Bakon...</td>\n",
       "      <td>2020-03-30T23:26:12.000Z</td>\n",
       "      <td>858107</td>\n",
       "      <td>64494</td>\n",
       "      <td>916</td>\n",
       "      <td>3985</td>\n",
       "    </tr>\n",
       "    <tr>\n",
       "      <td>2</td>\n",
       "      <td>UCrkfdiZ4pF3f5waQaJtjXew</td>\n",
       "      <td>GamingWithKev</td>\n",
       "      <td>https://i.ytimg.com/vi/ctqqGZOcXFA/maxresdefau...</td>\n",
       "      <td>ROBLOX PIGGY INFECTION...</td>\n",
       "      <td>2020-03-30T00:03:40.000Z</td>\n",
       "      <td>556425</td>\n",
       "      <td>32997</td>\n",
       "      <td>649</td>\n",
       "      <td>1958</td>\n",
       "    </tr>\n",
       "    <tr>\n",
       "      <td>3</td>\n",
       "      <td>UCrkfdiZ4pF3f5waQaJtjXew</td>\n",
       "      <td>GamingWithKev</td>\n",
       "      <td>https://i.ytimg.com/vi/6-ePZzPsTws/maxresdefau...</td>\n",
       "      <td>My Character is in the GAME!! (Roblox Bakon Ch...</td>\n",
       "      <td>2020-03-28T16:44:28.000Z</td>\n",
       "      <td>1360181</td>\n",
       "      <td>52226</td>\n",
       "      <td>1129</td>\n",
       "      <td>2647</td>\n",
       "    </tr>\n",
       "    <tr>\n",
       "      <td>4</td>\n",
       "      <td>UCrkfdiZ4pF3f5waQaJtjXew</td>\n",
       "      <td>GamingWithKev</td>\n",
       "      <td>https://i.ytimg.com/vi/OTT-8PrarMM/maxresdefau...</td>\n",
       "      <td>ROBLOX HOUSE PARTY...</td>\n",
       "      <td>2020-03-27T22:02:31.000Z</td>\n",
       "      <td>251918</td>\n",
       "      <td>9982</td>\n",
       "      <td>250</td>\n",
       "      <td>1868</td>\n",
       "    </tr>\n",
       "  </tbody>\n",
       "</table>\n",
       "</div>"
      ],
      "text/plain": [
       "                  channelId   channelTitle  \\\n",
       "0  UCrkfdiZ4pF3f5waQaJtjXew  GamingWithKev   \n",
       "1  UCrkfdiZ4pF3f5waQaJtjXew  GamingWithKev   \n",
       "2  UCrkfdiZ4pF3f5waQaJtjXew  GamingWithKev   \n",
       "3  UCrkfdiZ4pF3f5waQaJtjXew  GamingWithKev   \n",
       "4  UCrkfdiZ4pF3f5waQaJtjXew  GamingWithKev   \n",
       "\n",
       "                                       thumbnailLink  \\\n",
       "0  https://i.ytimg.com/vi/f19g-muiJ2M/maxresdefau...   \n",
       "1  https://i.ytimg.com/vi/K0hRF4u1M1M/maxresdefau...   \n",
       "2  https://i.ytimg.com/vi/ctqqGZOcXFA/maxresdefau...   \n",
       "3  https://i.ytimg.com/vi/6-ePZzPsTws/maxresdefau...   \n",
       "4  https://i.ytimg.com/vi/OTT-8PrarMM/maxresdefau...   \n",
       "\n",
       "                                          videoTitle  \\\n",
       "0                                  ROBLOX WIPEOUT...   \n",
       "1         Playing as MY CHARACTER in Roblox Bakon...   \n",
       "2                          ROBLOX PIGGY INFECTION...   \n",
       "3  My Character is in the GAME!! (Roblox Bakon Ch...   \n",
       "4                              ROBLOX HOUSE PARTY...   \n",
       "\n",
       "                       Date    Views  Likes Dislikes Comments  \n",
       "0  2020-04-01T02:01:33.000Z   203876  21828      285     2139  \n",
       "1  2020-03-30T23:26:12.000Z   858107  64494      916     3985  \n",
       "2  2020-03-30T00:03:40.000Z   556425  32997      649     1958  \n",
       "3  2020-03-28T16:44:28.000Z  1360181  52226     1129     2647  \n",
       "4  2020-03-27T22:02:31.000Z   251918   9982      250     1868  "
      ]
     },
     "execution_count": 113,
     "metadata": {},
     "output_type": "execute_result"
    }
   ],
   "source": [
    "df.head()"
   ]
  },
  {
   "cell_type": "code",
   "execution_count": null,
   "metadata": {},
   "outputs": [],
   "source": []
  }
 ],
 "metadata": {
  "kernelspec": {
   "display_name": "Python 3",
   "language": "python",
   "name": "python3"
  },
  "language_info": {
   "codemirror_mode": {
    "name": "ipython",
    "version": 3
   },
   "file_extension": ".py",
   "mimetype": "text/x-python",
   "name": "python",
   "nbconvert_exporter": "python",
   "pygments_lexer": "ipython3",
   "version": "3.7.4"
  }
 },
 "nbformat": 4,
 "nbformat_minor": 2
}
