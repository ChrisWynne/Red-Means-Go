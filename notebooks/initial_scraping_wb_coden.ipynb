{
 "cells": [
  {
   "cell_type": "markdown",
   "metadata": {},
   "source": [
    "# Initial Data Scrape Workbook"
   ]
  },
  {
   "cell_type": "markdown",
   "metadata": {},
   "source": [
    "***"
   ]
  },
  {
   "cell_type": "markdown",
   "metadata": {},
   "source": [
    "### We ideally want to scrape a dataset consisting of\n",
    "- video thumbnails\n",
    "- titles\n",
    "- views\n",
    "- parent channel"
   ]
  },
  {
   "cell_type": "markdown",
   "metadata": {},
   "source": [
    "### YouTube API\n",
    "https://developers.google.com/youtube/v3/getting-started#quota\n",
    "\n",
    "Get credentials by going to https://console.developers.google.com/apis/dashboard?project=red-means-go\n",
    "- Look for \"YouTube Data API v3\" in the library tab and make sure it's enabled.\n",
    "- Select Credentials and get an api key\n",
    "\n",
    "Daily limit of 10,000 \"units\" worth of requests.\n",
    "- Different operations have different cost values, need to be careful what data we request.\n",
    "\n",
    "We can more efficiently get data by using the offered compressed gzip request format."
   ]
  },
  {
   "cell_type": "code",
   "execution_count": 2,
   "metadata": {
    "scrolled": true
   },
   "outputs": [
    {
     "name": "stdout",
     "output_type": "stream",
     "text": [
      "Collecting google-api-python-client\n",
      "\u001b[?25l  Downloading https://files.pythonhosted.org/packages/9a/b4/a955f393b838bc47cbb6ae4643b9d0f90333d3b4db4dc1e819f36aad18cc/google_api_python_client-1.8.0-py3-none-any.whl (57kB)\n",
      "\u001b[K     |████████████████████████████████| 61kB 1.4MB/s eta 0:00:011\n",
      "\u001b[?25hRequirement already satisfied, skipping upgrade: six<2dev,>=1.6.1 in /opt/anaconda3/lib/python3.7/site-packages (from google-api-python-client) (1.12.0)\n",
      "Requirement already satisfied, skipping upgrade: google-auth>=1.4.1 in /Users/JohnTotey/.local/lib/python3.7/site-packages (from google-api-python-client) (1.11.2)\n",
      "Collecting google-api-core<2dev,>=1.13.0 (from google-api-python-client)\n",
      "\u001b[?25l  Downloading https://files.pythonhosted.org/packages/63/7e/a523169b0cc9ce62d56e07571db927286a94b1a5f51ac220bd97db825c77/google_api_core-1.16.0-py2.py3-none-any.whl (70kB)\n",
      "\u001b[K     |████████████████████████████████| 71kB 4.1MB/s eta 0:00:011\n",
      "\u001b[?25hCollecting httplib2<1dev,>=0.9.2 (from google-api-python-client)\n",
      "\u001b[?25l  Downloading https://files.pythonhosted.org/packages/8e/4b/025a7338bb2d4a2c61f0e530b79aafc29d112ed8e61333a6dd9ba48f3bab/httplib2-0.17.0-py3-none-any.whl (95kB)\n",
      "\u001b[K     |████████████████████████████████| 102kB 10.4MB/s ta 0:00:01\n",
      "\u001b[?25hCollecting google-auth-httplib2>=0.0.3 (from google-api-python-client)\n",
      "  Downloading https://files.pythonhosted.org/packages/33/49/c814d6d438b823441552198f096fcd0377fd6c88714dbed34f1d3c8c4389/google_auth_httplib2-0.0.3-py2.py3-none-any.whl\n",
      "Collecting uritemplate<4dev,>=3.0.0 (from google-api-python-client)\n",
      "  Downloading https://files.pythonhosted.org/packages/bf/0c/60d82c077998feb631608dca3cc1fe19ac074e772bf0c24cf409b977b815/uritemplate-3.0.1-py2.py3-none-any.whl\n",
      "Requirement already satisfied, skipping upgrade: pyasn1-modules>=0.2.1 in /Users/JohnTotey/.local/lib/python3.7/site-packages (from google-auth>=1.4.1->google-api-python-client) (0.2.8)\n",
      "Requirement already satisfied, skipping upgrade: rsa<4.1,>=3.1.4 in /Users/JohnTotey/.local/lib/python3.7/site-packages (from google-auth>=1.4.1->google-api-python-client) (4.0)\n",
      "Requirement already satisfied, skipping upgrade: cachetools<5.0,>=2.0.0 in /Users/JohnTotey/.local/lib/python3.7/site-packages (from google-auth>=1.4.1->google-api-python-client) (4.0.0)\n",
      "Requirement already satisfied, skipping upgrade: setuptools>=40.3.0 in /opt/anaconda3/lib/python3.7/site-packages (from google-auth>=1.4.1->google-api-python-client) (41.4.0)\n",
      "Requirement already satisfied, skipping upgrade: pytz in /opt/anaconda3/lib/python3.7/site-packages (from google-api-core<2dev,>=1.13.0->google-api-python-client) (2019.3)\n",
      "Requirement already satisfied, skipping upgrade: protobuf>=3.4.0 in /Users/JohnTotey/.local/lib/python3.7/site-packages (from google-api-core<2dev,>=1.13.0->google-api-python-client) (3.11.3)\n",
      "Collecting googleapis-common-protos<2.0dev,>=1.6.0 (from google-api-core<2dev,>=1.13.0->google-api-python-client)\n",
      "  Downloading https://files.pythonhosted.org/packages/05/46/168fd780f594a4d61122f7f3dc0561686084319ad73b4febbf02ae8b32cf/googleapis-common-protos-1.51.0.tar.gz\n",
      "Requirement already satisfied, skipping upgrade: requests<3.0.0dev,>=2.18.0 in /opt/anaconda3/lib/python3.7/site-packages (from google-api-core<2dev,>=1.13.0->google-api-python-client) (2.22.0)\n",
      "Requirement already satisfied, skipping upgrade: pyasn1<0.5.0,>=0.4.6 in /Users/JohnTotey/.local/lib/python3.7/site-packages (from pyasn1-modules>=0.2.1->google-auth>=1.4.1->google-api-python-client) (0.4.8)\n",
      "Requirement already satisfied, skipping upgrade: idna<2.9,>=2.5 in /opt/anaconda3/lib/python3.7/site-packages (from requests<3.0.0dev,>=2.18.0->google-api-core<2dev,>=1.13.0->google-api-python-client) (2.8)\n",
      "Requirement already satisfied, skipping upgrade: urllib3!=1.25.0,!=1.25.1,<1.26,>=1.21.1 in /opt/anaconda3/lib/python3.7/site-packages (from requests<3.0.0dev,>=2.18.0->google-api-core<2dev,>=1.13.0->google-api-python-client) (1.24.2)\n",
      "Requirement already satisfied, skipping upgrade: chardet<3.1.0,>=3.0.2 in /opt/anaconda3/lib/python3.7/site-packages (from requests<3.0.0dev,>=2.18.0->google-api-core<2dev,>=1.13.0->google-api-python-client) (3.0.4)\n",
      "Requirement already satisfied, skipping upgrade: certifi>=2017.4.17 in /opt/anaconda3/lib/python3.7/site-packages (from requests<3.0.0dev,>=2.18.0->google-api-core<2dev,>=1.13.0->google-api-python-client) (2019.9.11)\n",
      "Building wheels for collected packages: googleapis-common-protos\n",
      "  Building wheel for googleapis-common-protos (setup.py) ... \u001b[?25ldone\n",
      "\u001b[?25h  Created wheel for googleapis-common-protos: filename=googleapis_common_protos-1.51.0-cp37-none-any.whl size=77593 sha256=82ff0214de57676b0b8294bd8a172ba0be1ff7eff4efd6a4431ee86893b222d6\n",
      "  Stored in directory: /Users/JohnTotey/Library/Caches/pip/wheels/2c/f9/7f/6eb87e636072bf467e25348bbeb96849333e6a080dca78f706\n",
      "Successfully built googleapis-common-protos\n",
      "Installing collected packages: googleapis-common-protos, google-api-core, httplib2, google-auth-httplib2, uritemplate, google-api-python-client\n",
      "Successfully installed google-api-core-1.16.0 google-api-python-client-1.8.0 google-auth-httplib2-0.0.3 googleapis-common-protos-1.51.0 httplib2-0.17.0 uritemplate-3.0.1\n",
      "Requirement already up-to-date: google-auth-oauthlib in /Users/JohnTotey/.local/lib/python3.7/site-packages (0.4.1)\n",
      "Requirement already up-to-date: google-auth-httplib2 in /opt/anaconda3/lib/python3.7/site-packages (0.0.3)\n",
      "Requirement already satisfied, skipping upgrade: requests-oauthlib>=0.7.0 in /Users/JohnTotey/.local/lib/python3.7/site-packages (from google-auth-oauthlib) (1.3.0)\n",
      "Requirement already satisfied, skipping upgrade: google-auth in /Users/JohnTotey/.local/lib/python3.7/site-packages (from google-auth-oauthlib) (1.11.2)\n",
      "Requirement already satisfied, skipping upgrade: httplib2>=0.9.1 in /opt/anaconda3/lib/python3.7/site-packages (from google-auth-httplib2) (0.17.0)\n",
      "Requirement already satisfied, skipping upgrade: oauthlib>=3.0.0 in /Users/JohnTotey/.local/lib/python3.7/site-packages (from requests-oauthlib>=0.7.0->google-auth-oauthlib) (3.1.0)\n",
      "Requirement already satisfied, skipping upgrade: requests>=2.0.0 in /opt/anaconda3/lib/python3.7/site-packages (from requests-oauthlib>=0.7.0->google-auth-oauthlib) (2.22.0)\n",
      "Requirement already satisfied, skipping upgrade: setuptools>=40.3.0 in /opt/anaconda3/lib/python3.7/site-packages (from google-auth->google-auth-oauthlib) (41.4.0)\n",
      "Requirement already satisfied, skipping upgrade: six>=1.9.0 in /opt/anaconda3/lib/python3.7/site-packages (from google-auth->google-auth-oauthlib) (1.12.0)\n",
      "Requirement already satisfied, skipping upgrade: rsa<4.1,>=3.1.4 in /Users/JohnTotey/.local/lib/python3.7/site-packages (from google-auth->google-auth-oauthlib) (4.0)\n",
      "Requirement already satisfied, skipping upgrade: cachetools<5.0,>=2.0.0 in /Users/JohnTotey/.local/lib/python3.7/site-packages (from google-auth->google-auth-oauthlib) (4.0.0)\n",
      "Requirement already satisfied, skipping upgrade: pyasn1-modules>=0.2.1 in /Users/JohnTotey/.local/lib/python3.7/site-packages (from google-auth->google-auth-oauthlib) (0.2.8)\n",
      "Requirement already satisfied, skipping upgrade: certifi>=2017.4.17 in /opt/anaconda3/lib/python3.7/site-packages (from requests>=2.0.0->requests-oauthlib>=0.7.0->google-auth-oauthlib) (2019.9.11)\n",
      "Requirement already satisfied, skipping upgrade: chardet<3.1.0,>=3.0.2 in /opt/anaconda3/lib/python3.7/site-packages (from requests>=2.0.0->requests-oauthlib>=0.7.0->google-auth-oauthlib) (3.0.4)\n",
      "Requirement already satisfied, skipping upgrade: urllib3!=1.25.0,!=1.25.1,<1.26,>=1.21.1 in /opt/anaconda3/lib/python3.7/site-packages (from requests>=2.0.0->requests-oauthlib>=0.7.0->google-auth-oauthlib) (1.24.2)\n",
      "Requirement already satisfied, skipping upgrade: idna<2.9,>=2.5 in /opt/anaconda3/lib/python3.7/site-packages (from requests>=2.0.0->requests-oauthlib>=0.7.0->google-auth-oauthlib) (2.8)\n",
      "Requirement already satisfied, skipping upgrade: pyasn1>=0.1.3 in /Users/JohnTotey/.local/lib/python3.7/site-packages (from rsa<4.1,>=3.1.4->google-auth->google-auth-oauthlib) (0.4.8)\n"
     ]
    }
   ],
   "source": [
    "# Run once\n",
    "!pip install --upgrade google-api-python-client\n",
    "!pip install --upgrade google-auth-oauthlib google-auth-httplib2"
   ]
  },
  {
   "cell_type": "code",
   "execution_count": 4,
   "metadata": {},
   "outputs": [
    {
     "name": "stdout",
     "output_type": "stream",
     "text": [
      "Requirement already up-to-date: google-api-core in /opt/anaconda3/lib/python3.7/site-packages (1.16.0)\n",
      "Requirement already satisfied, skipping upgrade: protobuf>=3.4.0 in /Users/JohnTotey/.local/lib/python3.7/site-packages (from google-api-core) (3.11.3)\n",
      "Requirement already satisfied, skipping upgrade: google-auth<2.0dev,>=0.4.0 in /Users/JohnTotey/.local/lib/python3.7/site-packages (from google-api-core) (1.11.2)\n",
      "Requirement already satisfied, skipping upgrade: setuptools>=34.0.0 in /opt/anaconda3/lib/python3.7/site-packages (from google-api-core) (41.4.0)\n",
      "Requirement already satisfied, skipping upgrade: requests<3.0.0dev,>=2.18.0 in /opt/anaconda3/lib/python3.7/site-packages (from google-api-core) (2.22.0)\n",
      "Requirement already satisfied, skipping upgrade: pytz in /opt/anaconda3/lib/python3.7/site-packages (from google-api-core) (2019.3)\n",
      "Requirement already satisfied, skipping upgrade: six>=1.10.0 in /opt/anaconda3/lib/python3.7/site-packages (from google-api-core) (1.12.0)\n",
      "Requirement already satisfied, skipping upgrade: googleapis-common-protos<2.0dev,>=1.6.0 in /opt/anaconda3/lib/python3.7/site-packages (from google-api-core) (1.51.0)\n",
      "Requirement already satisfied, skipping upgrade: cachetools<5.0,>=2.0.0 in /Users/JohnTotey/.local/lib/python3.7/site-packages (from google-auth<2.0dev,>=0.4.0->google-api-core) (4.0.0)\n",
      "Requirement already satisfied, skipping upgrade: pyasn1-modules>=0.2.1 in /Users/JohnTotey/.local/lib/python3.7/site-packages (from google-auth<2.0dev,>=0.4.0->google-api-core) (0.2.8)\n",
      "Requirement already satisfied, skipping upgrade: rsa<4.1,>=3.1.4 in /Users/JohnTotey/.local/lib/python3.7/site-packages (from google-auth<2.0dev,>=0.4.0->google-api-core) (4.0)\n",
      "Requirement already satisfied, skipping upgrade: certifi>=2017.4.17 in /opt/anaconda3/lib/python3.7/site-packages (from requests<3.0.0dev,>=2.18.0->google-api-core) (2019.9.11)\n",
      "Requirement already satisfied, skipping upgrade: chardet<3.1.0,>=3.0.2 in /opt/anaconda3/lib/python3.7/site-packages (from requests<3.0.0dev,>=2.18.0->google-api-core) (3.0.4)\n",
      "Requirement already satisfied, skipping upgrade: urllib3!=1.25.0,!=1.25.1,<1.26,>=1.21.1 in /opt/anaconda3/lib/python3.7/site-packages (from requests<3.0.0dev,>=2.18.0->google-api-core) (1.24.2)\n",
      "Requirement already satisfied, skipping upgrade: idna<2.9,>=2.5 in /opt/anaconda3/lib/python3.7/site-packages (from requests<3.0.0dev,>=2.18.0->google-api-core) (2.8)\n",
      "Requirement already satisfied, skipping upgrade: pyasn1<0.5.0,>=0.4.6 in /Users/JohnTotey/.local/lib/python3.7/site-packages (from pyasn1-modules>=0.2.1->google-auth<2.0dev,>=0.4.0->google-api-core) (0.4.8)\n"
     ]
    }
   ],
   "source": [
    "!pip install --upgrade google-api-core"
   ]
  },
  {
   "cell_type": "markdown",
   "metadata": {},
   "source": [
    "### Desired scraping code\n",
    "- config files to identify what categories of videos to scrape\n",
    "- what level of popularity to lower bound our videos to\n",
    "    - what measurement works for this? subscription to yearly average view count in relation to videos uploaded count?\n",
    "- possible inversion config option to instead opt for getting the least popular videos(?)\n",
    "- output to data/out/\n",
    "    - /thumbs -- a folder full of thumbnails with identifying labels (possibly gzip compressed?)\n",
    "    - videos.csv -- a .csv containing metadata on the videos that correspond to the thumbnails in the above folder."
   ]
  },
  {
   "cell_type": "markdown",
   "metadata": {},
   "source": [
    "### Possible search parameters\n",
    "- Safesearch\n",
    "    - none\n",
    "    - moderate\n",
    "    - strict"
   ]
  },
  {
   "cell_type": "markdown",
   "metadata": {},
   "source": [
    "***"
   ]
  },
  {
   "cell_type": "markdown",
   "metadata": {},
   "source": [
    "# Code"
   ]
  },
  {
   "cell_type": "code",
   "execution_count": 11,
   "metadata": {},
   "outputs": [],
   "source": [
    "import os\n",
    "import json\n",
    "\n",
    "\n",
    "import google_auth_oauthlib.flow\n",
    "import googleapiclient.discovery\n",
    "import googleapiclient.errors"
   ]
  },
  {
   "cell_type": "code",
   "execution_count": 12,
   "metadata": {},
   "outputs": [
    {
     "name": "stdout",
     "output_type": "stream",
     "text": [
      "{'kind': 'youtube#searchListResponse', 'etag': '\"ksCrgYQhtFrXgbHAhi9Fo5t0C2I/GhGrG0yRnu6JD3Hd1QW_qBbM1wc\"', 'nextPageToken': 'CAUQAA', 'regionCode': 'US', 'pageInfo': {'totalResults': 1000000, 'resultsPerPage': 5}, 'items': [{'kind': 'youtube#searchResult', 'etag': '\"ksCrgYQhtFrXgbHAhi9Fo5t0C2I/e62kFdcHSPkM3JEvN3WoYe_KG2Q\"', 'id': {'kind': 'youtube#channel', 'channelId': 'UCrkfdiZ4pF3f5waQaJtjXew'}, 'snippet': {'publishedAt': '2015-05-08T04:25:58.000Z', 'channelId': 'UCrkfdiZ4pF3f5waQaJtjXew', 'title': 'GamingWithKev', 'description': 'Comedy gaming commentary, pranks, vlogs ...I do it ALL baby!', 'thumbnails': {'default': {'url': 'https://yt3.ggpht.com/-oPzTfN-wwIQ/AAAAAAAAAAI/AAAAAAAAAAA/JaP9MeJeVrA/s88-c-k-no-mo-rj-c0xffffff/photo.jpg'}, 'medium': {'url': 'https://yt3.ggpht.com/-oPzTfN-wwIQ/AAAAAAAAAAI/AAAAAAAAAAA/JaP9MeJeVrA/s240-c-k-no-mo-rj-c0xffffff/photo.jpg'}, 'high': {'url': 'https://yt3.ggpht.com/-oPzTfN-wwIQ/AAAAAAAAAAI/AAAAAAAAAAA/JaP9MeJeVrA/s800-c-k-no-mo-rj-c0xffffff/photo.jpg'}}, 'channelTitle': 'GamingWithKev', 'liveBroadcastContent': 'none'}}, {'kind': 'youtube#searchResult', 'etag': '\"ksCrgYQhtFrXgbHAhi9Fo5t0C2I/dKxwVFhxqbeT52Km4W3MXZUOUaw\"', 'id': {'kind': 'youtube#channel', 'channelId': 'UCOpNcN46UbXVtpKMrmU4Abg'}, 'snippet': {'publishedAt': '2013-12-15T20:44:04.000Z', 'channelId': 'UCOpNcN46UbXVtpKMrmU4Abg', 'title': 'Gaming', 'description': \"YouTube's gaming channel, featuring news, reviews, playthroughs, and more. This channel was generated automatically by YouTube's video discovery system.\", 'thumbnails': {'default': {'url': 'https://yt3.ggpht.com/-25x-4qGxQj4/AAAAAAAAAAI/AAAAAAAAAAA/bb1bo69ipjE/s88-c-k-no-mo-rj-c0xffffff/photo.jpg'}, 'medium': {'url': 'https://yt3.ggpht.com/-25x-4qGxQj4/AAAAAAAAAAI/AAAAAAAAAAA/bb1bo69ipjE/s240-c-k-no-mo-rj-c0xffffff/photo.jpg'}, 'high': {'url': 'https://yt3.ggpht.com/-25x-4qGxQj4/AAAAAAAAAAI/AAAAAAAAAAA/bb1bo69ipjE/s800-c-k-no-mo-rj-c0xffffff/photo.jpg'}}, 'channelTitle': 'Gaming', 'liveBroadcastContent': 'none'}}, {'kind': 'youtube#searchResult', 'etag': '\"ksCrgYQhtFrXgbHAhi9Fo5t0C2I/UFDkLRMWWMx-GJUXeScVGDcdtMY\"', 'id': {'kind': 'youtube#video', 'videoId': 'eFUAGZUPJbY'}, 'snippet': {'publishedAt': '2020-04-01T19:55:50.000Z', 'channelId': 'UCWVuy4NPohItH9-Gr7e8wqw', 'title': 'Apple iPad Pro 2020 Unboxing - Best Tablet for Gaming? (Fortnite, PUBG, Call of Duty Mobile)', 'description': 'Unboxing review of new Apple iPad Pro 2020 tablets (12.9 inch 4th generation & 10 inch), Pencil and keyboard. iPhone 11 phone style dual camera. 120 FPS ...', 'thumbnails': {'default': {'url': 'https://i.ytimg.com/vi/eFUAGZUPJbY/default.jpg', 'width': 120, 'height': 90}, 'medium': {'url': 'https://i.ytimg.com/vi/eFUAGZUPJbY/mqdefault.jpg', 'width': 320, 'height': 180}, 'high': {'url': 'https://i.ytimg.com/vi/eFUAGZUPJbY/hqdefault.jpg', 'width': 480, 'height': 360}}, 'channelTitle': 'TheRelaxingEnd', 'liveBroadcastContent': 'none'}}, {'kind': 'youtube#searchResult', 'etag': '\"ksCrgYQhtFrXgbHAhi9Fo5t0C2I/C9de3jdeyjRD26u30ayRlD__lgw\"', 'id': {'kind': 'youtube#video', 'videoId': 'gfZ4hwzdUww'}, 'snippet': {'publishedAt': '2020-04-01T19:43:00.000Z', 'channelId': 'UCmyIMuo8zRYgLshDff0vLuw', 'title': 'Gaming con Darkar - T1, E10: DOOM Eternal', 'description': 'Sitio Oficial: http://www.vetealaversh.com Facebook: http://www.facebook.com/vetealavershoficial Twitter: http://www.twitter.com/vetealaversh.', 'thumbnails': {'default': {'url': 'https://i.ytimg.com/vi/gfZ4hwzdUww/default.jpg', 'width': 120, 'height': 90}, 'medium': {'url': 'https://i.ytimg.com/vi/gfZ4hwzdUww/mqdefault.jpg', 'width': 320, 'height': 180}, 'high': {'url': 'https://i.ytimg.com/vi/gfZ4hwzdUww/hqdefault.jpg', 'width': 480, 'height': 360}}, 'channelTitle': 'Vete a la Versh', 'liveBroadcastContent': 'none'}}, {'kind': 'youtube#searchResult', 'etag': '\"ksCrgYQhtFrXgbHAhi9Fo5t0C2I/mHNa6lLoscrcXgWp2kjNca00EAk\"', 'id': {'kind': 'youtube#video', 'videoId': 'tVvuAz86Gy8'}, 'snippet': {'publishedAt': '2020-03-31T17:21:07.000Z', 'channelId': 'UCftcLVz-jtPXoH3cWUUDwYw', 'title': 'A gaming pre-built that doesn&#39;t suck (RARE!)', 'description': \"The All-AMD Corsair Vengeance PC is a gaming pre-built desktop that doesn't actually suck. Here's why. Corsair Vengeance 6182: http://bit.ly/32W9IcP Corsair ...\", 'thumbnails': {'default': {'url': 'https://i.ytimg.com/vi/tVvuAz86Gy8/default.jpg', 'width': 120, 'height': 90}, 'medium': {'url': 'https://i.ytimg.com/vi/tVvuAz86Gy8/mqdefault.jpg', 'width': 320, 'height': 180}, 'high': {'url': 'https://i.ytimg.com/vi/tVvuAz86Gy8/hqdefault.jpg', 'width': 480, 'height': 360}}, 'channelTitle': 'Bitwit', 'liveBroadcastContent': 'none'}}]}\n"
     ]
    }
   ],
   "source": [
    "scopes = [\"https://www.googleapis.com/auth/youtube.force-ssl\"]\n",
    "\n",
    "with open('../api_key.txt') as json_file:\n",
    "    cred = json.load(json_file)\n",
    "api_key = cred['api_key']\n",
    "\n",
    "def main():\n",
    "    # Disable OAuthlib's HTTPS verification when running locally.\n",
    "    # *DO NOT* leave this option enabled in production.\n",
    "    os.environ[\"OAUTHLIB_INSECURE_TRANSPORT\"] = \"1\"\n",
    "\n",
    "    api_service_name = \"youtube\"\n",
    "    api_version = \"v3\"\n",
    "    \n",
    "    youtube = googleapiclient.discovery.build(\n",
    "        api_service_name, api_version, developerKey=api_key)\n",
    "    \n",
    "    # here is where we edit search parameters\n",
    "    request = youtube.search().list(\n",
    "        part=\"snippet\",\n",
    "        q=\"gaming\"\n",
    "    )\n",
    "    response = request.execute()\n",
    "\n",
    "    print(response)\n",
    "\n",
    "if __name__ == \"__main__\":\n",
    "    main()"
   ]
  },
  {
   "cell_type": "code",
   "execution_count": 1,
   "metadata": {},
   "outputs": [],
   "source": [
    "# import pandas as pd\n",
    "# import numpy as np\n",
    "\n",
    "# import os\n",
    "# import google_auth_oauthlib.flow\n",
    "# import googleapiclient.discovery\n",
    "# import googleapiclient.errors"
   ]
  },
  {
   "cell_type": "code",
   "execution_count": 6,
   "metadata": {},
   "outputs": [
    {
     "name": "stdout",
     "output_type": "stream",
     "text": [
      "········\n"
     ]
    }
   ],
   "source": [
    "# # Input credentials:\n",
    "# from getpass import getpass\n",
    "# api_key = getpass()"
   ]
  },
  {
   "cell_type": "markdown",
   "metadata": {},
   "source": [
    "No idea how the below code is supposed to work. Reference this link to work it out\n",
    "\n",
    "https://developers.google.com/youtube/v3/docs/search/list?apix_params=%7B%22part%22%3A%22gaming%22%2C%22maxResults%22%3A10%7D"
   ]
  },
  {
   "cell_type": "code",
   "execution_count": null,
   "metadata": {},
   "outputs": [],
   "source": [
    "# scopes = [\"https://www.googleapis.com/auth/youtube.readonly\"]\n",
    "\n",
    "# def execute_request(in_request):\n",
    "#     # Disable OAuthlib's HTTPS verification when running locally.\n",
    "#     # *DO NOT* leave this option enabled in production.\n",
    "#     os.environ[\"OAUTHLIB_INSECURE_TRANSPORT\"] = \"1\"\n",
    "\n",
    "#     api_service_name = \"youtube\"\n",
    "#     api_version = \"v3\"\n",
    "#     client_secrets_file = \"YOUR_CLIENT_SECRET_FILE.json\"\n",
    "\n",
    "#     # Get credentials and create an API client\n",
    "#     flow = google_auth_oauthlib.flow.InstalledAppFlow.from_client_secrets_file(\n",
    "#         client_secrets_file, scopes)\n",
    "#     credentials = flow.run_console()\n",
    "#     youtube = googleapiclient.discovery.build(\n",
    "#         api_service_name, api_version, credentials=credentials)\n",
    "\n",
    "#     request = eval(in_request)\n",
    "#     response = request.execute()\n",
    "\n",
    "#     return response"
   ]
  },
  {
   "cell_type": "code",
   "execution_count": null,
   "metadata": {},
   "outputs": [],
   "source": []
  }
 ],
 "metadata": {
  "kernelspec": {
   "display_name": "Python 3",
   "language": "python",
   "name": "python3"
  },
  "language_info": {
   "codemirror_mode": {
    "name": "ipython",
    "version": 3
   },
   "file_extension": ".py",
   "mimetype": "text/x-python",
   "name": "python",
   "nbconvert_exporter": "python",
   "pygments_lexer": "ipython3",
   "version": "3.7.4"
  }
 },
 "nbformat": 4,
 "nbformat_minor": 2
}
