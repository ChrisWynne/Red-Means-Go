{
 "cells": [
  {
   "cell_type": "markdown",
   "metadata": {},
   "source": [
    "# Initial Data Scrape Workbook"
   ]
  },
  {
   "cell_type": "markdown",
   "metadata": {},
   "source": [
    "***"
   ]
  },
  {
   "cell_type": "markdown",
   "metadata": {},
   "source": [
    "### We ideally want to scrape a dataset consisting of\n",
    "- video thumbnails\n",
    "- titles\n",
    "- views\n",
    "- parent channel"
   ]
  },
  {
   "cell_type": "markdown",
   "metadata": {},
   "source": [
    "### YouTube API\n",
    "https://developers.google.com/youtube/v3/getting-started#quota\n",
    "\n",
    "Get credentials by going to https://console.developers.google.com/apis/dashboard?project=red-means-go\n",
    "- Look for \"YouTube Data API v3\" in the library tab and make sure it's enabled.\n",
    "- Select Credentials and get an api key\n",
    "\n",
    "Daily limit of 10,000 \"units\" worth of requests.\n",
    "- Different operations have different cost values, need to be careful what data we request.\n",
    "\n",
    "We can more efficiently get data by using the offered compressed gzip request format."
   ]
  },
  {
   "cell_type": "code",
   "execution_count": 9,
   "metadata": {
    "scrolled": true
   },
   "outputs": [
    {
     "name": "stdout",
     "output_type": "stream",
     "text": [
      "Requirement already up-to-date: google-api-python-client in c:\\users\\kutor\\appdata\\local\\programs\\python\\python37\\lib\\site-packages (1.8.0)\n",
      "Requirement already satisfied, skipping upgrade: httplib2<1dev,>=0.9.2 in c:\\users\\kutor\\appdata\\local\\programs\\python\\python37\\lib\\site-packages (from google-api-python-client) (0.14.0)\n",
      "Requirement already satisfied, skipping upgrade: six<2dev,>=1.6.1 in c:\\users\\kutor\\appdata\\roaming\\python\\python37\\site-packages (from google-api-python-client) (1.12.0)\n",
      "Requirement already satisfied, skipping upgrade: uritemplate<4dev,>=3.0.0 in c:\\users\\kutor\\appdata\\local\\programs\\python\\python37\\lib\\site-packages (from google-api-python-client) (3.0.0)\n",
      "Requirement already satisfied, skipping upgrade: google-auth>=1.4.1 in c:\\users\\kutor\\appdata\\local\\programs\\python\\python37\\lib\\site-packages (from google-api-python-client) (1.6.3)\n",
      "Requirement already satisfied, skipping upgrade: google-auth-httplib2>=0.0.3 in c:\\users\\kutor\\appdata\\local\\programs\\python\\python37\\lib\\site-packages (from google-api-python-client) (0.0.3)\n",
      "Requirement already satisfied, skipping upgrade: google-api-core<2dev,>=1.13.0 in c:\\users\\kutor\\appdata\\local\\programs\\python\\python37\\lib\\site-packages (from google-api-python-client) (1.16.0)\n",
      "Requirement already satisfied, skipping upgrade: rsa>=3.1.4 in c:\\users\\kutor\\appdata\\local\\programs\\python\\python37\\lib\\site-packages (from google-auth>=1.4.1->google-api-python-client) (4.0)\n",
      "Requirement already satisfied, skipping upgrade: cachetools>=2.0.0 in c:\\users\\kutor\\appdata\\local\\programs\\python\\python37\\lib\\site-packages (from google-auth>=1.4.1->google-api-python-client) (3.1.1)\n",
      "Requirement already satisfied, skipping upgrade: pyasn1-modules>=0.2.1 in c:\\users\\kutor\\appdata\\local\\programs\\python\\python37\\lib\\site-packages (from google-auth>=1.4.1->google-api-python-client) (0.2.7)\n",
      "Requirement already satisfied, skipping upgrade: googleapis-common-protos<2.0dev,>=1.6.0 in c:\\users\\kutor\\appdata\\local\\programs\\python\\python37\\lib\\site-packages (from google-api-core<2dev,>=1.13.0->google-api-python-client) (1.51.0)\n",
      "Requirement already satisfied, skipping upgrade: protobuf>=3.4.0 in c:\\users\\kutor\\appdata\\local\\programs\\python\\python37\\lib\\site-packages (from google-api-core<2dev,>=1.13.0->google-api-python-client) (3.11.3)\n",
      "Requirement already satisfied, skipping upgrade: requests<3.0.0dev,>=2.18.0 in c:\\users\\kutor\\appdata\\local\\programs\\python\\python37\\lib\\site-packages (from google-api-core<2dev,>=1.13.0->google-api-python-client) (2.22.0)\n",
      "Requirement already satisfied, skipping upgrade: pytz in c:\\users\\kutor\\appdata\\local\\programs\\python\\python37\\lib\\site-packages (from google-api-core<2dev,>=1.13.0->google-api-python-client) (2019.2)\n",
      "Requirement already satisfied, skipping upgrade: setuptools>=34.0.0 in c:\\users\\kutor\\appdata\\local\\programs\\python\\python37\\lib\\site-packages (from google-api-core<2dev,>=1.13.0->google-api-python-client) (40.8.0)\n",
      "Requirement already satisfied, skipping upgrade: pyasn1>=0.1.3 in c:\\users\\kutor\\appdata\\local\\programs\\python\\python37\\lib\\site-packages (from rsa>=3.1.4->google-auth>=1.4.1->google-api-python-client) (0.4.7)\n",
      "Requirement already satisfied, skipping upgrade: certifi>=2017.4.17 in c:\\users\\kutor\\appdata\\local\\programs\\python\\python37\\lib\\site-packages (from requests<3.0.0dev,>=2.18.0->google-api-core<2dev,>=1.13.0->google-api-python-client) (2019.9.11)\n",
      "Requirement already satisfied, skipping upgrade: urllib3!=1.25.0,!=1.25.1,<1.26,>=1.21.1 in c:\\users\\kutor\\appdata\\local\\programs\\python\\python37\\lib\\site-packages (from requests<3.0.0dev,>=2.18.0->google-api-core<2dev,>=1.13.0->google-api-python-client) (1.25.6)\n",
      "Requirement already satisfied, skipping upgrade: idna<2.9,>=2.5 in c:\\users\\kutor\\appdata\\local\\programs\\python\\python37\\lib\\site-packages (from requests<3.0.0dev,>=2.18.0->google-api-core<2dev,>=1.13.0->google-api-python-client) (2.8)\n",
      "Requirement already satisfied, skipping upgrade: chardet<3.1.0,>=3.0.2 in c:\\users\\kutor\\appdata\\local\\programs\\python\\python37\\lib\\site-packages (from requests<3.0.0dev,>=2.18.0->google-api-core<2dev,>=1.13.0->google-api-python-client) (3.0.4)\n"
     ]
    },
    {
     "name": "stderr",
     "output_type": "stream",
     "text": [
      "WARNING: You are using pip version 19.3.1; however, version 20.0.2 is available.\n",
      "You should consider upgrading via the 'python -m pip install --upgrade pip' command.\n"
     ]
    },
    {
     "name": "stdout",
     "output_type": "stream",
     "text": [
      "Requirement already up-to-date: google-auth-oauthlib in c:\\users\\kutor\\appdata\\local\\programs\\python\\python37\\lib\\site-packages (0.4.1)\n",
      "Requirement already up-to-date: google-auth-httplib2 in c:\\users\\kutor\\appdata\\local\\programs\\python\\python37\\lib\\site-packages (0.0.3)\n",
      "Requirement already satisfied, skipping upgrade: requests-oauthlib>=0.7.0 in c:\\users\\kutor\\appdata\\local\\programs\\python\\python37\\lib\\site-packages (from google-auth-oauthlib) (1.2.0)\n",
      "Requirement already satisfied, skipping upgrade: google-auth in c:\\users\\kutor\\appdata\\local\\programs\\python\\python37\\lib\\site-packages (from google-auth-oauthlib) (1.6.3)\n",
      "Requirement already satisfied, skipping upgrade: httplib2>=0.9.1 in c:\\users\\kutor\\appdata\\local\\programs\\python\\python37\\lib\\site-packages (from google-auth-httplib2) (0.14.0)\n",
      "Requirement already satisfied, skipping upgrade: oauthlib>=3.0.0 in c:\\users\\kutor\\appdata\\local\\programs\\python\\python37\\lib\\site-packages (from requests-oauthlib>=0.7.0->google-auth-oauthlib) (3.1.0)\n",
      "Requirement already satisfied, skipping upgrade: requests>=2.0.0 in c:\\users\\kutor\\appdata\\local\\programs\\python\\python37\\lib\\site-packages (from requests-oauthlib>=0.7.0->google-auth-oauthlib) (2.22.0)\n",
      "Requirement already satisfied, skipping upgrade: six>=1.9.0 in c:\\users\\kutor\\appdata\\roaming\\python\\python37\\site-packages (from google-auth->google-auth-oauthlib) (1.12.0)\n",
      "Requirement already satisfied, skipping upgrade: rsa>=3.1.4 in c:\\users\\kutor\\appdata\\local\\programs\\python\\python37\\lib\\site-packages (from google-auth->google-auth-oauthlib) (4.0)\n",
      "Requirement already satisfied, skipping upgrade: pyasn1-modules>=0.2.1 in c:\\users\\kutor\\appdata\\local\\programs\\python\\python37\\lib\\site-packages (from google-auth->google-auth-oauthlib) (0.2.7)\n",
      "Requirement already satisfied, skipping upgrade: cachetools>=2.0.0 in c:\\users\\kutor\\appdata\\local\\programs\\python\\python37\\lib\\site-packages (from google-auth->google-auth-oauthlib) (3.1.1)\n",
      "Requirement already satisfied, skipping upgrade: chardet<3.1.0,>=3.0.2 in c:\\users\\kutor\\appdata\\local\\programs\\python\\python37\\lib\\site-packages (from requests>=2.0.0->requests-oauthlib>=0.7.0->google-auth-oauthlib) (3.0.4)\n",
      "Requirement already satisfied, skipping upgrade: certifi>=2017.4.17 in c:\\users\\kutor\\appdata\\local\\programs\\python\\python37\\lib\\site-packages (from requests>=2.0.0->requests-oauthlib>=0.7.0->google-auth-oauthlib) (2019.9.11)\n",
      "Requirement already satisfied, skipping upgrade: idna<2.9,>=2.5 in c:\\users\\kutor\\appdata\\local\\programs\\python\\python37\\lib\\site-packages (from requests>=2.0.0->requests-oauthlib>=0.7.0->google-auth-oauthlib) (2.8)\n",
      "Requirement already satisfied, skipping upgrade: urllib3!=1.25.0,!=1.25.1,<1.26,>=1.21.1 in c:\\users\\kutor\\appdata\\local\\programs\\python\\python37\\lib\\site-packages (from requests>=2.0.0->requests-oauthlib>=0.7.0->google-auth-oauthlib) (1.25.6)\n",
      "Requirement already satisfied, skipping upgrade: pyasn1>=0.1.3 in c:\\users\\kutor\\appdata\\local\\programs\\python\\python37\\lib\\site-packages (from rsa>=3.1.4->google-auth->google-auth-oauthlib) (0.4.7)\n"
     ]
    },
    {
     "name": "stderr",
     "output_type": "stream",
     "text": [
      "WARNING: You are using pip version 19.3.1; however, version 20.0.2 is available.\n",
      "You should consider upgrading via the 'python -m pip install --upgrade pip' command.\n"
     ]
    }
   ],
   "source": [
    "# Run once\n",
    "!pip install --upgrade google-api-python-client\n",
    "!pip install --upgrade google-auth-oauthlib google-auth-httplib2"
   ]
  },
  {
   "cell_type": "markdown",
   "metadata": {},
   "source": [
    "### Desired scraping code\n",
    "- config files to identify what categories of videos to scrape\n",
    "- what level of popularity to lower bound our videos to\n",
    "    - what measurement works for this? subscription to yearly average view count in relation to videos uploaded count?\n",
    "- possible inversion config option to instead opt for getting the least popular videos(?)\n",
    "- output to data/out/\n",
    "    - /thumbs -- a folder full of thumbnails with identifying labels (possibly gzip compressed?)\n",
    "    - videos.csv -- a .csv containing metadata on the videos that correspond to the thumbnails in the above folder."
   ]
  },
  {
   "cell_type": "markdown",
   "metadata": {},
   "source": [
    "### Possible search parameters\n",
    "- Safesearch\n",
    "    - none\n",
    "    - moderate\n",
    "    - strict"
   ]
  },
  {
   "cell_type": "markdown",
   "metadata": {},
   "source": [
    "***"
   ]
  },
  {
   "cell_type": "markdown",
   "metadata": {},
   "source": [
    "# Code"
   ]
  },
  {
   "cell_type": "code",
   "execution_count": 1,
   "metadata": {},
   "outputs": [],
   "source": [
    "import pandas as pd\n",
    "import numpy as np\n",
    "\n",
    "import os\n",
    "import google_auth_oauthlib.flow\n",
    "import googleapiclient.discovery\n",
    "import googleapiclient.errors"
   ]
  },
  {
   "cell_type": "code",
   "execution_count": 6,
   "metadata": {},
   "outputs": [
    {
     "name": "stdout",
     "output_type": "stream",
     "text": [
      "········\n"
     ]
    }
   ],
   "source": [
    "# Input credentials:\n",
    "from getpass import getpass\n",
    "api_key = getpass()"
   ]
  },
  {
   "cell_type": "markdown",
   "metadata": {},
   "source": [
    "No idea how the below code is supposed to work. Reference this link to work it out\n",
    "\n",
    "https://developers.google.com/youtube/v3/docs/search/list?apix_params=%7B%22part%22%3A%22gaming%22%2C%22maxResults%22%3A10%7D"
   ]
  },
  {
   "cell_type": "code",
   "execution_count": null,
   "metadata": {},
   "outputs": [],
   "source": [
    "scopes = [\"https://www.googleapis.com/auth/youtube.readonly\"]\n",
    "\n",
    "def execute_request(in_request):\n",
    "    # Disable OAuthlib's HTTPS verification when running locally.\n",
    "    # *DO NOT* leave this option enabled in production.\n",
    "    os.environ[\"OAUTHLIB_INSECURE_TRANSPORT\"] = \"1\"\n",
    "\n",
    "    api_service_name = \"youtube\"\n",
    "    api_version = \"v3\"\n",
    "    client_secrets_file = \"YOUR_CLIENT_SECRET_FILE.json\"\n",
    "\n",
    "    # Get credentials and create an API client\n",
    "    flow = google_auth_oauthlib.flow.InstalledAppFlow.from_client_secrets_file(\n",
    "        client_secrets_file, scopes)\n",
    "    credentials = flow.run_console()\n",
    "    youtube = googleapiclient.discovery.build(\n",
    "        api_service_name, api_version, credentials=credentials)\n",
    "\n",
    "    request = eval(in_request)\n",
    "    response = request.execute()\n",
    "\n",
    "    return response"
   ]
  }
 ],
 "metadata": {
  "kernelspec": {
   "display_name": "Python 3",
   "language": "python",
   "name": "python3"
  },
  "language_info": {
   "codemirror_mode": {
    "name": "ipython",
    "version": 3
   },
   "file_extension": ".py",
   "mimetype": "text/x-python",
   "name": "python",
   "nbconvert_exporter": "python",
   "pygments_lexer": "ipython3",
   "version": "3.7.4"
  }
 },
 "nbformat": 4,
 "nbformat_minor": 2
}
