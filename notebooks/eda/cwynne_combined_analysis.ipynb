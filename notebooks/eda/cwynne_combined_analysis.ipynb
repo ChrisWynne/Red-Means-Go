{
 "cells": [
  {
   "cell_type": "code",
   "execution_count": 4,
   "metadata": {},
   "outputs": [],
   "source": [
    "import os\n",
    "import sys\n",
    "import json\n",
    "import pandas as pd\n",
    "from datetime import datetime\n",
    "import matplotlib.pyplot as plt\n",
    "import numpy as np\n",
    "import ast\n",
    "from sklearn.ensemble import RandomForestRegressor\n",
    "sys.path.insert(0, os.path.abspath(\"../../\" + 'src/scraping'))\n",
    "import metadata as meta\n",
    "sys.path.insert(0, os.path.abspath(\"../../\" + \"src/modeling\"))\n",
    "import basic_stats as basic\n",
    "import time"
   ]
  },
  {
   "cell_type": "code",
   "execution_count": 5,
   "metadata": {},
   "outputs": [],
   "source": [
    "big_df = pd.read_csv('../../data/local/fortnite/video_data/merged_df.csv').drop(\"Unnamed: 0\",axis=1)"
   ]
  },
  {
   "cell_type": "code",
   "execution_count": 6,
   "metadata": {},
   "outputs": [],
   "source": [
    "all_meta = pd.read_csv(\"../../data/local/fortnite/video_data/fortnite_master_metadata.csv\")"
   ]
  },
  {
   "cell_type": "code",
   "execution_count": 7,
   "metadata": {},
   "outputs": [],
   "source": [
    "save_dir = \"../../data/local/fortnite/thumbnails/\"\n",
    "chan_ids = all_meta['channelId'].value_counts().index\n",
    "def get_all_thumbnails(save_dir, chan_ids, big_df):\n",
    "    for chan_id in chan_ids:\n",
    "        chan_df = all_meta[all_meta['channelId'] == chan_id]\n",
    "        chan_vids = meta.download_df_thumbs(chan_df,save_dir,'medium')\n",
    "    chan_basic_df = basic.basic_image_stats(save_dir, \"../../data/local/fortnite/video_data/\",\"bleh\")\n",
    "    full_chan = all_meta.merge(chan_basic_df,on='videoId')\n",
    "    big_df = pd.concat([big_df,full_chan],sort=True)\n",
    "    big_df = big_df.drop_duplicates(subset='videoId')\n",
    "    return big_df"
   ]
  },
  {
   "cell_type": "code",
   "execution_count": null,
   "metadata": {},
   "outputs": [],
   "source": [
    "comb_df = big_df.drop_duplicates(subset='videoId')"
   ]
  },
  {
   "cell_type": "code",
   "execution_count": null,
   "metadata": {},
   "outputs": [],
   "source": [
    "full_sypher = all_meta.merge(sypher_vids,on='videoId')"
   ]
  },
  {
   "cell_type": "code",
   "execution_count": null,
   "metadata": {},
   "outputs": [],
   "source": [
    "# (big_df['viewCount'] / 1000).describe()"
   ]
  },
  {
   "cell_type": "code",
   "execution_count": null,
   "metadata": {},
   "outputs": [],
   "source": [
    "sorted_df = big_df.sort_values(by='position',axis=0).reset_index()\n",
    "# pos = sorted_df['position']\n",
    "# views = sorted_df['viewCount']"
   ]
  },
  {
   "cell_type": "code",
   "execution_count": null,
   "metadata": {},
   "outputs": [],
   "source": [
    "# sorted_df['emotions'].value_counts()"
   ]
  },
  {
   "cell_type": "code",
   "execution_count": null,
   "metadata": {},
   "outputs": [],
   "source": [
    "# sorted_df['num_rgb']"
   ]
  },
  {
   "cell_type": "code",
   "execution_count": null,
   "metadata": {},
   "outputs": [],
   "source": [
    "# sorted_df[emotion == True]"
   ]
  },
  {
   "cell_type": "code",
   "execution_count": null,
   "metadata": {},
   "outputs": [],
   "source": [
    "emotions = ['angry', 'happy', 'sad', 'fear', 'neutral', 'surprise']\n",
    "for targ in emotions:\n",
    "# targ = emotions[1]\n",
    "    emotion = sorted_df['emotions'].apply(lambda x: targ in x if type(x) == str else x)\n",
    "    print(\"Emotion:\",targ)\n",
    "    display(sorted_df[emotion == True]['z_views'].describe())\n",
    "    plt.scatter(emotion,sorted_df['z_views'])\n",
    "    plt.show()"
   ]
  },
  {
   "cell_type": "code",
   "execution_count": null,
   "metadata": {},
   "outputs": [],
   "source": [
    "emotion = sorted_df['emotions'].apply(lambda x: len(ast.literal_eval(x)) if type(x) == str else 0)\n",
    "# print(\"Emotion:\",targ)\n",
    "display(emotion.describe())\n",
    "plt.scatter(emotion,sorted_df['z_views'])\n",
    "# plt.show()"
   ]
  },
  {
   "cell_type": "code",
   "execution_count": null,
   "metadata": {},
   "outputs": [],
   "source": [
    "sorted_df.columns"
   ]
  },
  {
   "cell_type": "code",
   "execution_count": null,
   "metadata": {
    "scrolled": true
   },
   "outputs": [],
   "source": [
    "basic_img_feats = ['num_rgb','mean_hue','mean_saturation','mean_brightness','contrast','edge_score']\n",
    "meta_feats = ['z_views']\n",
    "def get_corr(img_feats, meta_feats,df,sign):\n",
    "    for col in meta_feats:\n",
    "        for col2 in img_feats:\n",
    "        #     col = 'z_views'\n",
    "        #     col2 = 'contrast'\n",
    "            step1 = df[df[col].notnull()]\n",
    "            filtered = step1[step1[col2].notnull()]\n",
    "            corr = np.corrcoef(filtered[col],filtered[col2])[0][1]\n",
    "            if sign == \"-\":\n",
    "                if corr < 0:\n",
    "                    print(col, col2, corr)\n",
    "                    print('---------------')\n",
    "            else:\n",
    "                if corr > 0:\n",
    "                    print(col, col2, corr)\n",
    "                    print('---------------')\n",
    "# get_corr(basic_img_feats, meta_feats, big_df)"
   ]
  },
  {
   "cell_type": "code",
   "execution_count": null,
   "metadata": {},
   "outputs": [],
   "source": [
    "sorted_df['z_views'].describe()[['count','mean','50%']]"
   ]
  },
  {
   "cell_type": "code",
   "execution_count": null,
   "metadata": {},
   "outputs": [],
   "source": [
    "def get_range(col_name, df):\n",
    "    stats = df[col_name].describe()\n",
    "    col_range = np.arange(stats['25%'],stats['max'],stats['std']/3)\n",
    "    return col_range"
   ]
  },
  {
   "cell_type": "code",
   "execution_count": null,
   "metadata": {},
   "outputs": [],
   "source": [
    "def tune_params(df, c1, c2):\n",
    "    baseline_stats = df['z_views'].describe()\n",
    "    base_mean = baseline_stats['mean']\n",
    "    base_median = baseline_stats['50%']\n",
    "    print(\"baseline:     \",\n",
    "          \"count:\",baseline_stats['count'],\n",
    "          \"mean:\",baseline_stats['mean'].round(3),\n",
    "          \"median:\",baseline_stats['50%'].round(3))\n",
    "    # print('---------------------------------------')\n",
    "    #['baseline',0,baseline_stats['count'],baseline_stats['mean'],baseline_stats['50%']]\n",
    "    rel_stats = []\n",
    "    c1_range = get_range(c1,df)\n",
    "    c2_range = get_range(c2,df)\n",
    "    for c1_cutoff in c1_range:\n",
    "        for c2_cutoff in c2_range:\n",
    "            filtered = df.apply(lambda x: x[c1] > c1_cutoff and x[c2] > c2_cutoff,axis=1)\n",
    "            stats = df[filtered]['z_views'].describe()\n",
    "            cur_count = stats['count']\n",
    "            cur_mean = stats['mean']\n",
    "            cur_median = stats['50%']\n",
    "            cur_stats_list = [c1,c1_cutoff,c2,c2_cutoff,cur_count, cur_mean, cur_median]\n",
    "            rel_stats.append(cur_stats_list)\n",
    "    res_df = pd.DataFrame(rel_stats, columns=['col1','col1cutoff','col2','col2cutoff','count','mean','median'])\n",
    "    not_null_df = res_df[res_df['mean'].notnull()]\n",
    "    better_df = not_null_df[not_null_df.apply(\n",
    "        lambda x: x['mean'] > base_mean and x['median'] > base_median,axis=1)]\n",
    "    return better_df"
   ]
  },
  {
   "cell_type": "code",
   "execution_count": null,
   "metadata": {},
   "outputs": [],
   "source": [
    "c1 = 'num_rgb'\n",
    "c2 = 'mean_saturation'\n",
    "# comb_df = pd.concat([big_df,full_sypher],sort=True).drop_duplicates(subset='videoId')"
   ]
  },
  {
   "cell_type": "code",
   "execution_count": null,
   "metadata": {},
   "outputs": [],
   "source": [
    "print(comb_df[c1].describe())\n",
    "print(comb_df[c2].describe())"
   ]
  },
  {
   "cell_type": "code",
   "execution_count": null,
   "metadata": {},
   "outputs": [],
   "source": [
    "get_corr(basic_img_feats, meta_feats, comb_df, '-')"
   ]
  },
  {
   "cell_type": "code",
   "execution_count": null,
   "metadata": {},
   "outputs": [],
   "source": [
    "get_corr(basic_img_feats, meta_feats, comb_df, '+')"
   ]
  },
  {
   "cell_type": "code",
   "execution_count": null,
   "metadata": {},
   "outputs": [],
   "source": [
    "tuned_df = tune_params(comb_df)\n",
    "tuned_df['mm_sum'] = tuned_df['mean'] + tuned_df['median']"
   ]
  },
  {
   "cell_type": "code",
   "execution_count": null,
   "metadata": {},
   "outputs": [],
   "source": [
    "top_df = tuned_df.sort_values(by='mm_sum',ascending=False)"
   ]
  },
  {
   "cell_type": "code",
   "execution_count": null,
   "metadata": {},
   "outputs": [],
   "source": [
    "rgb_cutoff = top_df['col1cutoff'].describe()['mean']\n",
    "sat_cutoff = top_df['col2cutoff'].describe()['mean']"
   ]
  },
  {
   "cell_type": "code",
   "execution_count": null,
   "metadata": {},
   "outputs": [],
   "source": [
    "comb_df['z_views'].describe()"
   ]
  },
  {
   "cell_type": "code",
   "execution_count": null,
   "metadata": {},
   "outputs": [],
   "source": [
    "top_cut = comb_df[comb_df.apply(\n",
    "    lambda x: x['num_rgb'] > rgb_cutoff and x['mean_saturation'] > sat_cutoff,axis=1)]\n",
    "top_cut['z_views'].describe()"
   ]
  },
  {
   "cell_type": "code",
   "execution_count": null,
   "metadata": {},
   "outputs": [],
   "source": [
    "top_200 = pd.read_csv('../../data/local/fortnite/video_data/merged_df.csv').drop(\"Unnamed: 0\",axis=1)\n",
    "full_views = top_200[top_200['z_views'].notnull()]"
   ]
  },
  {
   "cell_type": "code",
   "execution_count": null,
   "metadata": {},
   "outputs": [],
   "source": [
    "basic_img_feats"
   ]
  },
  {
   "cell_type": "code",
   "execution_count": null,
   "metadata": {},
   "outputs": [],
   "source": [
    "rf = RandomForestRegressor()\n",
    "rf.fit(full_views[basic_img_feats],full_views[['position']])\n",
    "rf.feature_importances_"
   ]
  },
  {
   "cell_type": "code",
   "execution_count": null,
   "metadata": {},
   "outputs": [],
   "source": [
    "# baseline_stats = sorted_df['z_views'].describe()\n",
    "# print(\"baseline:     \",\n",
    "#       \"count:\",baseline_stats['count'],\n",
    "#       \"mean:\",baseline_stats['mean'].round(3),\n",
    "#       \"median:\",baseline_stats['50%'].round(3))\n",
    "# # print('---------------------------------------')\n",
    "# #['baseline',0,baseline_stats['count'],baseline_stats['mean'],baseline_stats['50%']]\n",
    "# rel_stats = []\n",
    "# c1 = 'num_rgb'\n",
    "# c1_range = get_range(c1,sorted_df)\n",
    "# c2 = 'mean_saturation'\n",
    "# c2_range = get_range(c2, sorted_df)\n",
    "# for c1_cutoff in c1_range:\n",
    "#     for c2_cutoff in c2_range:\n",
    "#         filtered = sorted_df.apply(lambda x: x[c1] > c1_cutoff and x[c2] > c2_cutoff,axis=1)\n",
    "#         stats = sorted_df[filtered]['z_views'].describe()\n",
    "#         cur_count = stats['count']\n",
    "#         cur_mean = stats['mean']\n",
    "#         cur_median = stats['50%']\n",
    "#         cur_stats_list = [c1,c1_cutoff,c2,c2_cutoff,cur_count, cur_mean, cur_median]\n",
    "#         rel_stats.append(cur_stats_list)\n",
    "# res_df = pd.DataFrame(rel_stats, columns=['col1','col1cutoff','col2','col2cutoff','count','mean','median'])"
   ]
  },
  {
   "cell_type": "code",
   "execution_count": null,
   "metadata": {},
   "outputs": [],
   "source": [
    "not_null_df = res_df[res_df['mean'].notnull()]\n",
    "not_null_df[not_null_df.apply(lambda x: x['mean'] > .5 and x['median']> .2,axis=1)]"
   ]
  },
  {
   "cell_type": "code",
   "execution_count": null,
   "metadata": {},
   "outputs": [],
   "source": [
    "c1 = 'mean_saturation'\n",
    "c1_stats = sorted_df[c1].describe()\n",
    "c1_range = np.arange(c1_stats['25%'],c1_stats['75%'],c1_stats['std']/3)\n",
    "c1_range"
   ]
  },
  {
   "cell_type": "code",
   "execution_count": null,
   "metadata": {},
   "outputs": [],
   "source": [
    "c1_stats"
   ]
  },
  {
   "cell_type": "code",
   "execution_count": null,
   "metadata": {},
   "outputs": [],
   "source": [
    "sorted_df['z_views'].describe()"
   ]
  },
  {
   "cell_type": "code",
   "execution_count": null,
   "metadata": {},
   "outputs": [],
   "source": [
    "col = 'contrast'\n",
    "print(sorted_df[col].describe())\n",
    "plt.scatter(sorted_df['contrast'],sorted_df['z_views'])"
   ]
  },
  {
   "cell_type": "code",
   "execution_count": null,
   "metadata": {},
   "outputs": [],
   "source": [
    "sorted_df['contrast'].describe()"
   ]
  },
  {
   "cell_type": "code",
   "execution_count": null,
   "metadata": {},
   "outputs": [],
   "source": [
    "sorted_df.columns"
   ]
  },
  {
   "cell_type": "code",
   "execution_count": null,
   "metadata": {},
   "outputs": [],
   "source": [
    "sys.path.insert(0, os.path.abspath(\"../../\" + 'src/scraping'))\n",
    "import metadata as meta\n",
    "sys.path.insert(0, os.path.abspath(\"../../\" + \"src/modeling\"))\n",
    "import basic_stats as basic"
   ]
  },
  {
   "cell_type": "code",
   "execution_count": null,
   "metadata": {},
   "outputs": [],
   "source": []
  },
  {
   "cell_type": "code",
   "execution_count": null,
   "metadata": {},
   "outputs": [],
   "source": []
  },
  {
   "cell_type": "code",
   "execution_count": null,
   "metadata": {},
   "outputs": [],
   "source": []
  },
  {
   "cell_type": "code",
   "execution_count": null,
   "metadata": {},
   "outputs": [],
   "source": [
    "df = pd.read_csv(\"../../data/test/fortnite/video_data/fortnite_full_metadata.csv\")\n",
    "basic_stats_df = pd.read_csv(\"../../data/test/fortnite/video_data/basic_stats_04_27_20.csv\")"
   ]
  },
  {
   "cell_type": "code",
   "execution_count": null,
   "metadata": {},
   "outputs": [],
   "source": [
    "basic_stats_df.set_index(\"videoId\")\n",
    "df.set_index(\"videoId\")\n",
    "df = df[df['channelId'].notnull()]"
   ]
  },
  {
   "cell_type": "code",
   "execution_count": null,
   "metadata": {},
   "outputs": [],
   "source": [
    "# for vid_id in basic_stats_df['videoId'].values:\n",
    "#     if vid_id not in df['videoId'].values:\n",
    "#         print(vid_id)"
   ]
  },
  {
   "cell_type": "code",
   "execution_count": null,
   "metadata": {},
   "outputs": [],
   "source": [
    "merged_df = df.merge(basic_stats_df,how=\"left\",on=\"videoId\")"
   ]
  },
  {
   "cell_type": "code",
   "execution_count": null,
   "metadata": {},
   "outputs": [],
   "source": [
    "merged_df.columns"
   ]
  },
  {
   "cell_type": "code",
   "execution_count": null,
   "metadata": {},
   "outputs": [],
   "source": [
    "datetime.now().strftime(\"_%m_%d_%y\")"
   ]
  },
  {
   "cell_type": "code",
   "execution_count": null,
   "metadata": {},
   "outputs": [],
   "source": [
    "s = str({\"cmd\":\"LOG\",\"devmac\":\"CC:50:E3:B0:21:8C\",\"gid\":\"05\", \"BLEInfo\":{\"beacons\": [{\"mac\":\"4e:8c:c8:e5:1b:e8\",\"rssi\":\"-79\",\"msgtype\":\"iBeacon\"},{\"mac\":\"48:ee:a2:7f:38:76\",\"rssi\":\"-42\",\"msgtype\":\"iBeacon\"},{\"mac\":\"4e:8c:c8:e5:1b:e8\",\"rssi\":\"-79\",\"msgtype\":\"iBeacon\"},{\"mac\":\"48:ee:a2:7f:38:76\",\"rssi\":\"-42\",\"msgtype\":\"iBeacon\"},{\"mac\":\"4e:8c:c8:e5:1b:e8\",\"rssi\":\"-77\",\"msgtype\":\"iBeacon\"},{\"mac\":\"4e:8c:c8:e5:1b:e8\",\"rssi\":\"-79\",\"msgtype\":\"iBeacon\"}]}})"
   ]
  },
  {
   "cell_type": "code",
   "execution_count": null,
   "metadata": {},
   "outputs": [],
   "source": [
    "s = '{\\r\\n  \"cmd\": \"GROUPS\"\\r\\n}'\n",
    "s"
   ]
  },
  {
   "cell_type": "code",
   "execution_count": null,
   "metadata": {},
   "outputs": [],
   "source": []
  },
  {
   "cell_type": "code",
   "execution_count": null,
   "metadata": {},
   "outputs": [],
   "source": []
  }
 ],
 "metadata": {
  "kernelspec": {
   "display_name": "Python 3",
   "language": "python",
   "name": "python3"
  },
  "language_info": {
   "codemirror_mode": {
    "name": "ipython",
    "version": 3
   },
   "file_extension": ".py",
   "mimetype": "text/x-python",
   "name": "python",
   "nbconvert_exporter": "python",
   "pygments_lexer": "ipython3",
   "version": "3.7.4"
  }
 },
 "nbformat": 4,
 "nbformat_minor": 2
}
