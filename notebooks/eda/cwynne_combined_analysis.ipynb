{
 "cells": [
  {
   "cell_type": "code",
   "execution_count": 130,
   "metadata": {},
   "outputs": [],
   "source": [
    "import os\n",
    "import sys\n",
    "import json\n",
    "import pandas as pd\n",
    "from datetime import datetime\n",
    "import matplotlib.pyplot as plt\n",
    "import numpy as np\n",
    "import ast\n",
    "from sklearn.ensemble import RandomForestRegressor\n",
    "sys.path.insert(0, os.path.abspath(\"../../\" + 'src/scraping'))\n",
    "import metadata as meta\n",
    "sys.path.insert(0, os.path.abspath(\"../../\" + \"src/modeling\"))\n",
    "import basic_stats as basic\n",
    "import time"
   ]
  },
  {
   "cell_type": "code",
   "execution_count": 48,
   "metadata": {},
   "outputs": [],
   "source": [
    "big_df = pd.read_csv('../../data/local/fortnite/video_data/merged_df.csv').drop(\"Unnamed: 0\",axis=1)"
   ]
  },
  {
   "cell_type": "code",
   "execution_count": 49,
   "metadata": {},
   "outputs": [],
   "source": [
    "all_meta = pd.read_csv(\"../../data/local/fortnite/video_data/fortnite_master_metadata.csv\")"
   ]
  },
  {
   "cell_type": "code",
   "execution_count": 71,
   "metadata": {},
   "outputs": [
    {
     "name": "stdout",
     "output_type": "stream",
     "text": [
      "Thumbnail Download: 0 of 100\n",
      "Thumbnail Download: 25 of 100\n",
      "Thumbnail Download: 50 of 100\n",
      "Thumbnail Download: 75 of 100\n",
      "Thumbnails Successfully Downloaded!\n",
      "Thumbnail Download: 0 of 100\n",
      "Thumbnail Download: 25 of 100\n",
      "Thumbnail Download: 50 of 100\n",
      "Thumbnail Download: 75 of 100\n",
      "Thumbnails Successfully Downloaded!\n",
      "Thumbnail Download: 0 of 100\n",
      "Thumbnail Download: 25 of 100\n",
      "Thumbnail Download: 50 of 100\n",
      "Thumbnail Download: 75 of 100\n",
      "Thumbnails Successfully Downloaded!\n",
      "Thumbnail Download: 0 of 100\n",
      "Thumbnail Download: 25 of 100\n",
      "Thumbnail Download: 50 of 100\n",
      "Thumbnail Download: 75 of 100\n",
      "Thumbnails Successfully Downloaded!\n",
      "Thumbnail Download: 0 of 100\n",
      "Thumbnail Download: 25 of 100\n",
      "Thumbnail Download: 50 of 100\n",
      "Thumbnail Download: 75 of 100\n",
      "Thumbnails Successfully Downloaded!\n",
      "Thumbnail Download: 0 of 100\n",
      "Thumbnail Download: 25 of 100\n",
      "Thumbnail Download: 50 of 100\n",
      "Thumbnail Download: 75 of 100\n",
      "Thumbnails Successfully Downloaded!\n",
      "Thumbnail Download: 0 of 100\n",
      "Thumbnail Download: 25 of 100\n",
      "Thumbnail Download: 50 of 100\n",
      "Thumbnail Download: 75 of 100\n",
      "Thumbnails Successfully Downloaded!\n",
      "Thumbnail Download: 0 of 100\n",
      "Thumbnail Download: 25 of 100\n",
      "Thumbnail Download: 50 of 100\n",
      "Thumbnail Download: 75 of 100\n",
      "Thumbnails Successfully Downloaded!\n",
      "Thumbnail Download: 0 of 100\n",
      "Thumbnail Download: 25 of 100\n",
      "Thumbnail Download: 50 of 100\n",
      "Thumbnail Download: 75 of 100\n",
      "Thumbnails Successfully Downloaded!\n",
      "Thumbnail Download: 0 of 100\n",
      "Thumbnail Download: 25 of 100\n",
      "Thumbnail Download: 50 of 100\n",
      "Thumbnail Download: 75 of 100\n",
      "Thumbnails Successfully Downloaded!\n",
      "Thumbnail Download: 0 of 100\n",
      "Thumbnail Download: 25 of 100\n",
      "Thumbnail Download: 50 of 100\n",
      "Thumbnail Download: 75 of 100\n",
      "Thumbnails Successfully Downloaded!\n",
      "Thumbnail Download: 0 of 100\n",
      "Thumbnail Download: 25 of 100\n",
      "Thumbnail Download: 50 of 100\n",
      "Thumbnail Download: 75 of 100\n",
      "Thumbnails Successfully Downloaded!\n",
      "Thumbnail Download: 0 of 100\n",
      "Thumbnail Download: 25 of 100\n",
      "Thumbnail Download: 50 of 100\n",
      "Thumbnail Download: 75 of 100\n",
      "Thumbnails Successfully Downloaded!\n",
      "Thumbnail Download: 0 of 100\n",
      "Thumbnail Download: 25 of 100\n",
      "Thumbnail Download: 50 of 100\n",
      "Thumbnail Download: 75 of 100\n",
      "Thumbnails Successfully Downloaded!\n",
      "Thumbnail Download: 0 of 100\n",
      "Thumbnail Download: 25 of 100\n",
      "Thumbnail Download: 50 of 100\n",
      "Thumbnail Download: 75 of 100\n",
      "Thumbnails Successfully Downloaded!\n",
      "Thumbnail Download: 0 of 100\n",
      "Thumbnail Download: 25 of 100\n",
      "Thumbnail Download: 50 of 100\n",
      "Thumbnail Download: 75 of 100\n",
      "Thumbnails Successfully Downloaded!\n",
      "Thumbnail Download: 0 of 100\n",
      "Thumbnail Download: 25 of 100\n",
      "Thumbnail Download: 50 of 100\n",
      "Thumbnail Download: 75 of 100\n",
      "Thumbnails Successfully Downloaded!\n",
      "Thumbnail Download: 0 of 100\n",
      "Thumbnail Download: 25 of 100\n",
      "Thumbnail Download: 50 of 100\n",
      "Thumbnail Download: 75 of 100\n",
      "Thumbnails Successfully Downloaded!\n",
      "Thumbnail Download: 0 of 100\n",
      "Thumbnail Download: 25 of 100\n",
      "Thumbnail Download: 50 of 100\n",
      "Thumbnail Download: 75 of 100\n",
      "Thumbnails Successfully Downloaded!\n",
      "Thumbnail Download: 0 of 100\n",
      "Thumbnail Download: 25 of 100\n",
      "Thumbnail Download: 50 of 100\n",
      "Thumbnail Download: 75 of 100\n",
      "Thumbnails Successfully Downloaded!\n",
      "Thumbnail Download: 0 of 100\n",
      "Thumbnail Download: 25 of 100\n",
      "Thumbnail Download: 50 of 100\n",
      "Thumbnail Download: 75 of 100\n",
      "Thumbnails Successfully Downloaded!\n",
      "Thumbnail Download: 0 of 100\n",
      "Thumbnail Download: 25 of 100\n",
      "Thumbnail Download: 50 of 100\n",
      "Thumbnail Download: 75 of 100\n",
      "Thumbnails Successfully Downloaded!\n",
      "Thumbnail Download: 0 of 100\n",
      "Thumbnail Download: 25 of 100\n",
      "Thumbnail Download: 50 of 100\n",
      "Thumbnail Download: 75 of 100\n",
      "Thumbnails Successfully Downloaded!\n",
      "Thumbnail Download: 0 of 100\n",
      "Thumbnail Download: 25 of 100\n",
      "Thumbnail Download: 50 of 100\n",
      "Thumbnail Download: 75 of 100\n",
      "Thumbnails Successfully Downloaded!\n",
      "Thumbnail Download: 0 of 100\n",
      "Thumbnail Download: 25 of 100\n",
      "Thumbnail Download: 50 of 100\n",
      "Thumbnail Download: 75 of 100\n",
      "Thumbnails Successfully Downloaded!\n",
      "Thumbnail Download: 0 of 100\n",
      "Thumbnail Download: 25 of 100\n",
      "Thumbnail Download: 50 of 100\n",
      "Thumbnail Download: 75 of 100\n",
      "Thumbnails Successfully Downloaded!\n",
      "Thumbnail Download: 0 of 100\n",
      "Thumbnail Download: 25 of 100\n",
      "Thumbnail Download: 50 of 100\n",
      "Thumbnail Download: 75 of 100\n",
      "Thumbnails Successfully Downloaded!\n",
      "Thumbnail Download: 0 of 100\n",
      "Thumbnail Download: 25 of 100\n",
      "Thumbnail Download: 50 of 100\n",
      "Thumbnail Download: 75 of 100\n",
      "Thumbnails Successfully Downloaded!\n",
      "Thumbnail Download: 0 of 100\n",
      "Thumbnail Download: 25 of 100\n",
      "Thumbnail Download: 50 of 100\n",
      "Thumbnail Download: 75 of 100\n",
      "Thumbnails Successfully Downloaded!\n",
      "Thumbnail Download: 0 of 100\n",
      "Thumbnail Download: 25 of 100\n",
      "Thumbnail Download: 50 of 100\n",
      "Thumbnail Download: 75 of 100\n",
      "Thumbnails Successfully Downloaded!\n",
      "Thumbnail Download: 0 of 100\n",
      "Thumbnail Download: 25 of 100\n",
      "Thumbnail Download: 50 of 100\n",
      "Thumbnail Download: 75 of 100\n",
      "Thumbnails Successfully Downloaded!\n",
      "Thumbnail Download: 0 of 100\n",
      "Thumbnail Download: 25 of 100\n",
      "Thumbnail Download: 50 of 100\n",
      "Thumbnail Download: 75 of 100\n",
      "Thumbnails Successfully Downloaded!\n",
      "Thumbnail Download: 0 of 100\n",
      "Thumbnail Download: 25 of 100\n",
      "Thumbnail Download: 50 of 100\n",
      "Thumbnail Download: 75 of 100\n",
      "Thumbnails Successfully Downloaded!\n",
      "Thumbnail Download: 0 of 100\n",
      "Thumbnail Download: 25 of 100\n",
      "Thumbnail Download: 50 of 100\n",
      "Thumbnail Download: 75 of 100\n",
      "Thumbnails Successfully Downloaded!\n",
      "Thumbnail Download: 0 of 100\n",
      "Thumbnail Download: 25 of 100\n",
      "Thumbnail Download: 50 of 100\n",
      "Thumbnail Download: 75 of 100\n",
      "Thumbnails Successfully Downloaded!\n",
      "Thumbnail Download: 0 of 100\n",
      "Thumbnail Download: 25 of 100\n",
      "Thumbnail Download: 50 of 100\n",
      "Thumbnail Download: 75 of 100\n",
      "Thumbnails Successfully Downloaded!\n",
      "Thumbnail Download: 0 of 100\n",
      "Thumbnail Download: 25 of 100\n",
      "Thumbnail Download: 50 of 100\n",
      "Thumbnail Download: 75 of 100\n",
      "Thumbnails Successfully Downloaded!\n",
      "Thumbnail Download: 0 of 100\n",
      "Thumbnail Download: 25 of 100\n",
      "Thumbnail Download: 50 of 100\n",
      "Thumbnail Download: 75 of 100\n",
      "Thumbnails Successfully Downloaded!\n",
      "Thumbnail Download: 0 of 100\n",
      "Thumbnail Download: 25 of 100\n",
      "Thumbnail Download: 50 of 100\n",
      "Thumbnail Download: 75 of 100\n",
      "Thumbnails Successfully Downloaded!\n",
      "Thumbnail Download: 0 of 100\n",
      "Thumbnail Download: 25 of 100\n",
      "Thumbnail Download: 50 of 100\n",
      "Thumbnail Download: 75 of 100\n",
      "Thumbnails Successfully Downloaded!\n",
      "Thumbnail Download: 0 of 100\n",
      "Thumbnail Download: 25 of 100\n",
      "Thumbnail Download: 50 of 100\n",
      "Thumbnail Download: 75 of 100\n",
      "Thumbnails Successfully Downloaded!\n",
      "Thumbnail Download: 0 of 100\n",
      "Thumbnail Download: 25 of 100\n",
      "Thumbnail Download: 50 of 100\n",
      "Thumbnail Download: 75 of 100\n",
      "Thumbnails Successfully Downloaded!\n",
      "Thumbnail Download: 0 of 100\n",
      "Thumbnail Download: 25 of 100\n",
      "Thumbnail Download: 50 of 100\n",
      "Thumbnail Download: 75 of 100\n",
      "Thumbnails Successfully Downloaded!\n",
      "Thumbnail Download: 0 of 100\n",
      "Thumbnail Download: 25 of 100\n",
      "Thumbnail Download: 50 of 100\n",
      "Thumbnail Download: 75 of 100\n",
      "Thumbnails Successfully Downloaded!\n",
      "Thumbnail Download: 0 of 100\n",
      "Thumbnail Download: 25 of 100\n",
      "Thumbnail Download: 50 of 100\n",
      "Thumbnail Download: 75 of 100\n",
      "Thumbnails Successfully Downloaded!\n",
      "Thumbnail Download: 0 of 100\n",
      "Thumbnail Download: 25 of 100\n",
      "Thumbnail Download: 50 of 100\n",
      "Thumbnail Download: 75 of 100\n",
      "Thumbnails Successfully Downloaded!\n",
      "Thumbnail Download: 0 of 100\n",
      "Thumbnail Download: 25 of 100\n",
      "Thumbnail Download: 50 of 100\n",
      "Thumbnail Download: 75 of 100\n",
      "Thumbnails Successfully Downloaded!\n",
      "Thumbnail Download: 0 of 100\n",
      "Thumbnail Download: 25 of 100\n",
      "Thumbnail Download: 50 of 100\n",
      "Thumbnail Download: 75 of 100\n",
      "Thumbnails Successfully Downloaded!\n",
      "Thumbnail Download: 0 of 100\n",
      "Thumbnail Download: 25 of 100\n",
      "Thumbnail Download: 50 of 100\n",
      "Thumbnail Download: 75 of 100\n",
      "Thumbnails Successfully Downloaded!\n",
      "Thumbnail Download: 0 of 100\n",
      "Thumbnail Download: 25 of 100\n",
      "Thumbnail Download: 50 of 100\n",
      "Thumbnail Download: 75 of 100\n",
      "Thumbnails Successfully Downloaded!\n",
      "Thumbnail Download: 0 of 100\n",
      "Thumbnail Download: 25 of 100\n",
      "Thumbnail Download: 50 of 100\n",
      "Thumbnail Download: 75 of 100\n",
      "Thumbnails Successfully Downloaded!\n",
      "Thumbnail Download: 0 of 100\n",
      "Thumbnail Download: 25 of 100\n",
      "Thumbnail Download: 50 of 100\n",
      "Thumbnail Download: 75 of 100\n",
      "Thumbnails Successfully Downloaded!\n",
      "Thumbnail Download: 0 of 100\n",
      "Thumbnail Download: 25 of 100\n",
      "Thumbnail Download: 50 of 100\n",
      "Thumbnail Download: 75 of 100\n",
      "Thumbnails Successfully Downloaded!\n",
      "Thumbnail Download: 0 of 100\n"
     ]
    },
    {
     "name": "stdout",
     "output_type": "stream",
     "text": [
      "Thumbnail Download: 25 of 100\n",
      "Thumbnail Download: 50 of 100\n",
      "Thumbnail Download: 75 of 100\n",
      "Thumbnails Successfully Downloaded!\n",
      "Thumbnail Download: 0 of 100\n",
      "Thumbnail Download: 25 of 100\n",
      "Thumbnail Download: 50 of 100\n",
      "Thumbnail Download: 75 of 100\n",
      "Thumbnails Successfully Downloaded!\n",
      "Thumbnail Download: 0 of 100\n",
      "Thumbnail Download: 25 of 100\n",
      "Thumbnail Download: 50 of 100\n",
      "Thumbnail Download: 75 of 100\n",
      "Thumbnails Successfully Downloaded!\n",
      "Thumbnail Download: 0 of 100\n",
      "Thumbnail Download: 25 of 100\n",
      "Thumbnail Download: 50 of 100\n",
      "Thumbnail Download: 75 of 100\n",
      "Thumbnails Successfully Downloaded!\n",
      "Thumbnail Download: 0 of 99\n",
      "Thumbnail Download: 25 of 99\n",
      "Thumbnail Download: 50 of 99\n",
      "Thumbnail Download: 75 of 99\n",
      "Thumbnails Successfully Downloaded!\n",
      "Thumbnail Download: 0 of 99\n",
      "Thumbnail Download: 25 of 99\n",
      "Thumbnail Download: 50 of 99\n",
      "Thumbnail Download: 75 of 99\n",
      "Thumbnails Successfully Downloaded!\n",
      "Thumbnail Download: 0 of 99\n",
      "Thumbnail Download: 25 of 99\n",
      "Thumbnail Download: 50 of 99\n",
      "Thumbnail Download: 75 of 99\n",
      "Thumbnails Successfully Downloaded!\n",
      "Thumbnail Download: 0 of 99\n",
      "Thumbnail Download: 25 of 99\n",
      "Thumbnail Download: 50 of 99\n",
      "Thumbnail Download: 75 of 99\n",
      "Thumbnails Successfully Downloaded!\n",
      "Thumbnail Download: 0 of 99\n",
      "Thumbnail Download: 25 of 99\n",
      "Thumbnail Download: 50 of 99\n",
      "Thumbnail Download: 75 of 99\n",
      "Thumbnails Successfully Downloaded!\n",
      "Thumbnail Download: 0 of 99\n",
      "Thumbnail Download: 25 of 99\n",
      "Thumbnail Download: 50 of 99\n",
      "Thumbnail Download: 75 of 99\n",
      "Thumbnails Successfully Downloaded!\n",
      "Thumbnail Download: 0 of 99\n",
      "Thumbnail Download: 25 of 99\n",
      "Thumbnail Download: 50 of 99\n",
      "Thumbnail Download: 75 of 99\n",
      "Thumbnails Successfully Downloaded!\n",
      "Thumbnail Download: 0 of 99\n",
      "Thumbnail Download: 25 of 99\n",
      "Thumbnail Download: 50 of 99\n",
      "Thumbnail Download: 75 of 99\n",
      "Thumbnails Successfully Downloaded!\n",
      "Thumbnail Download: 0 of 98\n",
      "Thumbnail Download: 25 of 98\n",
      "Thumbnail Download: 50 of 98\n",
      "Thumbnail Download: 75 of 98\n",
      "Thumbnails Successfully Downloaded!\n",
      "Thumbnail Download: 0 of 97\n",
      "Thumbnail Download: 25 of 97\n",
      "Thumbnail Download: 50 of 97\n",
      "Thumbnail Download: 75 of 97\n",
      "Thumbnails Successfully Downloaded!\n",
      "Thumbnail Download: 0 of 97\n",
      "Thumbnail Download: 25 of 97\n",
      "Thumbnail Download: 50 of 97\n",
      "Thumbnail Download: 75 of 97\n",
      "Thumbnails Successfully Downloaded!\n",
      "Thumbnail Download: 0 of 96\n",
      "Thumbnail Download: 25 of 96\n",
      "Thumbnail Download: 50 of 96\n",
      "Thumbnail Download: 75 of 96\n",
      "Thumbnails Successfully Downloaded!\n",
      "Thumbnail Download: 0 of 96\n",
      "Thumbnail Download: 25 of 96\n",
      "Thumbnail Download: 50 of 96\n",
      "Thumbnail Download: 75 of 96\n",
      "Thumbnails Successfully Downloaded!\n",
      "Thumbnail Download: 0 of 95\n",
      "Thumbnail Download: 25 of 95\n",
      "Thumbnail Download: 50 of 95\n",
      "Thumbnail Download: 75 of 95\n",
      "Thumbnails Successfully Downloaded!\n",
      "Thumbnail Download: 0 of 95\n",
      "Thumbnail Download: 25 of 95\n",
      "Thumbnail Download: 50 of 95\n",
      "Thumbnail Download: 75 of 95\n",
      "Thumbnails Successfully Downloaded!\n",
      "Thumbnail Download: 0 of 94\n",
      "Thumbnail Download: 25 of 94\n",
      "Thumbnail Download: 50 of 94\n",
      "Thumbnail Download: 75 of 94\n",
      "Thumbnails Successfully Downloaded!\n",
      "Thumbnail Download: 0 of 93\n",
      "Thumbnail Download: 25 of 93\n",
      "Thumbnail Download: 50 of 93\n",
      "Thumbnail Download: 75 of 93\n",
      "Thumbnails Successfully Downloaded!\n",
      "Thumbnail Download: 0 of 92\n",
      "Thumbnail Download: 25 of 92\n",
      "Thumbnail Download: 50 of 92\n",
      "Thumbnail Download: 75 of 92\n",
      "Thumbnails Successfully Downloaded!\n",
      "Thumbnail Download: 0 of 88\n",
      "Thumbnail Download: 25 of 88\n",
      "Thumbnail Download: 50 of 88\n",
      "Thumbnail Download: 75 of 88\n",
      "Thumbnails Successfully Downloaded!\n",
      "Thumbnail Download: 0 of 84\n",
      "Thumbnail Download: 25 of 84\n",
      "Thumbnail Download: 50 of 84\n",
      "Thumbnail Download: 75 of 84\n",
      "Thumbnails Successfully Downloaded!\n",
      "Thumbnail Download: 0 of 83\n",
      "Thumbnail Download: 25 of 83\n",
      "Thumbnail Download: 50 of 83\n",
      "Thumbnail Download: 75 of 83\n",
      "Thumbnails Successfully Downloaded!\n",
      "Thumbnail Download: 0 of 82\n",
      "Thumbnail Download: 25 of 82\n",
      "Thumbnail Download: 50 of 82\n",
      "Thumbnail Download: 75 of 82\n",
      "Thumbnails Successfully Downloaded!\n",
      "Thumbnail Download: 0 of 75\n",
      "Thumbnail Download: 25 of 75\n",
      "Thumbnail Download: 50 of 75\n",
      "Thumbnails Successfully Downloaded!\n",
      "Thumbnail Download: 0 of 75\n",
      "Thumbnail Download: 25 of 75\n",
      "Thumbnail Download: 50 of 75\n",
      "Thumbnails Successfully Downloaded!\n",
      "Thumbnail Download: 0 of 73\n",
      "Thumbnail Download: 25 of 73\n",
      "Thumbnail Download: 50 of 73\n",
      "Thumbnails Successfully Downloaded!\n",
      "Thumbnail Download: 0 of 73\n",
      "Thumbnail Download: 25 of 73\n",
      "Thumbnail Download: 50 of 73\n",
      "Thumbnails Successfully Downloaded!\n",
      "Thumbnail Download: 0 of 66\n",
      "Thumbnail Download: 25 of 66\n",
      "Thumbnail Download: 50 of 66\n",
      "Thumbnails Successfully Downloaded!\n",
      "Thumbnail Download: 0 of 62\n",
      "Thumbnail Download: 25 of 62\n",
      "Thumbnail Download: 50 of 62\n",
      "Thumbnails Successfully Downloaded!\n",
      "Thumbnail Download: 0 of 61\n",
      "Thumbnail Download: 25 of 61\n",
      "Thumbnail Download: 50 of 61\n",
      "Thumbnails Successfully Downloaded!\n",
      "Thumbnail Download: 0 of 53\n",
      "Thumbnail Download: 25 of 53\n",
      "Thumbnail Download: 50 of 53\n",
      "Thumbnails Successfully Downloaded!\n",
      "Thumbnail Download: 0 of 49\n",
      "Thumbnail Download: 25 of 49\n",
      "Thumbnails Successfully Downloaded!\n",
      "Thumbnail Download: 0 of 48\n",
      "Thumbnail Download: 25 of 48\n",
      "Thumbnails Successfully Downloaded!\n",
      "Thumbnail Download: 0 of 45\n",
      "Thumbnail Download: 25 of 45\n",
      "Thumbnails Successfully Downloaded!\n",
      "Thumbnail Download: 0 of 42\n",
      "Thumbnail Download: 25 of 42\n",
      "Thumbnails Successfully Downloaded!\n",
      "Thumbnail Download: 0 of 37\n",
      "Thumbnail Download: 25 of 37\n",
      "Thumbnails Successfully Downloaded!\n",
      "Thumbnail Download: 0 of 36\n",
      "Thumbnail Download: 25 of 36\n",
      "Thumbnails Successfully Downloaded!\n",
      "Thumbnail Download: 0 of 34\n",
      "Thumbnail Download: 25 of 34\n",
      "Thumbnails Successfully Downloaded!\n",
      "Thumbnail Download: 0 of 31\n",
      "Thumbnail Download: 25 of 31\n",
      "Thumbnails Successfully Downloaded!\n",
      "Thumbnail Download: 0 of 30\n",
      "Thumbnail Download: 25 of 30\n",
      "Thumbnails Successfully Downloaded!\n",
      "Thumbnail Download: 0 of 16\n",
      "Thumbnails Successfully Downloaded!\n",
      "Thumbnail Download: 0 of 1\n",
      "Thumbnails Successfully Downloaded!\n",
      "Computing basic image stats...\n",
      "Basic Stats Computed! CSV at: ../../data/local/fortnite/video_data/basic_stats_05_01_20.csv\n"
     ]
    }
   ],
   "source": [
    "save_dir = \"../../data/local/fortnite/thumbnails/\"\n",
    "chan_id = \"UC_q5WZtFp36adwqhKpZzxwQ\" # Sypher\n",
    "chan_ids = all_meta['channelId'].value_counts().index\n",
    "for chan_id in chan_ids:\n",
    "    chan_df = all_meta[all_meta['channelId'] == chan_id]\n",
    "    chan_vids = meta.download_df_thumbs(chan_df,save_dir,'medium')\n",
    "chan_basic_df = basic.basic_image_stats(save_dir, \"../../data/local/fortnite/video_data/\",\"bleh\")\n",
    "full_chan = all_meta.merge(chan_basic_df,on='videoId')\n",
    "big_df = pd.concat([big_df,full_chan],sort=True)\n",
    "big_df = big_df.drop_duplicates(subset='videoId')"
   ]
  },
  {
   "cell_type": "code",
   "execution_count": 72,
   "metadata": {},
   "outputs": [],
   "source": [
    "comb_df = big_df.drop_duplicates(subset='videoId')"
   ]
  },
  {
   "cell_type": "code",
   "execution_count": 14,
   "metadata": {},
   "outputs": [],
   "source": [
    "full_sypher = all_meta.merge(sypher_vids,on='videoId')"
   ]
  },
  {
   "cell_type": "code",
   "execution_count": 40,
   "metadata": {},
   "outputs": [],
   "source": [
    "# (big_df['viewCount'] / 1000).describe()"
   ]
  },
  {
   "cell_type": "code",
   "execution_count": 26,
   "metadata": {},
   "outputs": [],
   "source": [
    "sorted_df = big_df.sort_values(by='position',axis=0).reset_index()\n",
    "# pos = sorted_df['position']\n",
    "# views = sorted_df['viewCount']"
   ]
  },
  {
   "cell_type": "code",
   "execution_count": 146,
   "metadata": {},
   "outputs": [],
   "source": [
    "# sorted_df['emotions'].value_counts()"
   ]
  },
  {
   "cell_type": "code",
   "execution_count": 112,
   "metadata": {},
   "outputs": [],
   "source": [
    "# sorted_df['num_rgb']"
   ]
  },
  {
   "cell_type": "code",
   "execution_count": 145,
   "metadata": {},
   "outputs": [],
   "source": [
    "# sorted_df[emotion == True]"
   ]
  },
  {
   "cell_type": "code",
   "execution_count": 105,
   "metadata": {},
   "outputs": [
    {
     "name": "stdout",
     "output_type": "stream",
     "text": [
      "Emotion: angry\n"
     ]
    },
    {
     "data": {
      "text/plain": [
       "count    17.000000\n",
       "mean      0.193462\n",
       "std       0.829647\n",
       "min      -1.295741\n",
       "25%      -0.301868\n",
       "50%       0.054036\n",
       "75%       0.477120\n",
       "max       2.125281\n",
       "Name: z_views, dtype: float64"
      ]
     },
     "metadata": {},
     "output_type": "display_data"
    },
    {
     "data": {
      "image/png": "[encoded data removed]",
      "text/plain": [
       "<Figure size 432x288 with 1 Axes>"
      ]
     },
     "metadata": {
      "needs_background": "light"
     },
     "output_type": "display_data"
    },
    {
     "name": "stdout",
     "output_type": "stream",
     "text": [
      "Emotion: happy\n"
     ]
    },
    {
     "data": {
      "text/plain": [
       "count    21.000000\n",
       "mean      0.296025\n",
       "std       0.781796\n",
       "min      -0.559909\n",
       "25%      -0.127389\n",
       "50%       0.169939\n",
       "75%       0.384649\n",
       "max       2.755193\n",
       "Name: z_views, dtype: float64"
      ]
     },
     "metadata": {},
     "output_type": "display_data"
    },
    {
     "data": {
      "image/png": "[encoded data removed]",
      "text/plain": [
       "<Figure size 432x288 with 1 Axes>"
      ]
     },
     "metadata": {
      "needs_background": "light"
     },
     "output_type": "display_data"
    },
    {
     "name": "stdout",
     "output_type": "stream",
     "text": [
      "Emotion: sad\n"
     ]
    },
    {
     "data": {
      "text/plain": [
       "count    9.000000\n",
       "mean    -0.065563\n",
       "std      0.762478\n",
       "min     -0.739990\n",
       "25%     -0.307306\n",
       "50%     -0.278040\n",
       "75%     -0.141449\n",
       "max      1.899892\n",
       "Name: z_views, dtype: float64"
      ]
     },
     "metadata": {},
     "output_type": "display_data"
    },
    {
     "data": {
      "image/png": "[encoded data removed]",
      "text/plain": [
       "<Figure size 432x288 with 1 Axes>"
      ]
     },
     "metadata": {
      "needs_background": "light"
     },
     "output_type": "display_data"
    },
    {
     "name": "stdout",
     "output_type": "stream",
     "text": [
      "Emotion: fear\n"
     ]
    },
    {
     "data": {
      "text/plain": [
       "count    24.000000\n",
       "mean      0.452787\n",
       "std       0.845017\n",
       "min      -0.761073\n",
       "25%      -0.273876\n",
       "50%       0.433260\n",
       "75%       1.003750\n",
       "max       1.874329\n",
       "Name: z_views, dtype: float64"
      ]
     },
     "metadata": {},
     "output_type": "display_data"
    },
    {
     "data": {
      "image/png": "[encoded data removed]",
      "text/plain": [
       "<Figure size 432x288 with 1 Axes>"
      ]
     },
     "metadata": {
      "needs_background": "light"
     },
     "output_type": "display_data"
    },
    {
     "name": "stdout",
     "output_type": "stream",
     "text": [
      "Emotion: neutral\n"
     ]
    },
    {
     "data": {
      "text/plain": [
       "count    29.000000\n",
       "mean      0.491426\n",
       "std       0.909653\n",
       "min      -0.722125\n",
       "25%      -0.230385\n",
       "50%       0.287917\n",
       "75%       1.008026\n",
       "max       2.426124\n",
       "Name: z_views, dtype: float64"
      ]
     },
     "metadata": {},
     "output_type": "display_data"
    },
    {
     "data": {
      "image/png": "[encoded data removed]",
      "text/plain": [
       "<Figure size 432x288 with 1 Axes>"
      ]
     },
     "metadata": {
      "needs_background": "light"
     },
     "output_type": "display_data"
    },
    {
     "name": "stdout",
     "output_type": "stream",
     "text": [
      "Emotion: surprise\n"
     ]
    },
    {
     "data": {
      "text/plain": [
       "count    21.000000\n",
       "mean      0.269795\n",
       "std       0.920324\n",
       "min      -1.295741\n",
       "25%      -0.559909\n",
       "50%       0.267903\n",
       "75%       1.124928\n",
       "max       1.768369\n",
       "Name: z_views, dtype: float64"
      ]
     },
     "metadata": {},
     "output_type": "display_data"
    },
    {
     "data": {
      "image/png": "[encoded data removed]",
      "text/plain": [
       "<Figure size 432x288 with 1 Axes>"
      ]
     },
     "metadata": {
      "needs_background": "light"
     },
     "output_type": "display_data"
    }
   ],
   "source": [
    "emotions = ['angry', 'happy', 'sad', 'fear', 'neutral', 'surprise']\n",
    "for targ in emotions:\n",
    "# targ = emotions[1]\n",
    "    emotion = sorted_df['emotions'].apply(lambda x: targ in x if type(x) == str else x)\n",
    "    print(\"Emotion:\",targ)\n",
    "    display(sorted_df[emotion == True]['z_views'].describe())\n",
    "    plt.scatter(emotion,sorted_df['z_views'])\n",
    "    plt.show()"
   ]
  },
  {
   "cell_type": "code",
   "execution_count": 110,
   "metadata": {},
   "outputs": [
    {
     "data": {
      "text/plain": [
       "count    200.000000\n",
       "mean       0.625000\n",
       "std        0.732844\n",
       "min        0.000000\n",
       "25%        0.000000\n",
       "50%        1.000000\n",
       "75%        1.000000\n",
       "max        4.000000\n",
       "Name: emotions, dtype: float64"
      ]
     },
     "metadata": {},
     "output_type": "display_data"
    },
    {
     "data": {
      "text/plain": [
       "<matplotlib.collections.PathCollection at 0x124bc4350>"
      ]
     },
     "execution_count": 110,
     "metadata": {},
     "output_type": "execute_result"
    },
    {
     "data": {
      "image/png": "[encoded data removed]",
      "text/plain": [
       "<Figure size 432x288 with 1 Axes>"
      ]
     },
     "metadata": {
      "needs_background": "light"
     },
     "output_type": "display_data"
    }
   ],
   "source": [
    "emotion = sorted_df['emotions'].apply(lambda x: len(ast.literal_eval(x)) if type(x) == str else 0)\n",
    "# print(\"Emotion:\",targ)\n",
    "display(emotion.describe())\n",
    "plt.scatter(emotion,sorted_df['z_views'])\n",
    "# plt.show()"
   ]
  },
  {
   "cell_type": "code",
   "execution_count": 133,
   "metadata": {},
   "outputs": [
    {
     "data": {
      "text/plain": [
       "Index(['index', 'videoId', 'numFaces', 'emotions', 'face_locations',\n",
       "       'face_percent', 'age', 'gender', 'race', 'categoryId', 'channelId',\n",
       "       'channelTitle', 'commentCount', 'date', 'defaultLanguage',\n",
       "       'description', 'dislikeCount', 'duration', 'favoriteCount', 'likeCount',\n",
       "       'tags', 'thumbnails', 'title', 'viewCount', 'z_comments', 'z_dislikes',\n",
       "       'z_likes', 'z_views', 'position', 'thumbnailFilename', 'width',\n",
       "       'height', 'size', 'num_rgb', 'mean_hue', 'mean_saturation',\n",
       "       'mean_brightness', 'contrast', 'edge_score'],\n",
       "      dtype='object')"
      ]
     },
     "execution_count": 133,
     "metadata": {},
     "output_type": "execute_result"
    }
   ],
   "source": [
    "sorted_df.columns"
   ]
  },
  {
   "cell_type": "code",
   "execution_count": 103,
   "metadata": {
    "scrolled": true
   },
   "outputs": [],
   "source": [
    "basic_img_feats = ['num_rgb','mean_hue','mean_saturation','mean_brightness','contrast','edge_score']\n",
    "meta_feats = ['z_views']\n",
    "def get_corr(img_feats, meta_feats,df,sign):\n",
    "    for col in meta_feats:\n",
    "        for col2 in img_feats:\n",
    "        #     col = 'z_views'\n",
    "        #     col2 = 'contrast'\n",
    "            step1 = df[df[col].notnull()]\n",
    "            filtered = step1[step1[col2].notnull()]\n",
    "            corr = np.corrcoef(filtered[col],filtered[col2])[0][1]\n",
    "            if sign == \"-\":\n",
    "                if corr < 0:\n",
    "                    print(col, col2, corr)\n",
    "                    print('---------------')\n",
    "            else:\n",
    "                if corr > 0:\n",
    "                    print(col, col2, corr)\n",
    "                    print('---------------')\n",
    "# get_corr(basic_img_feats, meta_feats, big_df)"
   ]
  },
  {
   "cell_type": "code",
   "execution_count": 160,
   "metadata": {},
   "outputs": [
    {
     "data": {
      "text/plain": [
       "count    197.000000\n",
       "mean       0.470532\n",
       "50%        0.194955\n",
       "Name: z_views, dtype: float64"
      ]
     },
     "execution_count": 160,
     "metadata": {},
     "output_type": "execute_result"
    }
   ],
   "source": [
    "sorted_df['z_views'].describe()[['count','mean','50%']]"
   ]
  },
  {
   "cell_type": "code",
   "execution_count": 17,
   "metadata": {},
   "outputs": [],
   "source": [
    "def get_range(col_name, df):\n",
    "    stats = df[col_name].describe()\n",
    "    col_range = np.arange(stats['25%'],stats['max'],stats['std']/3)\n",
    "    return col_range"
   ]
  },
  {
   "cell_type": "code",
   "execution_count": 24,
   "metadata": {},
   "outputs": [],
   "source": [
    "def tune_params(df, c1, c2):\n",
    "    baseline_stats = df['z_views'].describe()\n",
    "    base_mean = baseline_stats['mean']\n",
    "    base_median = baseline_stats['50%']\n",
    "    print(\"baseline:     \",\n",
    "          \"count:\",baseline_stats['count'],\n",
    "          \"mean:\",baseline_stats['mean'].round(3),\n",
    "          \"median:\",baseline_stats['50%'].round(3))\n",
    "    # print('---------------------------------------')\n",
    "    #['baseline',0,baseline_stats['count'],baseline_stats['mean'],baseline_stats['50%']]\n",
    "    rel_stats = []\n",
    "    c1_range = get_range(c1,df)\n",
    "    c2_range = get_range(c2,df)\n",
    "    for c1_cutoff in c1_range:\n",
    "        for c2_cutoff in c2_range:\n",
    "            filtered = df.apply(lambda x: x[c1] > c1_cutoff and x[c2] > c2_cutoff,axis=1)\n",
    "            stats = df[filtered]['z_views'].describe()\n",
    "            cur_count = stats['count']\n",
    "            cur_mean = stats['mean']\n",
    "            cur_median = stats['50%']\n",
    "            cur_stats_list = [c1,c1_cutoff,c2,c2_cutoff,cur_count, cur_mean, cur_median]\n",
    "            rel_stats.append(cur_stats_list)\n",
    "    res_df = pd.DataFrame(rel_stats, columns=['col1','col1cutoff','col2','col2cutoff','count','mean','median'])\n",
    "    not_null_df = res_df[res_df['mean'].notnull()]\n",
    "    better_df = not_null_df[not_null_df.apply(\n",
    "        lambda x: x['mean'] > base_mean and x['median'] > base_median,axis=1)]\n",
    "    return better_df"
   ]
  },
  {
   "cell_type": "code",
   "execution_count": 66,
   "metadata": {},
   "outputs": [],
   "source": [
    "c1 = 'num_rgb'\n",
    "c2 = 'mean_saturation'\n",
    "# comb_df = pd.concat([big_df,full_sypher],sort=True).drop_duplicates(subset='videoId')"
   ]
  },
  {
   "cell_type": "code",
   "execution_count": 86,
   "metadata": {},
   "outputs": [
    {
     "name": "stdout",
     "output_type": "stream",
     "text": [
      "count     8691.000000\n",
      "mean     38674.577609\n",
      "std       8016.534842\n",
      "min          1.000000\n",
      "25%      34437.000000\n",
      "50%      40100.000000\n",
      "75%      44493.500000\n",
      "max      54100.000000\n",
      "Name: num_rgb, dtype: float64\n",
      "count    8691.000000\n",
      "mean        0.548244\n",
      "std         0.144017\n",
      "min         0.000000\n",
      "25%         0.453369\n",
      "50%         0.547083\n",
      "75%         0.638512\n",
      "max         0.965595\n",
      "Name: mean_saturation, dtype: float64\n"
     ]
    }
   ],
   "source": [
    "print(comb_df[c1].describe())\n",
    "print(comb_df[c2].describe())"
   ]
  },
  {
   "cell_type": "code",
   "execution_count": 104,
   "metadata": {},
   "outputs": [
    {
     "name": "stdout",
     "output_type": "stream",
     "text": [
      "z_views mean_hue -0.010943508487803354\n",
      "---------------\n",
      "z_views mean_brightness -0.00046899716773006705\n",
      "---------------\n",
      "z_views contrast -0.028705867810860618\n",
      "---------------\n"
     ]
    }
   ],
   "source": [
    "get_corr(basic_img_feats, meta_feats, comb_df, '-')"
   ]
  },
  {
   "cell_type": "code",
   "execution_count": 105,
   "metadata": {},
   "outputs": [
    {
     "name": "stdout",
     "output_type": "stream",
     "text": [
      "z_views num_rgb 0.04453263307200701\n",
      "---------------\n",
      "z_views mean_saturation 0.026305303970511302\n",
      "---------------\n",
      "z_views edge_score 0.016457377143015064\n",
      "---------------\n"
     ]
    }
   ],
   "source": [
    "get_corr(basic_img_feats, meta_feats, comb_df, '+')"
   ]
  },
  {
   "cell_type": "code",
   "execution_count": 74,
   "metadata": {},
   "outputs": [
    {
     "name": "stdout",
     "output_type": "stream",
     "text": [
      "baseline:      count: 8688.0 mean: -0.0 median: -0.273\n"
     ]
    }
   ],
   "source": [
    "tuned_df = tune_params(comb_df)\n",
    "tuned_df['mm_sum'] = tuned_df['mean'] + tuned_df['median']"
   ]
  },
  {
   "cell_type": "code",
   "execution_count": 88,
   "metadata": {},
   "outputs": [],
   "source": [
    "top_df = tuned_df.sort_values(by='mm_sum',ascending=False)"
   ]
  },
  {
   "cell_type": "code",
   "execution_count": 112,
   "metadata": {},
   "outputs": [],
   "source": [
    "rgb_cutoff = top_df['col1cutoff'].describe()['mean']\n",
    "sat_cutoff = top_df['col2cutoff'].describe()['mean']"
   ]
  },
  {
   "cell_type": "code",
   "execution_count": 113,
   "metadata": {},
   "outputs": [
    {
     "data": {
      "text/plain": [
       "count    8.688000e+03\n",
       "mean    -2.990242e-17\n",
       "std      1.000058e+00\n",
       "min     -2.289175e+00\n",
       "25%     -6.040413e-01\n",
       "50%     -2.726622e-01\n",
       "75%      2.933374e-01\n",
       "max      9.058706e+00\n",
       "Name: z_views, dtype: float64"
      ]
     },
     "execution_count": 113,
     "metadata": {},
     "output_type": "execute_result"
    }
   ],
   "source": [
    "comb_df['z_views'].describe()"
   ]
  },
  {
   "cell_type": "code",
   "execution_count": 114,
   "metadata": {},
   "outputs": [
    {
     "data": {
      "text/plain": [
       "count    784.000000\n",
       "mean       0.066850\n",
       "std        1.003638\n",
       "min       -1.365103\n",
       "25%       -0.600385\n",
       "50%       -0.185871\n",
       "75%        0.389026\n",
       "max        6.558268\n",
       "Name: z_views, dtype: float64"
      ]
     },
     "execution_count": 114,
     "metadata": {},
     "output_type": "execute_result"
    }
   ],
   "source": [
    "top_cut = comb_df[comb_df.apply(\n",
    "    lambda x: x['num_rgb'] > rgb_cutoff and x['mean_saturation'] > sat_cutoff,axis=1)]\n",
    "top_cut['z_views'].describe()"
   ]
  },
  {
   "cell_type": "code",
   "execution_count": 141,
   "metadata": {},
   "outputs": [],
   "source": [
    "top_200 = pd.read_csv('../../data/local/fortnite/video_data/merged_df.csv').drop(\"Unnamed: 0\",axis=1)\n",
    "full_views = top_200[top_200['z_views'].notnull()]"
   ]
  },
  {
   "cell_type": "code",
   "execution_count": 144,
   "metadata": {},
   "outputs": [
    {
     "data": {
      "text/plain": [
       "['num_rgb',\n",
       " 'mean_hue',\n",
       " 'mean_saturation',\n",
       " 'mean_brightness',\n",
       " 'contrast',\n",
       " 'edge_score']"
      ]
     },
     "execution_count": 144,
     "metadata": {},
     "output_type": "execute_result"
    }
   ],
   "source": [
    "basic_img_feats"
   ]
  },
  {
   "cell_type": "code",
   "execution_count": 143,
   "metadata": {},
   "outputs": [
    {
     "name": "stderr",
     "output_type": "stream",
     "text": [
      "/opt/anaconda3/lib/python3.7/site-packages/sklearn/ensemble/forest.py:245: FutureWarning: The default value of n_estimators will change from 10 in version 0.20 to 100 in 0.22.\n",
      "  \"10 in version 0.20 to 100 in 0.22.\", FutureWarning)\n",
      "/opt/anaconda3/lib/python3.7/site-packages/ipykernel_launcher.py:2: DataConversionWarning: A column-vector y was passed when a 1d array was expected. Please change the shape of y to (n_samples,), for example using ravel().\n",
      "  \n"
     ]
    },
    {
     "data": {
      "text/plain": [
       "array([0.17936897, 0.1616059 , 0.15072933, 0.19304113, 0.1560668 ,\n",
       "       0.15918786])"
      ]
     },
     "execution_count": 143,
     "metadata": {},
     "output_type": "execute_result"
    }
   ],
   "source": [
    "rf = RandomForestRegressor()\n",
    "rf.fit(full_views[basic_img_feats],full_views[['position']])\n",
    "rf.feature_importances_"
   ]
  },
  {
   "cell_type": "code",
   "execution_count": 217,
   "metadata": {},
   "outputs": [
    {
     "name": "stdout",
     "output_type": "stream",
     "text": [
      "baseline:      count: 197.0 mean: 0.471 median: 0.195\n"
     ]
    }
   ],
   "source": [
    "# baseline_stats = sorted_df['z_views'].describe()\n",
    "# print(\"baseline:     \",\n",
    "#       \"count:\",baseline_stats['count'],\n",
    "#       \"mean:\",baseline_stats['mean'].round(3),\n",
    "#       \"median:\",baseline_stats['50%'].round(3))\n",
    "# # print('---------------------------------------')\n",
    "# #['baseline',0,baseline_stats['count'],baseline_stats['mean'],baseline_stats['50%']]\n",
    "# rel_stats = []\n",
    "# c1 = 'num_rgb'\n",
    "# c1_range = get_range(c1,sorted_df)\n",
    "# c2 = 'mean_saturation'\n",
    "# c2_range = get_range(c2, sorted_df)\n",
    "# for c1_cutoff in c1_range:\n",
    "#     for c2_cutoff in c2_range:\n",
    "#         filtered = sorted_df.apply(lambda x: x[c1] > c1_cutoff and x[c2] > c2_cutoff,axis=1)\n",
    "#         stats = sorted_df[filtered]['z_views'].describe()\n",
    "#         cur_count = stats['count']\n",
    "#         cur_mean = stats['mean']\n",
    "#         cur_median = stats['50%']\n",
    "#         cur_stats_list = [c1,c1_cutoff,c2,c2_cutoff,cur_count, cur_mean, cur_median]\n",
    "#         rel_stats.append(cur_stats_list)\n",
    "# res_df = pd.DataFrame(rel_stats, columns=['col1','col1cutoff','col2','col2cutoff','count','mean','median'])"
   ]
  },
  {
   "cell_type": "code",
   "execution_count": 224,
   "metadata": {},
   "outputs": [
    {
     "data": {
      "text/html": [
       "<div>\n",
       "<style scoped>\n",
       "    .dataframe tbody tr th:only-of-type {\n",
       "        vertical-align: middle;\n",
       "    }\n",
       "\n",
       "    .dataframe tbody tr th {\n",
       "        vertical-align: top;\n",
       "    }\n",
       "\n",
       "    .dataframe thead th {\n",
       "        text-align: right;\n",
       "    }\n",
       "</style>\n",
       "<table border=\"1\" class=\"dataframe\">\n",
       "  <thead>\n",
       "    <tr style=\"text-align: right;\">\n",
       "      <th></th>\n",
       "      <th>col1</th>\n",
       "      <th>col1cutoff</th>\n",
       "      <th>col2</th>\n",
       "      <th>col2cutoff</th>\n",
       "      <th>count</th>\n",
       "      <th>mean</th>\n",
       "      <th>median</th>\n",
       "    </tr>\n",
       "  </thead>\n",
       "  <tbody>\n",
       "    <tr>\n",
       "      <td>6</td>\n",
       "      <td>num_rgb</td>\n",
       "      <td>37527.250000</td>\n",
       "      <td>mean_saturation</td>\n",
       "      <td>0.751865</td>\n",
       "      <td>6.0</td>\n",
       "      <td>1.244212</td>\n",
       "      <td>1.575375</td>\n",
       "    </tr>\n",
       "    <tr>\n",
       "      <td>7</td>\n",
       "      <td>num_rgb</td>\n",
       "      <td>37527.250000</td>\n",
       "      <td>mean_saturation</td>\n",
       "      <td>0.794585</td>\n",
       "      <td>2.0</td>\n",
       "      <td>0.693384</td>\n",
       "      <td>0.693384</td>\n",
       "    </tr>\n",
       "    <tr>\n",
       "      <td>17</td>\n",
       "      <td>num_rgb</td>\n",
       "      <td>39888.107127</td>\n",
       "      <td>mean_saturation</td>\n",
       "      <td>0.751865</td>\n",
       "      <td>3.0</td>\n",
       "      <td>1.549299</td>\n",
       "      <td>2.505676</td>\n",
       "    </tr>\n",
       "    <tr>\n",
       "      <td>24</td>\n",
       "      <td>num_rgb</td>\n",
       "      <td>42248.964255</td>\n",
       "      <td>mean_saturation</td>\n",
       "      <td>0.580985</td>\n",
       "      <td>43.0</td>\n",
       "      <td>0.510101</td>\n",
       "      <td>0.267903</td>\n",
       "    </tr>\n",
       "    <tr>\n",
       "      <td>28</td>\n",
       "      <td>num_rgb</td>\n",
       "      <td>42248.964255</td>\n",
       "      <td>mean_saturation</td>\n",
       "      <td>0.751865</td>\n",
       "      <td>1.0</td>\n",
       "      <td>2.505676</td>\n",
       "      <td>2.505676</td>\n",
       "    </tr>\n",
       "    <tr>\n",
       "      <td>35</td>\n",
       "      <td>num_rgb</td>\n",
       "      <td>44609.821382</td>\n",
       "      <td>mean_saturation</td>\n",
       "      <td>0.580985</td>\n",
       "      <td>27.0</td>\n",
       "      <td>0.566492</td>\n",
       "      <td>0.384649</td>\n",
       "    </tr>\n",
       "    <tr>\n",
       "      <td>44</td>\n",
       "      <td>num_rgb</td>\n",
       "      <td>46970.678509</td>\n",
       "      <td>mean_saturation</td>\n",
       "      <td>0.495544</td>\n",
       "      <td>27.0</td>\n",
       "      <td>0.623996</td>\n",
       "      <td>0.321709</td>\n",
       "    </tr>\n",
       "    <tr>\n",
       "      <td>45</td>\n",
       "      <td>num_rgb</td>\n",
       "      <td>46970.678509</td>\n",
       "      <td>mean_saturation</td>\n",
       "      <td>0.538265</td>\n",
       "      <td>21.0</td>\n",
       "      <td>0.653347</td>\n",
       "      <td>0.321709</td>\n",
       "    </tr>\n",
       "    <tr>\n",
       "      <td>46</td>\n",
       "      <td>num_rgb</td>\n",
       "      <td>46970.678509</td>\n",
       "      <td>mean_saturation</td>\n",
       "      <td>0.580985</td>\n",
       "      <td>16.0</td>\n",
       "      <td>0.617125</td>\n",
       "      <td>0.326276</td>\n",
       "    </tr>\n",
       "    <tr>\n",
       "      <td>55</td>\n",
       "      <td>num_rgb</td>\n",
       "      <td>49331.535637</td>\n",
       "      <td>mean_saturation</td>\n",
       "      <td>0.495544</td>\n",
       "      <td>11.0</td>\n",
       "      <td>0.647302</td>\n",
       "      <td>0.267903</td>\n",
       "    </tr>\n",
       "    <tr>\n",
       "      <td>56</td>\n",
       "      <td>num_rgb</td>\n",
       "      <td>49331.535637</td>\n",
       "      <td>mean_saturation</td>\n",
       "      <td>0.538265</td>\n",
       "      <td>10.0</td>\n",
       "      <td>0.693706</td>\n",
       "      <td>0.326276</td>\n",
       "    </tr>\n",
       "    <tr>\n",
       "      <td>57</td>\n",
       "      <td>num_rgb</td>\n",
       "      <td>49331.535637</td>\n",
       "      <td>mean_saturation</td>\n",
       "      <td>0.580985</td>\n",
       "      <td>8.0</td>\n",
       "      <td>0.678030</td>\n",
       "      <td>0.326276</td>\n",
       "    </tr>\n",
       "    <tr>\n",
       "      <td>59</td>\n",
       "      <td>num_rgb</td>\n",
       "      <td>49331.535637</td>\n",
       "      <td>mean_saturation</td>\n",
       "      <td>0.666425</td>\n",
       "      <td>2.0</td>\n",
       "      <td>0.539079</td>\n",
       "      <td>0.539079</td>\n",
       "    </tr>\n",
       "  </tbody>\n",
       "</table>\n",
       "</div>"
      ],
      "text/plain": [
       "       col1    col1cutoff             col2  col2cutoff  count      mean  \\\n",
       "6   num_rgb  37527.250000  mean_saturation    0.751865    6.0  1.244212   \n",
       "7   num_rgb  37527.250000  mean_saturation    0.794585    2.0  0.693384   \n",
       "17  num_rgb  39888.107127  mean_saturation    0.751865    3.0  1.549299   \n",
       "24  num_rgb  42248.964255  mean_saturation    0.580985   43.0  0.510101   \n",
       "28  num_rgb  42248.964255  mean_saturation    0.751865    1.0  2.505676   \n",
       "35  num_rgb  44609.821382  mean_saturation    0.580985   27.0  0.566492   \n",
       "44  num_rgb  46970.678509  mean_saturation    0.495544   27.0  0.623996   \n",
       "45  num_rgb  46970.678509  mean_saturation    0.538265   21.0  0.653347   \n",
       "46  num_rgb  46970.678509  mean_saturation    0.580985   16.0  0.617125   \n",
       "55  num_rgb  49331.535637  mean_saturation    0.495544   11.0  0.647302   \n",
       "56  num_rgb  49331.535637  mean_saturation    0.538265   10.0  0.693706   \n",
       "57  num_rgb  49331.535637  mean_saturation    0.580985    8.0  0.678030   \n",
       "59  num_rgb  49331.535637  mean_saturation    0.666425    2.0  0.539079   \n",
       "\n",
       "      median  \n",
       "6   1.575375  \n",
       "7   0.693384  \n",
       "17  2.505676  \n",
       "24  0.267903  \n",
       "28  2.505676  \n",
       "35  0.384649  \n",
       "44  0.321709  \n",
       "45  0.321709  \n",
       "46  0.326276  \n",
       "55  0.267903  \n",
       "56  0.326276  \n",
       "57  0.326276  \n",
       "59  0.539079  "
      ]
     },
     "execution_count": 224,
     "metadata": {},
     "output_type": "execute_result"
    }
   ],
   "source": [
    "not_null_df = res_df[res_df['mean'].notnull()]\n",
    "not_null_df[not_null_df.apply(lambda x: x['mean'] > .5 and x['median']> .2,axis=1)]"
   ]
  },
  {
   "cell_type": "code",
   "execution_count": 175,
   "metadata": {},
   "outputs": [
    {
     "data": {
      "text/plain": [
       "array([0.49554449, 0.53826456, 0.58098462, 0.62370469])"
      ]
     },
     "execution_count": 175,
     "metadata": {},
     "output_type": "execute_result"
    }
   ],
   "source": [
    "c1 = 'mean_saturation'\n",
    "c1_stats = sorted_df[c1].describe()\n",
    "c1_range = np.arange(c1_stats['25%'],c1_stats['75%'],c1_stats['std']/3)\n",
    "c1_range"
   ]
  },
  {
   "cell_type": "code",
   "execution_count": 174,
   "metadata": {},
   "outputs": [
    {
     "data": {
      "text/plain": [
       "count    200.000000\n",
       "mean       0.575213\n",
       "std        0.128160\n",
       "min        0.145420\n",
       "25%        0.495544\n",
       "50%        0.580491\n",
       "75%        0.645000\n",
       "max        0.931415\n",
       "Name: mean_saturation, dtype: float64"
      ]
     },
     "execution_count": 174,
     "metadata": {},
     "output_type": "execute_result"
    }
   ],
   "source": [
    "c1_stats"
   ]
  },
  {
   "cell_type": "code",
   "execution_count": 153,
   "metadata": {},
   "outputs": [
    {
     "data": {
      "text/plain": [
       "count    197.000000\n",
       "mean       0.470532\n",
       "std        0.963514\n",
       "min       -1.295741\n",
       "25%       -0.214567\n",
       "50%        0.194955\n",
       "75%        0.947598\n",
       "max        4.664359\n",
       "Name: z_views, dtype: float64"
      ]
     },
     "execution_count": 153,
     "metadata": {},
     "output_type": "execute_result"
    }
   ],
   "source": [
    "sorted_df['z_views'].describe()"
   ]
  },
  {
   "cell_type": "code",
   "execution_count": 119,
   "metadata": {},
   "outputs": [
    {
     "data": {
      "text/plain": [
       "<matplotlib.collections.PathCollection at 0x13f89be50>"
      ]
     },
     "execution_count": 119,
     "metadata": {},
     "output_type": "execute_result"
    },
    {
     "data": {
      "image/png": "[encoded data removed]",
      "text/plain": [
       "<Figure size 432x288 with 1 Axes>"
      ]
     },
     "metadata": {
      "needs_background": "light"
     },
     "output_type": "display_data"
    }
   ],
   "source": [
    "col = 'contrast'\n",
    "print(sorted_df[col].describe())\n",
    "plt.scatter(sorted_df['contrast'],sorted_df['z_views'])"
   ]
  },
  {
   "cell_type": "code",
   "execution_count": 149,
   "metadata": {},
   "outputs": [
    {
     "data": {
      "text/plain": [
       "count    200.000000\n",
       "mean      63.098340\n",
       "std       10.047576\n",
       "min       31.574609\n",
       "25%       57.030288\n",
       "50%       62.972601\n",
       "75%       69.204950\n",
       "max       90.110612\n",
       "Name: contrast, dtype: float64"
      ]
     },
     "execution_count": 149,
     "metadata": {},
     "output_type": "execute_result"
    }
   ],
   "source": [
    "sorted_df['contrast'].describe()"
   ]
  },
  {
   "cell_type": "code",
   "execution_count": 114,
   "metadata": {},
   "outputs": [
    {
     "data": {
      "text/plain": [
       "Index(['index', 'videoId', 'numFaces', 'emotions', 'face_locations',\n",
       "       'face_percent', 'age', 'gender', 'race', 'categoryId', 'channelId',\n",
       "       'channelTitle', 'commentCount', 'date', 'defaultLanguage',\n",
       "       'description', 'dislikeCount', 'duration', 'favoriteCount', 'likeCount',\n",
       "       'tags', 'thumbnails', 'title', 'viewCount', 'z_comments', 'z_dislikes',\n",
       "       'z_likes', 'z_views', 'position', 'thumbnailFilename', 'width',\n",
       "       'height', 'size', 'num_rgb', 'mean_hue', 'mean_saturation',\n",
       "       'mean_brightness', 'contrast', 'edge_score'],\n",
       "      dtype='object')"
      ]
     },
     "execution_count": 114,
     "metadata": {},
     "output_type": "execute_result"
    }
   ],
   "source": [
    "sorted_df.columns"
   ]
  },
  {
   "cell_type": "code",
   "execution_count": 226,
   "metadata": {},
   "outputs": [],
   "source": [
    "sys.path.insert(0, os.path.abspath(\"../../\" + 'src/scraping'))\n",
    "import metadata as meta\n",
    "sys.path.insert(0, os.path.abspath(\"../../\" + \"src/modeling\"))\n",
    "import basic_stats as basic"
   ]
  },
  {
   "cell_type": "code",
   "execution_count": null,
   "metadata": {},
   "outputs": [],
   "source": []
  },
  {
   "cell_type": "code",
   "execution_count": null,
   "metadata": {},
   "outputs": [],
   "source": []
  },
  {
   "cell_type": "code",
   "execution_count": null,
   "metadata": {},
   "outputs": [],
   "source": []
  },
  {
   "cell_type": "code",
   "execution_count": 87,
   "metadata": {},
   "outputs": [],
   "source": [
    "df = pd.read_csv(\"../../data/test/fortnite/video_data/fortnite_full_metadata.csv\")\n",
    "basic_stats_df = pd.read_csv(\"../../data/test/fortnite/video_data/basic_stats_04_27_20.csv\")"
   ]
  },
  {
   "cell_type": "code",
   "execution_count": 88,
   "metadata": {},
   "outputs": [],
   "source": [
    "basic_stats_df.set_index(\"videoId\")\n",
    "df.set_index(\"videoId\")\n",
    "df = df[df['channelId'].notnull()]"
   ]
  },
  {
   "cell_type": "code",
   "execution_count": 89,
   "metadata": {},
   "outputs": [],
   "source": [
    "# for vid_id in basic_stats_df['videoId'].values:\n",
    "#     if vid_id not in df['videoId'].values:\n",
    "#         print(vid_id)"
   ]
  },
  {
   "cell_type": "code",
   "execution_count": 90,
   "metadata": {},
   "outputs": [],
   "source": [
    "merged_df = df.merge(basic_stats_df,how=\"left\",on=\"videoId\")"
   ]
  },
  {
   "cell_type": "code",
   "execution_count": 91,
   "metadata": {},
   "outputs": [
    {
     "data": {
      "text/plain": [
       "Index(['categoryId', 'channelId', 'channelTitle', 'commentCount', 'date',\n",
       "       'defaultLanguage', 'description', 'dislikeCount', 'duration',\n",
       "       'favoriteCount', 'likeCount', 'tags', 'thumbnails', 'title', 'videoId',\n",
       "       'viewCount', 'z_comments', 'z_dislikes', 'z_likes', 'z_views',\n",
       "       'position', 'thumbnailFilename', 'size', 'num_rgb', 'unique_rgb_ratio',\n",
       "       'mean_hue', 'mean_saturation', 'mean_brightness', 'contrast',\n",
       "       'edge_score'],\n",
       "      dtype='object')"
      ]
     },
     "execution_count": 91,
     "metadata": {},
     "output_type": "execute_result"
    }
   ],
   "source": [
    "merged_df.columns"
   ]
  },
  {
   "cell_type": "code",
   "execution_count": 85,
   "metadata": {},
   "outputs": [
    {
     "data": {
      "text/plain": [
       "'_04_27_20'"
      ]
     },
     "execution_count": 85,
     "metadata": {},
     "output_type": "execute_result"
    }
   ],
   "source": [
    "datetime.now().strftime(\"_%m_%d_%y\")"
   ]
  },
  {
   "cell_type": "code",
   "execution_count": 117,
   "metadata": {},
   "outputs": [],
   "source": [
    "s = str({\"cmd\":\"LOG\",\"devmac\":\"CC:50:E3:B0:21:8C\",\"gid\":\"05\", \"BLEInfo\":{\"beacons\": [{\"mac\":\"4e:8c:c8:e5:1b:e8\",\"rssi\":\"-79\",\"msgtype\":\"iBeacon\"},{\"mac\":\"48:ee:a2:7f:38:76\",\"rssi\":\"-42\",\"msgtype\":\"iBeacon\"},{\"mac\":\"4e:8c:c8:e5:1b:e8\",\"rssi\":\"-79\",\"msgtype\":\"iBeacon\"},{\"mac\":\"48:ee:a2:7f:38:76\",\"rssi\":\"-42\",\"msgtype\":\"iBeacon\"},{\"mac\":\"4e:8c:c8:e5:1b:e8\",\"rssi\":\"-77\",\"msgtype\":\"iBeacon\"},{\"mac\":\"4e:8c:c8:e5:1b:e8\",\"rssi\":\"-79\",\"msgtype\":\"iBeacon\"}]}})"
   ]
  },
  {
   "cell_type": "code",
   "execution_count": 129,
   "metadata": {},
   "outputs": [
    {
     "data": {
      "text/plain": [
       "'{\\r\\n  \"cmd\": \"GROUPS\"\\r\\n}'"
      ]
     },
     "execution_count": 129,
     "metadata": {},
     "output_type": "execute_result"
    }
   ],
   "source": [
    "s = '{\\r\\n  \"cmd\": \"GROUPS\"\\r\\n}'\n",
    "s"
   ]
  },
  {
   "cell_type": "code",
   "execution_count": 126,
   "metadata": {},
   "outputs": [
    {
     "data": {
      "text/plain": [
       "'{\\r\\n  \"cmd\": \"GROUPS\"\\r\\n}'"
      ]
     },
     "execution_count": 126,
     "metadata": {},
     "output_type": "execute_result"
    }
   ],
   "source": []
  },
  {
   "cell_type": "code",
   "execution_count": null,
   "metadata": {},
   "outputs": [],
   "source": []
  }
 ],
 "metadata": {
  "kernelspec": {
   "display_name": "Python 3",
   "language": "python",
   "name": "python3"
  },
  "language_info": {
   "codemirror_mode": {
    "name": "ipython",
    "version": 3
   },
   "file_extension": ".py",
   "mimetype": "text/x-python",
   "name": "python",
   "nbconvert_exporter": "python",
   "pygments_lexer": "ipython3",
   "version": "3.7.4"
  }
 },
 "nbformat": 4,
 "nbformat_minor": 2
}
